{
 "cells": [
  {
   "cell_type": "code",
   "execution_count": 1,
   "metadata": {},
   "outputs": [],
   "source": [
    "import pandas as pd\n",
    "import numpy as np\n",
    "import matplotlib.pyplot as plt\n",
    "import seaborn as sns\n",
    "import math\n",
    "from sklearn.model_selection import train_test_split\n",
    "from sklearn.metrics import mean_squared_error, r2_score\n",
    "from sklearn.metrics import r2_score , mean_absolute_error, mean_squared_error\n",
    "import statsmodels.formula.api as smf\n",
    "from sklearn.linear_model import LinearRegression"
   ]
  },
  {
   "cell_type": "markdown",
   "metadata": {},
   "source": [
    "# Glossary of Dataset"
   ]
  },
  {
   "cell_type": "code",
   "execution_count": 2,
   "metadata": {},
   "outputs": [],
   "source": [
    "# ArrDelay (how early/late the plane was at its final destination in minutes: our target variable)\n",
    "# ActualElapsedTime: elapsed time of flight, in minutes\n",
    "# AirTime: flight time, in minutes\n",
    "# ArrDelay, DepDelay: arrival and departure delays, in minutes\n",
    "\n",
    "# CRSDepTime (the local time the plane was scheduled to depart)\n",
    "# CRSArrTime (the local time the plane was scheduled to arrive)\n",
    "# CRSElapsedTime (the scheduled difference between departure and arrival\n",
    "# Cancelled: cancelled indicator: 1 = Yes, 0 = No\n",
    "# CancellationCode: reason for cancellation: A = carrier, B = weather, C = national air system, D = security\n",
    "\n",
    "\n",
    "# Distance (how far did the plane travel for the route)\n",
    "# DayOfWeek: day of week of departure, a value of 1-5 means that it is a weekday, a value of 6-7 means that it is a weekend day\n",
    "# DepTime, ArrTime: departure and arrival times (in local time, hhmm)\n",
    "# Distance: distance of flight, in miles\n",
    "# Diverted: diverted indicator: 1 = Yes, 0 = No\n",
    "\n",
    "\n",
    "# FlightNum: flight number\n",
    "\n",
    "\n",
    "\n",
    "# Origin, Dest: origin and destination airport codes\n",
    "\n",
    "# TailNum: airplane tail number\n",
    "# TaxiIn, TaxiOut: taxi in and out times in minutes\n",
    "\n",
    "\n",
    "# UniqueCarrier: unique abbreviation for a carrier\n",
    "\n",
    "# Year, Month, DayofMonth: date of departure"
   ]
  },
  {
   "cell_type": "markdown",
   "metadata": {},
   "source": [
    "# Reading and exploring Dataset"
   ]
  },
  {
   "cell_type": "code",
   "execution_count": 3,
   "metadata": {},
   "outputs": [],
   "source": [
    "df=pd.read_csv('D:\\\\ML\\\\Project\\\\DelayedFlights.csv')\n",
    "df2=pd.read_csv('D:\\\\ML\\\\Project\\\\airlines.csv')\n",
    "df3=pd.read_csv('D:\\\\ML\\\\Project\\\\airports.csv')"
   ]
  },
  {
   "cell_type": "code",
   "execution_count": 4,
   "metadata": {},
   "outputs": [
    {
     "data": {
      "text/html": [
       "<div>\n",
       "<style scoped>\n",
       "    .dataframe tbody tr th:only-of-type {\n",
       "        vertical-align: middle;\n",
       "    }\n",
       "\n",
       "    .dataframe tbody tr th {\n",
       "        vertical-align: top;\n",
       "    }\n",
       "\n",
       "    .dataframe thead th {\n",
       "        text-align: right;\n",
       "    }\n",
       "</style>\n",
       "<table border=\"1\" class=\"dataframe\">\n",
       "  <thead>\n",
       "    <tr style=\"text-align: right;\">\n",
       "      <th></th>\n",
       "      <th>Year</th>\n",
       "      <th>Month</th>\n",
       "      <th>DayofMonth</th>\n",
       "      <th>DayOfWeek</th>\n",
       "      <th>DepTime</th>\n",
       "      <th>CRSDepTime</th>\n",
       "      <th>ArrTime</th>\n",
       "      <th>CRSArrTime</th>\n",
       "      <th>UniqueCarrier</th>\n",
       "      <th>FlightNum</th>\n",
       "      <th>...</th>\n",
       "      <th>TaxiIn</th>\n",
       "      <th>TaxiOut</th>\n",
       "      <th>Cancelled</th>\n",
       "      <th>CancellationCode</th>\n",
       "      <th>Diverted</th>\n",
       "      <th>CarrierDelay</th>\n",
       "      <th>WeatherDelay</th>\n",
       "      <th>NASDelay</th>\n",
       "      <th>SecurityDelay</th>\n",
       "      <th>LateAircraftDelay</th>\n",
       "    </tr>\n",
       "  </thead>\n",
       "  <tbody>\n",
       "    <tr>\n",
       "      <th>0</th>\n",
       "      <td>2008</td>\n",
       "      <td>1</td>\n",
       "      <td>3</td>\n",
       "      <td>4</td>\n",
       "      <td>2003.0</td>\n",
       "      <td>1955</td>\n",
       "      <td>2211.0</td>\n",
       "      <td>2225</td>\n",
       "      <td>WN</td>\n",
       "      <td>335</td>\n",
       "      <td>...</td>\n",
       "      <td>4.0</td>\n",
       "      <td>8.0</td>\n",
       "      <td>0</td>\n",
       "      <td>N</td>\n",
       "      <td>0</td>\n",
       "      <td>NaN</td>\n",
       "      <td>NaN</td>\n",
       "      <td>NaN</td>\n",
       "      <td>NaN</td>\n",
       "      <td>NaN</td>\n",
       "    </tr>\n",
       "    <tr>\n",
       "      <th>1</th>\n",
       "      <td>2008</td>\n",
       "      <td>1</td>\n",
       "      <td>3</td>\n",
       "      <td>4</td>\n",
       "      <td>754.0</td>\n",
       "      <td>735</td>\n",
       "      <td>1002.0</td>\n",
       "      <td>1000</td>\n",
       "      <td>WN</td>\n",
       "      <td>3231</td>\n",
       "      <td>...</td>\n",
       "      <td>5.0</td>\n",
       "      <td>10.0</td>\n",
       "      <td>0</td>\n",
       "      <td>N</td>\n",
       "      <td>0</td>\n",
       "      <td>NaN</td>\n",
       "      <td>NaN</td>\n",
       "      <td>NaN</td>\n",
       "      <td>NaN</td>\n",
       "      <td>NaN</td>\n",
       "    </tr>\n",
       "    <tr>\n",
       "      <th>2</th>\n",
       "      <td>2008</td>\n",
       "      <td>1</td>\n",
       "      <td>3</td>\n",
       "      <td>4</td>\n",
       "      <td>628.0</td>\n",
       "      <td>620</td>\n",
       "      <td>804.0</td>\n",
       "      <td>750</td>\n",
       "      <td>WN</td>\n",
       "      <td>448</td>\n",
       "      <td>...</td>\n",
       "      <td>3.0</td>\n",
       "      <td>17.0</td>\n",
       "      <td>0</td>\n",
       "      <td>N</td>\n",
       "      <td>0</td>\n",
       "      <td>NaN</td>\n",
       "      <td>NaN</td>\n",
       "      <td>NaN</td>\n",
       "      <td>NaN</td>\n",
       "      <td>NaN</td>\n",
       "    </tr>\n",
       "    <tr>\n",
       "      <th>3</th>\n",
       "      <td>2008</td>\n",
       "      <td>1</td>\n",
       "      <td>3</td>\n",
       "      <td>4</td>\n",
       "      <td>1829.0</td>\n",
       "      <td>1755</td>\n",
       "      <td>1959.0</td>\n",
       "      <td>1925</td>\n",
       "      <td>WN</td>\n",
       "      <td>3920</td>\n",
       "      <td>...</td>\n",
       "      <td>3.0</td>\n",
       "      <td>10.0</td>\n",
       "      <td>0</td>\n",
       "      <td>N</td>\n",
       "      <td>0</td>\n",
       "      <td>2.0</td>\n",
       "      <td>0.0</td>\n",
       "      <td>0.0</td>\n",
       "      <td>0.0</td>\n",
       "      <td>32.0</td>\n",
       "    </tr>\n",
       "  </tbody>\n",
       "</table>\n",
       "<p>4 rows × 29 columns</p>\n",
       "</div>"
      ],
      "text/plain": [
       "   Year  Month  DayofMonth  DayOfWeek  DepTime  CRSDepTime  ArrTime  \\\n",
       "0  2008      1           3          4   2003.0        1955   2211.0   \n",
       "1  2008      1           3          4    754.0         735   1002.0   \n",
       "2  2008      1           3          4    628.0         620    804.0   \n",
       "3  2008      1           3          4   1829.0        1755   1959.0   \n",
       "\n",
       "   CRSArrTime UniqueCarrier  FlightNum  ... TaxiIn  TaxiOut  Cancelled  \\\n",
       "0        2225            WN        335  ...    4.0      8.0          0   \n",
       "1        1000            WN       3231  ...    5.0     10.0          0   \n",
       "2         750            WN        448  ...    3.0     17.0          0   \n",
       "3        1925            WN       3920  ...    3.0     10.0          0   \n",
       "\n",
       "   CancellationCode  Diverted  CarrierDelay WeatherDelay NASDelay  \\\n",
       "0                 N         0           NaN          NaN      NaN   \n",
       "1                 N         0           NaN          NaN      NaN   \n",
       "2                 N         0           NaN          NaN      NaN   \n",
       "3                 N         0           2.0          0.0      0.0   \n",
       "\n",
       "   SecurityDelay  LateAircraftDelay  \n",
       "0            NaN                NaN  \n",
       "1            NaN                NaN  \n",
       "2            NaN                NaN  \n",
       "3            0.0               32.0  \n",
       "\n",
       "[4 rows x 29 columns]"
      ]
     },
     "execution_count": 4,
     "metadata": {},
     "output_type": "execute_result"
    }
   ],
   "source": [
    "df = df.drop('Unnamed: 0',axis=1)\n",
    "df.head(4)"
   ]
  },
  {
   "cell_type": "code",
   "execution_count": 5,
   "metadata": {},
   "outputs": [
    {
     "data": {
      "text/html": [
       "<div>\n",
       "<style scoped>\n",
       "    .dataframe tbody tr th:only-of-type {\n",
       "        vertical-align: middle;\n",
       "    }\n",
       "\n",
       "    .dataframe tbody tr th {\n",
       "        vertical-align: top;\n",
       "    }\n",
       "\n",
       "    .dataframe thead th {\n",
       "        text-align: right;\n",
       "    }\n",
       "</style>\n",
       "<table border=\"1\" class=\"dataframe\">\n",
       "  <thead>\n",
       "    <tr style=\"text-align: right;\">\n",
       "      <th></th>\n",
       "      <th>IATA_CODE</th>\n",
       "      <th>AIRLINE</th>\n",
       "    </tr>\n",
       "  </thead>\n",
       "  <tbody>\n",
       "    <tr>\n",
       "      <th>0</th>\n",
       "      <td>UA</td>\n",
       "      <td>United Air Lines Inc.</td>\n",
       "    </tr>\n",
       "    <tr>\n",
       "      <th>1</th>\n",
       "      <td>AA</td>\n",
       "      <td>American Airlines Inc.</td>\n",
       "    </tr>\n",
       "    <tr>\n",
       "      <th>2</th>\n",
       "      <td>US</td>\n",
       "      <td>US Airways Inc.</td>\n",
       "    </tr>\n",
       "    <tr>\n",
       "      <th>3</th>\n",
       "      <td>F9</td>\n",
       "      <td>Frontier Airlines Inc.</td>\n",
       "    </tr>\n",
       "    <tr>\n",
       "      <th>4</th>\n",
       "      <td>B6</td>\n",
       "      <td>JetBlue Airways</td>\n",
       "    </tr>\n",
       "    <tr>\n",
       "      <th>5</th>\n",
       "      <td>OO</td>\n",
       "      <td>Skywest Airlines Inc.</td>\n",
       "    </tr>\n",
       "    <tr>\n",
       "      <th>6</th>\n",
       "      <td>AS</td>\n",
       "      <td>Alaska Airlines Inc.</td>\n",
       "    </tr>\n",
       "    <tr>\n",
       "      <th>7</th>\n",
       "      <td>NK</td>\n",
       "      <td>Spirit Air Lines</td>\n",
       "    </tr>\n",
       "    <tr>\n",
       "      <th>8</th>\n",
       "      <td>WN</td>\n",
       "      <td>Southwest Airlines Co.</td>\n",
       "    </tr>\n",
       "    <tr>\n",
       "      <th>9</th>\n",
       "      <td>DL</td>\n",
       "      <td>Delta Air Lines Inc.</td>\n",
       "    </tr>\n",
       "    <tr>\n",
       "      <th>10</th>\n",
       "      <td>EV</td>\n",
       "      <td>Atlantic Southeast Airlines</td>\n",
       "    </tr>\n",
       "    <tr>\n",
       "      <th>11</th>\n",
       "      <td>HA</td>\n",
       "      <td>Hawaiian Airlines Inc.</td>\n",
       "    </tr>\n",
       "    <tr>\n",
       "      <th>12</th>\n",
       "      <td>MQ</td>\n",
       "      <td>American Eagle Airlines Inc.</td>\n",
       "    </tr>\n",
       "    <tr>\n",
       "      <th>13</th>\n",
       "      <td>VX</td>\n",
       "      <td>Virgin America</td>\n",
       "    </tr>\n",
       "  </tbody>\n",
       "</table>\n",
       "</div>"
      ],
      "text/plain": [
       "   IATA_CODE                       AIRLINE\n",
       "0         UA         United Air Lines Inc.\n",
       "1         AA        American Airlines Inc.\n",
       "2         US               US Airways Inc.\n",
       "3         F9        Frontier Airlines Inc.\n",
       "4         B6               JetBlue Airways\n",
       "5         OO         Skywest Airlines Inc.\n",
       "6         AS          Alaska Airlines Inc.\n",
       "7         NK              Spirit Air Lines\n",
       "8         WN        Southwest Airlines Co.\n",
       "9         DL          Delta Air Lines Inc.\n",
       "10        EV   Atlantic Southeast Airlines\n",
       "11        HA        Hawaiian Airlines Inc.\n",
       "12        MQ  American Eagle Airlines Inc.\n",
       "13        VX                Virgin America"
      ]
     },
     "execution_count": 5,
     "metadata": {},
     "output_type": "execute_result"
    }
   ],
   "source": [
    "df2=pd.read_csv('D:\\\\ML\\\\Project\\\\airlines.csv')\n",
    "df2"
   ]
  },
  {
   "cell_type": "code",
   "execution_count": 6,
   "metadata": {},
   "outputs": [
    {
     "data": {
      "text/html": [
       "<div>\n",
       "<style scoped>\n",
       "    .dataframe tbody tr th:only-of-type {\n",
       "        vertical-align: middle;\n",
       "    }\n",
       "\n",
       "    .dataframe tbody tr th {\n",
       "        vertical-align: top;\n",
       "    }\n",
       "\n",
       "    .dataframe thead th {\n",
       "        text-align: right;\n",
       "    }\n",
       "</style>\n",
       "<table border=\"1\" class=\"dataframe\">\n",
       "  <thead>\n",
       "    <tr style=\"text-align: right;\">\n",
       "      <th></th>\n",
       "      <th>IATA_CODE</th>\n",
       "      <th>AIRPORT</th>\n",
       "      <th>CITY</th>\n",
       "      <th>STATE</th>\n",
       "      <th>COUNTRY</th>\n",
       "      <th>LATITUDE</th>\n",
       "      <th>LONGITUDE</th>\n",
       "    </tr>\n",
       "  </thead>\n",
       "  <tbody>\n",
       "    <tr>\n",
       "      <th>0</th>\n",
       "      <td>ABE</td>\n",
       "      <td>Lehigh Valley International Airport</td>\n",
       "      <td>Allentown</td>\n",
       "      <td>PA</td>\n",
       "      <td>USA</td>\n",
       "      <td>40.65236</td>\n",
       "      <td>-75.44040</td>\n",
       "    </tr>\n",
       "    <tr>\n",
       "      <th>1</th>\n",
       "      <td>ABI</td>\n",
       "      <td>Abilene Regional Airport</td>\n",
       "      <td>Abilene</td>\n",
       "      <td>TX</td>\n",
       "      <td>USA</td>\n",
       "      <td>32.41132</td>\n",
       "      <td>-99.68190</td>\n",
       "    </tr>\n",
       "    <tr>\n",
       "      <th>2</th>\n",
       "      <td>ABQ</td>\n",
       "      <td>Albuquerque International Sunport</td>\n",
       "      <td>Albuquerque</td>\n",
       "      <td>NM</td>\n",
       "      <td>USA</td>\n",
       "      <td>35.04022</td>\n",
       "      <td>-106.60919</td>\n",
       "    </tr>\n",
       "    <tr>\n",
       "      <th>3</th>\n",
       "      <td>ABR</td>\n",
       "      <td>Aberdeen Regional Airport</td>\n",
       "      <td>Aberdeen</td>\n",
       "      <td>SD</td>\n",
       "      <td>USA</td>\n",
       "      <td>45.44906</td>\n",
       "      <td>-98.42183</td>\n",
       "    </tr>\n",
       "    <tr>\n",
       "      <th>4</th>\n",
       "      <td>ABY</td>\n",
       "      <td>Southwest Georgia Regional Airport</td>\n",
       "      <td>Albany</td>\n",
       "      <td>GA</td>\n",
       "      <td>USA</td>\n",
       "      <td>31.53552</td>\n",
       "      <td>-84.19447</td>\n",
       "    </tr>\n",
       "  </tbody>\n",
       "</table>\n",
       "</div>"
      ],
      "text/plain": [
       "  IATA_CODE                              AIRPORT         CITY STATE COUNTRY  \\\n",
       "0       ABE  Lehigh Valley International Airport    Allentown    PA     USA   \n",
       "1       ABI             Abilene Regional Airport      Abilene    TX     USA   \n",
       "2       ABQ    Albuquerque International Sunport  Albuquerque    NM     USA   \n",
       "3       ABR            Aberdeen Regional Airport     Aberdeen    SD     USA   \n",
       "4       ABY   Southwest Georgia Regional Airport       Albany    GA     USA   \n",
       "\n",
       "   LATITUDE  LONGITUDE  \n",
       "0  40.65236  -75.44040  \n",
       "1  32.41132  -99.68190  \n",
       "2  35.04022 -106.60919  \n",
       "3  45.44906  -98.42183  \n",
       "4  31.53552  -84.19447  "
      ]
     },
     "execution_count": 6,
     "metadata": {},
     "output_type": "execute_result"
    }
   ],
   "source": [
    "df3.head()"
   ]
  },
  {
   "cell_type": "markdown",
   "metadata": {},
   "source": [
    "# Check for null values"
   ]
  },
  {
   "cell_type": "code",
   "execution_count": 7,
   "metadata": {},
   "outputs": [
    {
     "data": {
      "text/plain": [
       "Year                      0\n",
       "Month                     0\n",
       "DayofMonth                0\n",
       "DayOfWeek                 0\n",
       "DepTime                   0\n",
       "CRSDepTime                0\n",
       "ArrTime                7110\n",
       "CRSArrTime                0\n",
       "UniqueCarrier             0\n",
       "FlightNum                 0\n",
       "TailNum                   5\n",
       "ActualElapsedTime      8387\n",
       "CRSElapsedTime          198\n",
       "AirTime                8387\n",
       "ArrDelay               8387\n",
       "DepDelay                  0\n",
       "Origin                    0\n",
       "Dest                      0\n",
       "Distance                  0\n",
       "TaxiIn                 7110\n",
       "TaxiOut                 455\n",
       "Cancelled                 0\n",
       "CancellationCode          0\n",
       "Diverted                  0\n",
       "CarrierDelay         689270\n",
       "WeatherDelay         689270\n",
       "NASDelay             689270\n",
       "SecurityDelay        689270\n",
       "LateAircraftDelay    689270\n",
       "dtype: int64"
      ]
     },
     "execution_count": 7,
     "metadata": {},
     "output_type": "execute_result"
    }
   ],
   "source": [
    "df.isnull().sum()"
   ]
  },
  {
   "cell_type": "markdown",
   "metadata": {},
   "source": [
    "# Dropping columns having more than 70% null values"
   ]
  },
  {
   "cell_type": "code",
   "execution_count": 8,
   "metadata": {},
   "outputs": [
    {
     "data": {
      "text/plain": [
       "(1936758, 29)"
      ]
     },
     "execution_count": 8,
     "metadata": {},
     "output_type": "execute_result"
    }
   ],
   "source": [
    "df_new=df.dropna(thresh=df.shape[0]*0.3,how='all',axis=1)\n",
    "df_new.shape"
   ]
  },
  {
   "cell_type": "code",
   "execution_count": 9,
   "metadata": {},
   "outputs": [
    {
     "data": {
      "text/plain": [
       "Index(['Year', 'Month', 'DayofMonth', 'DayOfWeek', 'DepTime', 'CRSDepTime',\n",
       "       'ArrTime', 'CRSArrTime', 'UniqueCarrier', 'FlightNum', 'TailNum',\n",
       "       'ActualElapsedTime', 'CRSElapsedTime', 'AirTime', 'ArrDelay',\n",
       "       'DepDelay', 'Origin', 'Dest', 'Distance', 'TaxiIn', 'TaxiOut',\n",
       "       'Cancelled', 'CancellationCode', 'Diverted', 'CarrierDelay',\n",
       "       'WeatherDelay', 'NASDelay', 'SecurityDelay', 'LateAircraftDelay'],\n",
       "      dtype='object')"
      ]
     },
     "execution_count": 9,
     "metadata": {},
     "output_type": "execute_result"
    }
   ],
   "source": [
    "df_new.columns"
   ]
  },
  {
   "cell_type": "markdown",
   "metadata": {},
   "source": [
    "# Seperating Categorical and Numerical Features"
   ]
  },
  {
   "cell_type": "code",
   "execution_count": 10,
   "metadata": {},
   "outputs": [],
   "source": [
    "df_cat = df_new.select_dtypes(exclude = ['int64','float64'])\n",
    "df_num = df_new.select_dtypes(include = ['int64','float64'])"
   ]
  },
  {
   "cell_type": "code",
   "execution_count": 11,
   "metadata": {},
   "outputs": [
    {
     "data": {
      "text/plain": [
       "((1936758, 5), (1936758, 24))"
      ]
     },
     "execution_count": 11,
     "metadata": {},
     "output_type": "execute_result"
    }
   ],
   "source": [
    "df_cat.shape,df_num.shape"
   ]
  },
  {
   "cell_type": "code",
   "execution_count": 12,
   "metadata": {},
   "outputs": [
    {
     "data": {
      "text/plain": [
       "Year                      0\n",
       "Month                     0\n",
       "DayofMonth                0\n",
       "DayOfWeek                 0\n",
       "DepTime                   0\n",
       "CRSDepTime                0\n",
       "ArrTime                7110\n",
       "CRSArrTime                0\n",
       "FlightNum                 0\n",
       "ActualElapsedTime      8387\n",
       "CRSElapsedTime          198\n",
       "AirTime                8387\n",
       "ArrDelay               8387\n",
       "DepDelay                  0\n",
       "Distance                  0\n",
       "TaxiIn                 7110\n",
       "TaxiOut                 455\n",
       "Cancelled                 0\n",
       "Diverted                  0\n",
       "CarrierDelay         689270\n",
       "WeatherDelay         689270\n",
       "NASDelay             689270\n",
       "SecurityDelay        689270\n",
       "LateAircraftDelay    689270\n",
       "dtype: int64"
      ]
     },
     "execution_count": 12,
     "metadata": {},
     "output_type": "execute_result"
    }
   ],
   "source": [
    "df_num.isnull().sum()"
   ]
  },
  {
   "cell_type": "markdown",
   "metadata": {},
   "source": [
    "# Imputing Null Values"
   ]
  },
  {
   "cell_type": "code",
   "execution_count": 13,
   "metadata": {},
   "outputs": [],
   "source": [
    "df_num_new=df_num.fillna({'ActualElapsedTime':df_num['ActualElapsedTime'].mean(),'CRSElapsedTime':df_num['CRSElapsedTime'].mean(),\n",
    "                         'AirTime':df_num['AirTime'].mean(),'ArrDelay':df_num['ArrDelay'].mean(),'TaxiIn':df_num['TaxiIn'].mean(),\n",
    "                         'TaxiOut':df_num['TaxiOut'].mean(),'CarrierDelay':df_num['CarrierDelay'].mean(),\n",
    "                          'WeatherDelay':df_num['WeatherDelay'].mean(),'NASDelay':df_num['NASDelay'].mean(),\n",
    "                         'SecurityDelay':df_num['SecurityDelay'].mean(),'LateAircraftDelay':df_num['LateAircraftDelay'].mean()})"
   ]
  },
  {
   "cell_type": "code",
   "execution_count": 14,
   "metadata": {},
   "outputs": [],
   "source": [
    "df_num_new2=df_num_new.drop(['ArrTime'],axis=1)"
   ]
  },
  {
   "cell_type": "code",
   "execution_count": 15,
   "metadata": {},
   "outputs": [
    {
     "data": {
      "text/plain": [
       "Index(['Year', 'Month', 'DayofMonth', 'DayOfWeek', 'DepTime', 'CRSDepTime',\n",
       "       'CRSArrTime', 'FlightNum', 'ActualElapsedTime', 'CRSElapsedTime',\n",
       "       'AirTime', 'ArrDelay', 'DepDelay', 'Distance', 'TaxiIn', 'TaxiOut',\n",
       "       'Cancelled', 'Diverted', 'CarrierDelay', 'WeatherDelay', 'NASDelay',\n",
       "       'SecurityDelay', 'LateAircraftDelay'],\n",
       "      dtype='object')"
      ]
     },
     "execution_count": 15,
     "metadata": {},
     "output_type": "execute_result"
    }
   ],
   "source": [
    "df_num_new2.columns"
   ]
  },
  {
   "cell_type": "code",
   "execution_count": 16,
   "metadata": {},
   "outputs": [
    {
     "data": {
      "text/plain": [
       "0"
      ]
     },
     "execution_count": 16,
     "metadata": {},
     "output_type": "execute_result"
    }
   ],
   "source": [
    "df_num_new2.isnull().sum().sum()"
   ]
  },
  {
   "cell_type": "code",
   "execution_count": 17,
   "metadata": {},
   "outputs": [
    {
     "data": {
      "text/plain": [
       "UniqueCarrier       0\n",
       "TailNum             5\n",
       "Origin              0\n",
       "Dest                0\n",
       "CancellationCode    0\n",
       "dtype: int64"
      ]
     },
     "execution_count": 17,
     "metadata": {},
     "output_type": "execute_result"
    }
   ],
   "source": [
    "df_cat.isnull().sum()"
   ]
  },
  {
   "cell_type": "code",
   "execution_count": 18,
   "metadata": {},
   "outputs": [],
   "source": [
    "df_cat1=df_cat.drop(['UniqueCarrier','TailNum','Origin','Dest'],axis=1)\n"
   ]
  },
  {
   "cell_type": "code",
   "execution_count": 19,
   "metadata": {},
   "outputs": [
    {
     "data": {
      "text/plain": [
       "CancellationCode    0\n",
       "dtype: int64"
      ]
     },
     "execution_count": 19,
     "metadata": {},
     "output_type": "execute_result"
    }
   ],
   "source": [
    "df_cat1.isnull().sum()"
   ]
  },
  {
   "cell_type": "markdown",
   "metadata": {},
   "source": [
    "# Encoding categorigal Variables"
   ]
  },
  {
   "cell_type": "code",
   "execution_count": 20,
   "metadata": {},
   "outputs": [],
   "source": [
    "cat_encoded=pd.get_dummies(data=df_cat1,columns=['CancellationCode'])"
   ]
  },
  {
   "cell_type": "markdown",
   "metadata": {},
   "source": [
    "# Combining the dataframe"
   ]
  },
  {
   "cell_type": "code",
   "execution_count": 21,
   "metadata": {},
   "outputs": [
    {
     "data": {
      "text/plain": [
       "(1936758, 27)"
      ]
     },
     "execution_count": 21,
     "metadata": {},
     "output_type": "execute_result"
    }
   ],
   "source": [
    "df_final=pd.concat([cat_encoded,df_num_new2],axis=1)\n",
    "df_final.shape"
   ]
  },
  {
   "cell_type": "code",
   "execution_count": 22,
   "metadata": {},
   "outputs": [
    {
     "data": {
      "text/html": [
       "<div>\n",
       "<style scoped>\n",
       "    .dataframe tbody tr th:only-of-type {\n",
       "        vertical-align: middle;\n",
       "    }\n",
       "\n",
       "    .dataframe tbody tr th {\n",
       "        vertical-align: top;\n",
       "    }\n",
       "\n",
       "    .dataframe thead th {\n",
       "        text-align: right;\n",
       "    }\n",
       "</style>\n",
       "<table border=\"1\" class=\"dataframe\">\n",
       "  <thead>\n",
       "    <tr style=\"text-align: right;\">\n",
       "      <th></th>\n",
       "      <th>CancellationCode_A</th>\n",
       "      <th>CancellationCode_B</th>\n",
       "      <th>CancellationCode_C</th>\n",
       "      <th>CancellationCode_N</th>\n",
       "      <th>Year</th>\n",
       "      <th>Month</th>\n",
       "      <th>DayofMonth</th>\n",
       "      <th>DayOfWeek</th>\n",
       "      <th>DepTime</th>\n",
       "      <th>CRSDepTime</th>\n",
       "      <th>...</th>\n",
       "      <th>Distance</th>\n",
       "      <th>TaxiIn</th>\n",
       "      <th>TaxiOut</th>\n",
       "      <th>Cancelled</th>\n",
       "      <th>Diverted</th>\n",
       "      <th>CarrierDelay</th>\n",
       "      <th>WeatherDelay</th>\n",
       "      <th>NASDelay</th>\n",
       "      <th>SecurityDelay</th>\n",
       "      <th>LateAircraftDelay</th>\n",
       "    </tr>\n",
       "  </thead>\n",
       "  <tbody>\n",
       "    <tr>\n",
       "      <th>0</th>\n",
       "      <td>0</td>\n",
       "      <td>0</td>\n",
       "      <td>0</td>\n",
       "      <td>1</td>\n",
       "      <td>2008</td>\n",
       "      <td>1</td>\n",
       "      <td>3</td>\n",
       "      <td>4</td>\n",
       "      <td>2003.0</td>\n",
       "      <td>1955</td>\n",
       "      <td>...</td>\n",
       "      <td>810</td>\n",
       "      <td>4.0</td>\n",
       "      <td>8.0</td>\n",
       "      <td>0</td>\n",
       "      <td>0</td>\n",
       "      <td>19.179399</td>\n",
       "      <td>3.703571</td>\n",
       "      <td>15.021635</td>\n",
       "      <td>0.090137</td>\n",
       "      <td>25.296466</td>\n",
       "    </tr>\n",
       "    <tr>\n",
       "      <th>1</th>\n",
       "      <td>0</td>\n",
       "      <td>0</td>\n",
       "      <td>0</td>\n",
       "      <td>1</td>\n",
       "      <td>2008</td>\n",
       "      <td>1</td>\n",
       "      <td>3</td>\n",
       "      <td>4</td>\n",
       "      <td>754.0</td>\n",
       "      <td>735</td>\n",
       "      <td>...</td>\n",
       "      <td>810</td>\n",
       "      <td>5.0</td>\n",
       "      <td>10.0</td>\n",
       "      <td>0</td>\n",
       "      <td>0</td>\n",
       "      <td>19.179399</td>\n",
       "      <td>3.703571</td>\n",
       "      <td>15.021635</td>\n",
       "      <td>0.090137</td>\n",
       "      <td>25.296466</td>\n",
       "    </tr>\n",
       "    <tr>\n",
       "      <th>2</th>\n",
       "      <td>0</td>\n",
       "      <td>0</td>\n",
       "      <td>0</td>\n",
       "      <td>1</td>\n",
       "      <td>2008</td>\n",
       "      <td>1</td>\n",
       "      <td>3</td>\n",
       "      <td>4</td>\n",
       "      <td>628.0</td>\n",
       "      <td>620</td>\n",
       "      <td>...</td>\n",
       "      <td>515</td>\n",
       "      <td>3.0</td>\n",
       "      <td>17.0</td>\n",
       "      <td>0</td>\n",
       "      <td>0</td>\n",
       "      <td>19.179399</td>\n",
       "      <td>3.703571</td>\n",
       "      <td>15.021635</td>\n",
       "      <td>0.090137</td>\n",
       "      <td>25.296466</td>\n",
       "    </tr>\n",
       "    <tr>\n",
       "      <th>3</th>\n",
       "      <td>0</td>\n",
       "      <td>0</td>\n",
       "      <td>0</td>\n",
       "      <td>1</td>\n",
       "      <td>2008</td>\n",
       "      <td>1</td>\n",
       "      <td>3</td>\n",
       "      <td>4</td>\n",
       "      <td>1829.0</td>\n",
       "      <td>1755</td>\n",
       "      <td>...</td>\n",
       "      <td>515</td>\n",
       "      <td>3.0</td>\n",
       "      <td>10.0</td>\n",
       "      <td>0</td>\n",
       "      <td>0</td>\n",
       "      <td>2.000000</td>\n",
       "      <td>0.000000</td>\n",
       "      <td>0.000000</td>\n",
       "      <td>0.000000</td>\n",
       "      <td>32.000000</td>\n",
       "    </tr>\n",
       "    <tr>\n",
       "      <th>4</th>\n",
       "      <td>0</td>\n",
       "      <td>0</td>\n",
       "      <td>0</td>\n",
       "      <td>1</td>\n",
       "      <td>2008</td>\n",
       "      <td>1</td>\n",
       "      <td>3</td>\n",
       "      <td>4</td>\n",
       "      <td>1940.0</td>\n",
       "      <td>1915</td>\n",
       "      <td>...</td>\n",
       "      <td>688</td>\n",
       "      <td>4.0</td>\n",
       "      <td>10.0</td>\n",
       "      <td>0</td>\n",
       "      <td>0</td>\n",
       "      <td>19.179399</td>\n",
       "      <td>3.703571</td>\n",
       "      <td>15.021635</td>\n",
       "      <td>0.090137</td>\n",
       "      <td>25.296466</td>\n",
       "    </tr>\n",
       "  </tbody>\n",
       "</table>\n",
       "<p>5 rows × 27 columns</p>\n",
       "</div>"
      ],
      "text/plain": [
       "   CancellationCode_A  CancellationCode_B  CancellationCode_C  \\\n",
       "0                   0                   0                   0   \n",
       "1                   0                   0                   0   \n",
       "2                   0                   0                   0   \n",
       "3                   0                   0                   0   \n",
       "4                   0                   0                   0   \n",
       "\n",
       "   CancellationCode_N  Year  Month  DayofMonth  DayOfWeek  DepTime  \\\n",
       "0                   1  2008      1           3          4   2003.0   \n",
       "1                   1  2008      1           3          4    754.0   \n",
       "2                   1  2008      1           3          4    628.0   \n",
       "3                   1  2008      1           3          4   1829.0   \n",
       "4                   1  2008      1           3          4   1940.0   \n",
       "\n",
       "   CRSDepTime  ...  Distance  TaxiIn  TaxiOut  Cancelled  Diverted  \\\n",
       "0        1955  ...       810     4.0      8.0          0         0   \n",
       "1         735  ...       810     5.0     10.0          0         0   \n",
       "2         620  ...       515     3.0     17.0          0         0   \n",
       "3        1755  ...       515     3.0     10.0          0         0   \n",
       "4        1915  ...       688     4.0     10.0          0         0   \n",
       "\n",
       "   CarrierDelay  WeatherDelay   NASDelay  SecurityDelay  LateAircraftDelay  \n",
       "0     19.179399      3.703571  15.021635       0.090137          25.296466  \n",
       "1     19.179399      3.703571  15.021635       0.090137          25.296466  \n",
       "2     19.179399      3.703571  15.021635       0.090137          25.296466  \n",
       "3      2.000000      0.000000   0.000000       0.000000          32.000000  \n",
       "4     19.179399      3.703571  15.021635       0.090137          25.296466  \n",
       "\n",
       "[5 rows x 27 columns]"
      ]
     },
     "execution_count": 22,
     "metadata": {},
     "output_type": "execute_result"
    }
   ],
   "source": [
    "df_final.head()"
   ]
  },
  {
   "cell_type": "code",
   "execution_count": 23,
   "metadata": {},
   "outputs": [
    {
     "data": {
      "text/plain": [
       "0"
      ]
     },
     "execution_count": 23,
     "metadata": {},
     "output_type": "execute_result"
    }
   ],
   "source": [
    "df_final.isnull().sum().sum()"
   ]
  },
  {
   "cell_type": "markdown",
   "metadata": {},
   "source": [
    "# EDA"
   ]
  },
  {
   "cell_type": "markdown",
   "metadata": {},
   "source": [
    "# Proportion of USCarrier in the dataset"
   ]
  },
  {
   "cell_type": "code",
   "execution_count": 24,
   "metadata": {},
   "outputs": [
    {
     "data": {
      "text/plain": [
       "20"
      ]
     },
     "execution_count": 24,
     "metadata": {},
     "output_type": "execute_result"
    }
   ],
   "source": [
    "len(df['UniqueCarrier'].unique())"
   ]
  },
  {
   "cell_type": "code",
   "execution_count": 25,
   "metadata": {},
   "outputs": [
    {
     "data": {
      "image/png": "[encoded data removed]",
      "text/plain": [
       "<Figure size 432x288 with 1 Axes>"
      ]
     },
     "metadata": {},
     "output_type": "display_data"
    }
   ],
   "source": [
    "fig_dim=(20,20)\n",
    "airline=df['UniqueCarrier'].unique()\n",
    "size=df['UniqueCarrier'].value_counts()\n",
    "plt.pie(size,labels=airline,autopct='%1.0f%%')\n",
    "plt.show()"
   ]
  },
  {
   "cell_type": "markdown",
   "metadata": {},
   "source": [
    "# Flights that got cancelled"
   ]
  },
  {
   "cell_type": "code",
   "execution_count": 26,
   "metadata": {},
   "outputs": [
    {
     "data": {
      "text/plain": [
       "<matplotlib.axes._subplots.AxesSubplot at 0x1fb8a1eb898>"
      ]
     },
     "execution_count": 26,
     "metadata": {},
     "output_type": "execute_result"
    },
    {
     "data": {
      "image/png": "[encoded data removed]",
      "text/plain": [
       "<Figure size 432x288 with 1 Axes>"
      ]
     },
     "metadata": {
      "needs_background": "light"
     },
     "output_type": "display_data"
    }
   ],
   "source": [
    "sns.countplot(x='UniqueCarrier',hue='CancellationCode',data=df_new)"
   ]
  },
  {
   "cell_type": "code",
   "execution_count": 27,
   "metadata": {},
   "outputs": [
    {
     "data": {
      "text/plain": [
       "<Figure size 1080x360 with 0 Axes>"
      ]
     },
     "metadata": {},
     "output_type": "display_data"
    },
    {
     "data": {
      "image/png": "[encoded data removed]",
      "text/plain": [
       "<Figure size 432x288 with 1 Axes>"
      ]
     },
     "metadata": {
      "needs_background": "light"
     },
     "output_type": "display_data"
    },
    {
     "data": {
      "image/png": "[encoded data removed]",
      "text/plain": [
       "<Figure size 432x288 with 1 Axes>"
      ]
     },
     "metadata": {
      "needs_background": "light"
     },
     "output_type": "display_data"
    },
    {
     "data": {
      "image/png": "[encoded data removed]",
      "text/plain": [
       "<Figure size 432x288 with 1 Axes>"
      ]
     },
     "metadata": {
      "needs_background": "light"
     },
     "output_type": "display_data"
    }
   ],
   "source": [
    "# Proportion of late flights per category based on all other flights\n",
    "# enumerate(attributes) means print(list(attributes))[function takes a collection (e.g. a tuple) and returns it as an enumerate object.]\n",
    "avgLate = np.sum(df_final['DepDelay'])/len(df_final['DepDelay'])\n",
    "attributes = ['Month','DayofMonth','DayOfWeek']\n",
    "for i,pred in enumerate(attributes):\n",
    "    plt.figure(i, figsize=(15, 5))\n",
    "    group = df_new.groupby([pred], as_index=False).aggregate(np.mean)[[pred, 'DepDelay']]\n",
    "    group.sort_values(by=pred, inplace=True)    \n",
    "    group.plot.bar(x=pred, y='DepDelay')\n",
    "    plt.axhline(y=avgLate, label='Average')\n",
    "    plt.ylabel('Percent of Flights that Departure Late')\n",
    "    plt.title(pred)\n",
    "    plt.legend().remove()"
   ]
  },
  {
   "cell_type": "markdown",
   "metadata": {},
   "source": [
    "# Flights that got cancelled"
   ]
  },
  {
   "cell_type": "code",
   "execution_count": 28,
   "metadata": {},
   "outputs": [
    {
     "data": {
      "text/html": [
       "<div>\n",
       "<style scoped>\n",
       "    .dataframe tbody tr th:only-of-type {\n",
       "        vertical-align: middle;\n",
       "    }\n",
       "\n",
       "    .dataframe tbody tr th {\n",
       "        vertical-align: top;\n",
       "    }\n",
       "\n",
       "    .dataframe thead th {\n",
       "        text-align: right;\n",
       "    }\n",
       "</style>\n",
       "<table border=\"1\" class=\"dataframe\">\n",
       "  <thead>\n",
       "    <tr style=\"text-align: right;\">\n",
       "      <th></th>\n",
       "      <th>Year</th>\n",
       "      <th>Month</th>\n",
       "      <th>DayofMonth</th>\n",
       "      <th>DayOfWeek</th>\n",
       "      <th>DepTime</th>\n",
       "      <th>CRSDepTime</th>\n",
       "      <th>ArrTime</th>\n",
       "      <th>CRSArrTime</th>\n",
       "      <th>UniqueCarrier</th>\n",
       "      <th>FlightNum</th>\n",
       "      <th>...</th>\n",
       "      <th>TaxiIn</th>\n",
       "      <th>TaxiOut</th>\n",
       "      <th>Cancelled</th>\n",
       "      <th>CancellationCode</th>\n",
       "      <th>Diverted</th>\n",
       "      <th>CarrierDelay</th>\n",
       "      <th>WeatherDelay</th>\n",
       "      <th>NASDelay</th>\n",
       "      <th>SecurityDelay</th>\n",
       "      <th>LateAircraftDelay</th>\n",
       "    </tr>\n",
       "  </thead>\n",
       "  <tbody>\n",
       "    <tr>\n",
       "      <th>1542406</th>\n",
       "      <td>2008</td>\n",
       "      <td>10</td>\n",
       "      <td>27</td>\n",
       "      <td>1</td>\n",
       "      <td>1622.0</td>\n",
       "      <td>1420</td>\n",
       "      <td>NaN</td>\n",
       "      <td>1520</td>\n",
       "      <td>WN</td>\n",
       "      <td>27</td>\n",
       "      <td>...</td>\n",
       "      <td>NaN</td>\n",
       "      <td>19.0</td>\n",
       "      <td>1</td>\n",
       "      <td>A</td>\n",
       "      <td>0</td>\n",
       "      <td>NaN</td>\n",
       "      <td>NaN</td>\n",
       "      <td>NaN</td>\n",
       "      <td>NaN</td>\n",
       "      <td>NaN</td>\n",
       "    </tr>\n",
       "    <tr>\n",
       "      <th>1546593</th>\n",
       "      <td>2008</td>\n",
       "      <td>10</td>\n",
       "      <td>25</td>\n",
       "      <td>6</td>\n",
       "      <td>1323.0</td>\n",
       "      <td>1255</td>\n",
       "      <td>NaN</td>\n",
       "      <td>1442</td>\n",
       "      <td>XE</td>\n",
       "      <td>2347</td>\n",
       "      <td>...</td>\n",
       "      <td>NaN</td>\n",
       "      <td>NaN</td>\n",
       "      <td>1</td>\n",
       "      <td>B</td>\n",
       "      <td>0</td>\n",
       "      <td>NaN</td>\n",
       "      <td>NaN</td>\n",
       "      <td>NaN</td>\n",
       "      <td>NaN</td>\n",
       "      <td>NaN</td>\n",
       "    </tr>\n",
       "    <tr>\n",
       "      <th>1547161</th>\n",
       "      <td>2008</td>\n",
       "      <td>10</td>\n",
       "      <td>22</td>\n",
       "      <td>3</td>\n",
       "      <td>1825.0</td>\n",
       "      <td>1815</td>\n",
       "      <td>NaN</td>\n",
       "      <td>1927</td>\n",
       "      <td>XE</td>\n",
       "      <td>2819</td>\n",
       "      <td>...</td>\n",
       "      <td>NaN</td>\n",
       "      <td>NaN</td>\n",
       "      <td>1</td>\n",
       "      <td>C</td>\n",
       "      <td>0</td>\n",
       "      <td>NaN</td>\n",
       "      <td>NaN</td>\n",
       "      <td>NaN</td>\n",
       "      <td>NaN</td>\n",
       "      <td>NaN</td>\n",
       "    </tr>\n",
       "    <tr>\n",
       "      <th>1547178</th>\n",
       "      <td>2008</td>\n",
       "      <td>10</td>\n",
       "      <td>22</td>\n",
       "      <td>3</td>\n",
       "      <td>1733.0</td>\n",
       "      <td>1715</td>\n",
       "      <td>NaN</td>\n",
       "      <td>1818</td>\n",
       "      <td>XE</td>\n",
       "      <td>2890</td>\n",
       "      <td>...</td>\n",
       "      <td>NaN</td>\n",
       "      <td>NaN</td>\n",
       "      <td>1</td>\n",
       "      <td>B</td>\n",
       "      <td>0</td>\n",
       "      <td>NaN</td>\n",
       "      <td>NaN</td>\n",
       "      <td>NaN</td>\n",
       "      <td>NaN</td>\n",
       "      <td>NaN</td>\n",
       "    </tr>\n",
       "    <tr>\n",
       "      <th>1548271</th>\n",
       "      <td>2008</td>\n",
       "      <td>10</td>\n",
       "      <td>15</td>\n",
       "      <td>3</td>\n",
       "      <td>1943.0</td>\n",
       "      <td>1745</td>\n",
       "      <td>NaN</td>\n",
       "      <td>1857</td>\n",
       "      <td>XE</td>\n",
       "      <td>2117</td>\n",
       "      <td>...</td>\n",
       "      <td>NaN</td>\n",
       "      <td>NaN</td>\n",
       "      <td>1</td>\n",
       "      <td>B</td>\n",
       "      <td>0</td>\n",
       "      <td>NaN</td>\n",
       "      <td>NaN</td>\n",
       "      <td>NaN</td>\n",
       "      <td>NaN</td>\n",
       "      <td>NaN</td>\n",
       "    </tr>\n",
       "  </tbody>\n",
       "</table>\n",
       "<p>5 rows × 29 columns</p>\n",
       "</div>"
      ],
      "text/plain": [
       "         Year  Month  DayofMonth  DayOfWeek  DepTime  CRSDepTime  ArrTime  \\\n",
       "1542406  2008     10          27          1   1622.0        1420      NaN   \n",
       "1546593  2008     10          25          6   1323.0        1255      NaN   \n",
       "1547161  2008     10          22          3   1825.0        1815      NaN   \n",
       "1547178  2008     10          22          3   1733.0        1715      NaN   \n",
       "1548271  2008     10          15          3   1943.0        1745      NaN   \n",
       "\n",
       "         CRSArrTime UniqueCarrier  FlightNum  ... TaxiIn  TaxiOut  Cancelled  \\\n",
       "1542406        1520            WN         27  ...    NaN     19.0          1   \n",
       "1546593        1442            XE       2347  ...    NaN      NaN          1   \n",
       "1547161        1927            XE       2819  ...    NaN      NaN          1   \n",
       "1547178        1818            XE       2890  ...    NaN      NaN          1   \n",
       "1548271        1857            XE       2117  ...    NaN      NaN          1   \n",
       "\n",
       "         CancellationCode  Diverted  CarrierDelay WeatherDelay NASDelay  \\\n",
       "1542406                 A         0           NaN          NaN      NaN   \n",
       "1546593                 B         0           NaN          NaN      NaN   \n",
       "1547161                 C         0           NaN          NaN      NaN   \n",
       "1547178                 B         0           NaN          NaN      NaN   \n",
       "1548271                 B         0           NaN          NaN      NaN   \n",
       "\n",
       "         SecurityDelay  LateAircraftDelay  \n",
       "1542406            NaN                NaN  \n",
       "1546593            NaN                NaN  \n",
       "1547161            NaN                NaN  \n",
       "1547178            NaN                NaN  \n",
       "1548271            NaN                NaN  \n",
       "\n",
       "[5 rows x 29 columns]"
      ]
     },
     "execution_count": 28,
     "metadata": {},
     "output_type": "execute_result"
    }
   ],
   "source": [
    "##Here we simply select all the rows with cancelled flights and insert them into their own dataframe\n",
    "cancelled = df_new[df_new['Cancelled']==1]\n",
    "cancelled.head()"
   ]
  },
  {
   "cell_type": "code",
   "execution_count": 29,
   "metadata": {},
   "outputs": [
    {
     "data": {
      "text/plain": [
       "DayOfWeek\n",
       "1     67\n",
       "2    120\n",
       "3    104\n",
       "4     69\n",
       "5    102\n",
       "6     78\n",
       "7     93\n",
       "Name: Cancelled, dtype: int64"
      ]
     },
     "execution_count": 29,
     "metadata": {},
     "output_type": "execute_result"
    }
   ],
   "source": [
    "days_cancelled = cancelled['Cancelled'].groupby(df_new['DayOfWeek']).count()\n",
    "days_cancelled"
   ]
  },
  {
   "cell_type": "code",
   "execution_count": 30,
   "metadata": {},
   "outputs": [
    {
     "data": {
      "text/plain": [
       "DayOfWeek\n",
       "1    290933\n",
       "2    260943\n",
       "3    262805\n",
       "4    289451\n",
       "5    323259\n",
       "6    223256\n",
       "7    286111\n",
       "Name: Cancelled, dtype: int64"
      ]
     },
     "execution_count": 30,
     "metadata": {},
     "output_type": "execute_result"
    }
   ],
   "source": [
    "days_total = df_new['Cancelled'].groupby(df_new['DayOfWeek']).count()\n",
    "days_total"
   ]
  },
  {
   "cell_type": "code",
   "execution_count": 31,
   "metadata": {},
   "outputs": [
    {
     "data": {
      "text/plain": [
       "DayOfWeek\n",
       "1    0.000230\n",
       "2    0.000460\n",
       "3    0.000396\n",
       "4    0.000238\n",
       "5    0.000316\n",
       "6    0.000349\n",
       "7    0.000325\n",
       "Name: Cancelled, dtype: float64"
      ]
     },
     "execution_count": 31,
     "metadata": {},
     "output_type": "execute_result"
    }
   ],
   "source": [
    "days_frac = np.divide(days_cancelled, days_total)\n",
    "days_frac"
   ]
  },
  {
   "cell_type": "code",
   "execution_count": 32,
   "metadata": {},
   "outputs": [
    {
     "data": {
      "text/plain": [
       "array([1, 2, 3, 4, 5, 6, 7], dtype=int64)"
      ]
     },
     "execution_count": 32,
     "metadata": {},
     "output_type": "execute_result"
    }
   ],
   "source": [
    "x=days_frac.index.values\n",
    "x"
   ]
  },
  {
   "cell_type": "code",
   "execution_count": 33,
   "metadata": {},
   "outputs": [
    {
     "data": {
      "text/plain": [
       "DayOfWeek\n",
       "1    0.023029\n",
       "2    0.045987\n",
       "3    0.039573\n",
       "4    0.023838\n",
       "5    0.031554\n",
       "6    0.034937\n",
       "7    0.032505\n",
       "Name: Cancelled, dtype: float64"
      ]
     },
     "execution_count": 33,
     "metadata": {},
     "output_type": "execute_result"
    }
   ],
   "source": [
    "days_frac*100"
   ]
  },
  {
   "cell_type": "code",
   "execution_count": 37,
   "metadata": {},
   "outputs": [
    {
     "data": {
      "text/plain": [
       "<BarContainer object of 7 artists>"
      ]
     },
     "execution_count": 37,
     "metadata": {},
     "output_type": "execute_result"
    }
   ],
   "source": [
    "ax.bar(x,days_frac*100, align='center')"
   ]
  },
  {
   "cell_type": "code",
   "execution_count": 36,
   "metadata": {},
   "outputs": [
    {
     "data": {
      "text/plain": [
       "1    633\n",
       "Name: Cancelled, dtype: int64"
      ]
     },
     "execution_count": 36,
     "metadata": {},
     "output_type": "execute_result"
    }
   ],
   "source": [
    "cancelled['Cancelled'].value_counts()"
   ]
  },
  {
   "cell_type": "code",
   "execution_count": 35,
   "metadata": {},
   "outputs": [
    {
     "data": {
      "image/png": "[encoded data removed]",
      "text/plain": [
       "<Figure size 864x432 with 1 Axes>"
      ]
     },
     "metadata": {
      "needs_background": "light"
     },
     "output_type": "display_data"
    }
   ],
   "source": [
    "font = {'size'   : 16}\n",
    "plt.rc('font', **font)### pass in the font dict as kwargs\n",
    "\n",
    "days_cancelled = cancelled['Cancelled'].groupby(df_final['DayOfWeek']).count()\n",
    "days_total = df_final['Cancelled'].groupby(df_final['DayOfWeek']).count()\n",
    "days_frac = np.divide(days_cancelled, days_total)\n",
    "x=days_frac.index.values\n",
    "week = ['Monday', 'Tuesday', 'Wednesday', 'Thursday', 'Friday', 'Saturday', 'Sunday']\n",
    "\n",
    "fig, ax = plt.subplots(figsize = (12,6))\n",
    "ax.bar(x,days_frac*100, align='center')\n",
    "ax.set_ylabel('Percentage of Flights Cancelled')\n",
    "ax.set_xticks(x)\n",
    "ax.set_xticklabels(week, rotation = 45)\n",
    "\n",
    "plt.show()"
   ]
  },
  {
   "cell_type": "markdown",
   "metadata": {},
   "source": [
    "This shows that Tuesday has the highest percentage of cancelled flights, and Monday has the lowest."
   ]
  },
  {
   "cell_type": "markdown",
   "metadata": {},
   "source": [
    "# Feature Selection"
   ]
  },
  {
   "cell_type": "code",
   "execution_count": 38,
   "metadata": {},
   "outputs": [
    {
     "data": {
      "text/plain": [
       "Index(['CancellationCode_A', 'CancellationCode_B', 'CancellationCode_C',\n",
       "       'CancellationCode_N', 'Year', 'Month', 'DayofMonth', 'DayOfWeek',\n",
       "       'DepTime', 'CRSDepTime', 'CRSArrTime', 'FlightNum', 'ActualElapsedTime',\n",
       "       'CRSElapsedTime', 'AirTime', 'ArrDelay', 'DepDelay', 'Distance',\n",
       "       'TaxiIn', 'TaxiOut', 'Cancelled', 'Diverted', 'CarrierDelay',\n",
       "       'WeatherDelay', 'NASDelay', 'SecurityDelay', 'LateAircraftDelay'],\n",
       "      dtype='object')"
      ]
     },
     "execution_count": 38,
     "metadata": {},
     "output_type": "execute_result"
    }
   ],
   "source": [
    "df_final.columns"
   ]
  },
  {
   "cell_type": "code",
   "execution_count": 39,
   "metadata": {},
   "outputs": [],
   "source": [
    "dff=df_final.drop(['Year', 'Month', 'DayofMonth',\n",
    "       'DayOfWeek', 'DepTime','FlightNum'],axis=1)\n"
   ]
  },
  {
   "cell_type": "code",
   "execution_count": 40,
   "metadata": {},
   "outputs": [
    {
     "data": {
      "image/png": "[encoded data removed]",
      "text/plain": [
       "<Figure size 864x720 with 2 Axes>"
      ]
     },
     "metadata": {
      "needs_background": "light"
     },
     "output_type": "display_data"
    }
   ],
   "source": [
    "plt.figure(figsize=(12,10))\n",
    "cor=dff.corr()\n",
    "sns.heatmap(cor)\n",
    "plt.show()"
   ]
  },
  {
   "cell_type": "code",
   "execution_count": 41,
   "metadata": {},
   "outputs": [
    {
     "data": {
      "text/html": [
       "<div>\n",
       "<style scoped>\n",
       "    .dataframe tbody tr th:only-of-type {\n",
       "        vertical-align: middle;\n",
       "    }\n",
       "\n",
       "    .dataframe tbody tr th {\n",
       "        vertical-align: top;\n",
       "    }\n",
       "\n",
       "    .dataframe thead th {\n",
       "        text-align: right;\n",
       "    }\n",
       "</style>\n",
       "<table border=\"1\" class=\"dataframe\">\n",
       "  <thead>\n",
       "    <tr style=\"text-align: right;\">\n",
       "      <th></th>\n",
       "      <th>CancellationCode_A</th>\n",
       "      <th>CancellationCode_B</th>\n",
       "      <th>CancellationCode_C</th>\n",
       "      <th>CancellationCode_N</th>\n",
       "      <th>CRSDepTime</th>\n",
       "      <th>CRSArrTime</th>\n",
       "      <th>ActualElapsedTime</th>\n",
       "      <th>CRSElapsedTime</th>\n",
       "      <th>AirTime</th>\n",
       "      <th>ArrDelay</th>\n",
       "      <th>...</th>\n",
       "      <th>Distance</th>\n",
       "      <th>TaxiIn</th>\n",
       "      <th>TaxiOut</th>\n",
       "      <th>Cancelled</th>\n",
       "      <th>Diverted</th>\n",
       "      <th>CarrierDelay</th>\n",
       "      <th>WeatherDelay</th>\n",
       "      <th>NASDelay</th>\n",
       "      <th>SecurityDelay</th>\n",
       "      <th>LateAircraftDelay</th>\n",
       "    </tr>\n",
       "  </thead>\n",
       "  <tbody>\n",
       "    <tr>\n",
       "      <th>CancellationCode_A</th>\n",
       "      <td>1.000000e+00</td>\n",
       "      <td>-1.419134e-04</td>\n",
       "      <td>-7.243922e-05</td>\n",
       "      <td>-6.233361e-01</td>\n",
       "      <td>-0.002344</td>\n",
       "      <td>-0.001728</td>\n",
       "      <td>-3.995609e-18</td>\n",
       "      <td>0.000096</td>\n",
       "      <td>2.386513e-17</td>\n",
       "      <td>-2.730221e-18</td>\n",
       "      <td>...</td>\n",
       "      <td>-0.000430</td>\n",
       "      <td>5.249894e-17</td>\n",
       "      <td>0.000706</td>\n",
       "      <td>6.233361e-01</td>\n",
       "      <td>-7.145848e-04</td>\n",
       "      <td>3.451410e-16</td>\n",
       "      <td>-1.780198e-16</td>\n",
       "      <td>1.949266e-15</td>\n",
       "      <td>5.203939e-17</td>\n",
       "      <td>-2.903811e-16</td>\n",
       "    </tr>\n",
       "    <tr>\n",
       "      <th>CancellationCode_B</th>\n",
       "      <td>-1.419134e-04</td>\n",
       "      <td>1.000000e+00</td>\n",
       "      <td>-8.092491e-05</td>\n",
       "      <td>-6.963551e-01</td>\n",
       "      <td>0.002642</td>\n",
       "      <td>0.002456</td>\n",
       "      <td>5.921485e-17</td>\n",
       "      <td>-0.004127</td>\n",
       "      <td>4.341854e-17</td>\n",
       "      <td>-4.103585e-17</td>\n",
       "      <td>...</td>\n",
       "      <td>-0.005168</td>\n",
       "      <td>-9.931148e-16</td>\n",
       "      <td>0.001855</td>\n",
       "      <td>6.963551e-01</td>\n",
       "      <td>-7.982929e-04</td>\n",
       "      <td>5.838078e-16</td>\n",
       "      <td>-1.228114e-15</td>\n",
       "      <td>-2.092821e-15</td>\n",
       "      <td>5.441756e-16</td>\n",
       "      <td>-3.467257e-16</td>\n",
       "    </tr>\n",
       "    <tr>\n",
       "      <th>CancellationCode_C</th>\n",
       "      <td>-7.243922e-05</td>\n",
       "      <td>-8.092491e-05</td>\n",
       "      <td>1.000000e+00</td>\n",
       "      <td>-3.554521e-01</td>\n",
       "      <td>-0.000999</td>\n",
       "      <td>-0.001216</td>\n",
       "      <td>-9.920478e-17</td>\n",
       "      <td>-0.003098</td>\n",
       "      <td>8.704166e-17</td>\n",
       "      <td>-2.616243e-19</td>\n",
       "      <td>...</td>\n",
       "      <td>-0.003353</td>\n",
       "      <td>3.482518e-16</td>\n",
       "      <td>0.001011</td>\n",
       "      <td>3.554521e-01</td>\n",
       "      <td>-4.074859e-04</td>\n",
       "      <td>-2.670208e-16</td>\n",
       "      <td>3.583056e-17</td>\n",
       "      <td>-8.375067e-16</td>\n",
       "      <td>2.508178e-16</td>\n",
       "      <td>9.341265e-17</td>\n",
       "    </tr>\n",
       "    <tr>\n",
       "      <th>CancellationCode_N</th>\n",
       "      <td>-6.233361e-01</td>\n",
       "      <td>-6.963551e-01</td>\n",
       "      <td>-3.554521e-01</td>\n",
       "      <td>1.000000e+00</td>\n",
       "      <td>-0.000023</td>\n",
       "      <td>-0.000201</td>\n",
       "      <td>-7.573339e-17</td>\n",
       "      <td>0.003916</td>\n",
       "      <td>-3.090744e-16</td>\n",
       "      <td>-2.462409e-16</td>\n",
       "      <td>...</td>\n",
       "      <td>0.005060</td>\n",
       "      <td>5.988769e-15</td>\n",
       "      <td>-0.002091</td>\n",
       "      <td>-1.000000e+00</td>\n",
       "      <td>1.146388e-03</td>\n",
       "      <td>-1.221420e-15</td>\n",
       "      <td>-2.880507e-16</td>\n",
       "      <td>-4.205952e-16</td>\n",
       "      <td>-1.125586e-15</td>\n",
       "      <td>-1.358429e-16</td>\n",
       "    </tr>\n",
       "    <tr>\n",
       "      <th>CRSDepTime</th>\n",
       "      <td>-2.344105e-03</td>\n",
       "      <td>2.641653e-03</td>\n",
       "      <td>-9.993628e-04</td>\n",
       "      <td>-2.305380e-05</td>\n",
       "      <td>1.000000</td>\n",
       "      <td>0.710303</td>\n",
       "      <td>-3.484595e-02</td>\n",
       "      <td>-0.026387</td>\n",
       "      <td>-3.649897e-02</td>\n",
       "      <td>4.434680e-02</td>\n",
       "      <td>...</td>\n",
       "      <td>-0.029517</td>\n",
       "      <td>-3.231827e-02</td>\n",
       "      <td>0.011407</td>\n",
       "      <td>2.305380e-05</td>\n",
       "      <td>-9.096035e-03</td>\n",
       "      <td>-8.541723e-02</td>\n",
       "      <td>-7.431151e-03</td>\n",
       "      <td>-2.602259e-02</td>\n",
       "      <td>-1.357936e-02</td>\n",
       "      <td>1.334802e-01</td>\n",
       "    </tr>\n",
       "    <tr>\n",
       "      <th>CRSArrTime</th>\n",
       "      <td>-1.728126e-03</td>\n",
       "      <td>2.455603e-03</td>\n",
       "      <td>-1.215710e-03</td>\n",
       "      <td>-2.005906e-04</td>\n",
       "      <td>0.710303</td>\n",
       "      <td>1.000000</td>\n",
       "      <td>3.313074e-02</td>\n",
       "      <td>0.040112</td>\n",
       "      <td>2.585053e-02</td>\n",
       "      <td>4.298414e-02</td>\n",
       "      <td>...</td>\n",
       "      <td>0.024335</td>\n",
       "      <td>1.379330e-02</td>\n",
       "      <td>0.037938</td>\n",
       "      <td>2.005906e-04</td>\n",
       "      <td>9.065719e-04</td>\n",
       "      <td>-7.669054e-02</td>\n",
       "      <td>-4.013853e-03</td>\n",
       "      <td>7.359174e-03</td>\n",
       "      <td>-1.064682e-02</td>\n",
       "      <td>1.048530e-01</td>\n",
       "    </tr>\n",
       "    <tr>\n",
       "      <th>ActualElapsedTime</th>\n",
       "      <td>-3.995609e-18</td>\n",
       "      <td>5.921485e-17</td>\n",
       "      <td>-9.920478e-17</td>\n",
       "      <td>-7.573339e-17</td>\n",
       "      <td>-0.034846</td>\n",
       "      <td>0.033131</td>\n",
       "      <td>1.000000e+00</td>\n",
       "      <td>0.967599</td>\n",
       "      <td>9.766600e-01</td>\n",
       "      <td>6.812970e-02</td>\n",
       "      <td>...</td>\n",
       "      <td>0.949931</td>\n",
       "      <td>1.661182e-01</td>\n",
       "      <td>0.288367</td>\n",
       "      <td>1.244197e-17</td>\n",
       "      <td>3.709352e-16</td>\n",
       "      <td>8.038548e-03</td>\n",
       "      <td>3.281307e-03</td>\n",
       "      <td>1.429387e-01</td>\n",
       "      <td>4.615418e-03</td>\n",
       "      <td>-2.760090e-02</td>\n",
       "    </tr>\n",
       "    <tr>\n",
       "      <th>CRSElapsedTime</th>\n",
       "      <td>9.603212e-05</td>\n",
       "      <td>-4.126748e-03</td>\n",
       "      <td>-3.098361e-03</td>\n",
       "      <td>3.915927e-03</td>\n",
       "      <td>-0.026387</td>\n",
       "      <td>0.040112</td>\n",
       "      <td>9.675992e-01</td>\n",
       "      <td>1.000000</td>\n",
       "      <td>9.825087e-01</td>\n",
       "      <td>-1.561962e-02</td>\n",
       "      <td>...</td>\n",
       "      <td>0.981742</td>\n",
       "      <td>9.937646e-02</td>\n",
       "      <td>0.123815</td>\n",
       "      <td>-3.915927e-03</td>\n",
       "      <td>2.434413e-02</td>\n",
       "      <td>2.079714e-02</td>\n",
       "      <td>-1.288961e-02</td>\n",
       "      <td>3.673763e-02</td>\n",
       "      <td>4.774917e-03</td>\n",
       "      <td>-9.061788e-03</td>\n",
       "    </tr>\n",
       "    <tr>\n",
       "      <th>AirTime</th>\n",
       "      <td>2.386513e-17</td>\n",
       "      <td>4.341854e-17</td>\n",
       "      <td>8.704166e-17</td>\n",
       "      <td>-3.090744e-16</td>\n",
       "      <td>-0.036499</td>\n",
       "      <td>0.025851</td>\n",
       "      <td>9.766600e-01</td>\n",
       "      <td>0.982509</td>\n",
       "      <td>1.000000e+00</td>\n",
       "      <td>-1.889261e-04</td>\n",
       "      <td>...</td>\n",
       "      <td>0.977158</td>\n",
       "      <td>8.380996e-02</td>\n",
       "      <td>0.090023</td>\n",
       "      <td>-5.481650e-17</td>\n",
       "      <td>-4.817395e-16</td>\n",
       "      <td>1.561430e-02</td>\n",
       "      <td>-1.463875e-02</td>\n",
       "      <td>5.016042e-02</td>\n",
       "      <td>5.715933e-03</td>\n",
       "      <td>-1.757160e-02</td>\n",
       "    </tr>\n",
       "    <tr>\n",
       "      <th>ArrDelay</th>\n",
       "      <td>-2.730221e-18</td>\n",
       "      <td>-4.103585e-17</td>\n",
       "      <td>-2.616243e-19</td>\n",
       "      <td>-2.462409e-16</td>\n",
       "      <td>0.044347</td>\n",
       "      <td>0.042984</td>\n",
       "      <td>6.812970e-02</td>\n",
       "      <td>-0.015620</td>\n",
       "      <td>-1.889261e-04</td>\n",
       "      <td>1.000000e+00</td>\n",
       "      <td>...</td>\n",
       "      <td>-0.029757</td>\n",
       "      <td>1.560609e-01</td>\n",
       "      <td>0.285296</td>\n",
       "      <td>3.464519e-17</td>\n",
       "      <td>4.979952e-17</td>\n",
       "      <td>4.317916e-01</td>\n",
       "      <td>2.277170e-01</td>\n",
       "      <td>3.335476e-01</td>\n",
       "      <td>-2.141391e-03</td>\n",
       "      <td>4.114399e-01</td>\n",
       "    </tr>\n",
       "    <tr>\n",
       "      <th>DepDelay</th>\n",
       "      <td>1.291936e-02</td>\n",
       "      <td>8.168655e-03</td>\n",
       "      <td>7.869823e-03</td>\n",
       "      <td>-1.654210e-02</td>\n",
       "      <td>0.058875</td>\n",
       "      <td>0.053706</td>\n",
       "      <td>1.840465e-02</td>\n",
       "      <td>0.007001</td>\n",
       "      <td>-2.740411e-03</td>\n",
       "      <td>9.484307e-01</td>\n",
       "      <td>...</td>\n",
       "      <td>-0.007718</td>\n",
       "      <td>7.442978e-02</td>\n",
       "      <td>0.078635</td>\n",
       "      <td>1.654210e-02</td>\n",
       "      <td>2.286652e-02</td>\n",
       "      <td>4.751020e-01</td>\n",
       "      <td>2.199778e-01</td>\n",
       "      <td>2.105199e-01</td>\n",
       "      <td>-2.107933e-03</td>\n",
       "      <td>4.616079e-01</td>\n",
       "    </tr>\n",
       "    <tr>\n",
       "      <th>Distance</th>\n",
       "      <td>-4.295341e-04</td>\n",
       "      <td>-5.168297e-03</td>\n",
       "      <td>-3.353365e-03</td>\n",
       "      <td>5.059675e-03</td>\n",
       "      <td>-0.029517</td>\n",
       "      <td>0.024335</td>\n",
       "      <td>9.499313e-01</td>\n",
       "      <td>0.981742</td>\n",
       "      <td>9.771579e-01</td>\n",
       "      <td>-2.975709e-02</td>\n",
       "      <td>...</td>\n",
       "      <td>1.000000</td>\n",
       "      <td>7.210779e-02</td>\n",
       "      <td>0.070290</td>\n",
       "      <td>-5.059675e-03</td>\n",
       "      <td>2.169182e-02</td>\n",
       "      <td>2.222674e-02</td>\n",
       "      <td>-1.861351e-02</td>\n",
       "      <td>1.415099e-02</td>\n",
       "      <td>5.492755e-03</td>\n",
       "      <td>-8.265899e-03</td>\n",
       "    </tr>\n",
       "    <tr>\n",
       "      <th>TaxiIn</th>\n",
       "      <td>5.249894e-17</td>\n",
       "      <td>-9.931148e-16</td>\n",
       "      <td>3.482518e-16</td>\n",
       "      <td>5.988769e-15</td>\n",
       "      <td>-0.032318</td>\n",
       "      <td>0.013793</td>\n",
       "      <td>1.661182e-01</td>\n",
       "      <td>0.099376</td>\n",
       "      <td>8.380996e-02</td>\n",
       "      <td>1.560609e-01</td>\n",
       "      <td>...</td>\n",
       "      <td>0.072108</td>\n",
       "      <td>1.000000e+00</td>\n",
       "      <td>0.066703</td>\n",
       "      <td>-5.765927e-15</td>\n",
       "      <td>4.754467e-03</td>\n",
       "      <td>-2.022056e-02</td>\n",
       "      <td>2.360482e-02</td>\n",
       "      <td>2.114104e-01</td>\n",
       "      <td>-4.511760e-03</td>\n",
       "      <td>-6.423340e-03</td>\n",
       "    </tr>\n",
       "    <tr>\n",
       "      <th>TaxiOut</th>\n",
       "      <td>7.060159e-04</td>\n",
       "      <td>1.854589e-03</td>\n",
       "      <td>1.011159e-03</td>\n",
       "      <td>-2.091365e-03</td>\n",
       "      <td>0.011407</td>\n",
       "      <td>0.037938</td>\n",
       "      <td>2.883666e-01</td>\n",
       "      <td>0.123815</td>\n",
       "      <td>9.002292e-02</td>\n",
       "      <td>2.852956e-01</td>\n",
       "      <td>...</td>\n",
       "      <td>0.070290</td>\n",
       "      <td>6.670260e-02</td>\n",
       "      <td>1.000000</td>\n",
       "      <td>2.091365e-03</td>\n",
       "      <td>1.576045e-02</td>\n",
       "      <td>-2.685673e-02</td>\n",
       "      <td>7.772622e-02</td>\n",
       "      <td>3.996220e-01</td>\n",
       "      <td>-2.503351e-03</td>\n",
       "      <td>-5.212120e-02</td>\n",
       "    </tr>\n",
       "    <tr>\n",
       "      <th>Cancelled</th>\n",
       "      <td>6.233361e-01</td>\n",
       "      <td>6.963551e-01</td>\n",
       "      <td>3.554521e-01</td>\n",
       "      <td>-1.000000e+00</td>\n",
       "      <td>0.000023</td>\n",
       "      <td>0.000201</td>\n",
       "      <td>1.244197e-17</td>\n",
       "      <td>-0.003916</td>\n",
       "      <td>-5.481650e-17</td>\n",
       "      <td>3.464519e-17</td>\n",
       "      <td>...</td>\n",
       "      <td>-0.005060</td>\n",
       "      <td>-5.765927e-15</td>\n",
       "      <td>0.002091</td>\n",
       "      <td>1.000000e+00</td>\n",
       "      <td>-1.146388e-03</td>\n",
       "      <td>1.405699e-15</td>\n",
       "      <td>4.084926e-16</td>\n",
       "      <td>6.636026e-16</td>\n",
       "      <td>1.180293e-15</td>\n",
       "      <td>1.170138e-16</td>\n",
       "    </tr>\n",
       "    <tr>\n",
       "      <th>Diverted</th>\n",
       "      <td>-7.145848e-04</td>\n",
       "      <td>-7.982929e-04</td>\n",
       "      <td>-4.074859e-04</td>\n",
       "      <td>1.146388e-03</td>\n",
       "      <td>-0.009096</td>\n",
       "      <td>0.000907</td>\n",
       "      <td>3.709352e-16</td>\n",
       "      <td>0.024344</td>\n",
       "      <td>-4.817395e-16</td>\n",
       "      <td>4.979952e-17</td>\n",
       "      <td>...</td>\n",
       "      <td>0.021692</td>\n",
       "      <td>4.754467e-03</td>\n",
       "      <td>0.015760</td>\n",
       "      <td>-1.146388e-03</td>\n",
       "      <td>1.000000e+00</td>\n",
       "      <td>2.229762e-15</td>\n",
       "      <td>-7.090261e-15</td>\n",
       "      <td>-3.767952e-15</td>\n",
       "      <td>-3.168924e-15</td>\n",
       "      <td>2.276568e-15</td>\n",
       "    </tr>\n",
       "    <tr>\n",
       "      <th>CarrierDelay</th>\n",
       "      <td>3.451410e-16</td>\n",
       "      <td>5.838078e-16</td>\n",
       "      <td>-2.670208e-16</td>\n",
       "      <td>-1.221420e-15</td>\n",
       "      <td>-0.085417</td>\n",
       "      <td>-0.076691</td>\n",
       "      <td>8.038548e-03</td>\n",
       "      <td>0.020797</td>\n",
       "      <td>1.561430e-02</td>\n",
       "      <td>4.317916e-01</td>\n",
       "      <td>...</td>\n",
       "      <td>0.022227</td>\n",
       "      <td>-2.022056e-02</td>\n",
       "      <td>-0.026857</td>\n",
       "      <td>1.405699e-15</td>\n",
       "      <td>2.229762e-15</td>\n",
       "      <td>1.000000e+00</td>\n",
       "      <td>-6.895143e-02</td>\n",
       "      <td>-1.195344e-01</td>\n",
       "      <td>-1.853717e-02</td>\n",
       "      <td>-1.782855e-01</td>\n",
       "    </tr>\n",
       "    <tr>\n",
       "      <th>WeatherDelay</th>\n",
       "      <td>-1.780198e-16</td>\n",
       "      <td>-1.228114e-15</td>\n",
       "      <td>3.583056e-17</td>\n",
       "      <td>-2.880507e-16</td>\n",
       "      <td>-0.007431</td>\n",
       "      <td>-0.004014</td>\n",
       "      <td>3.281307e-03</td>\n",
       "      <td>-0.012890</td>\n",
       "      <td>-1.463875e-02</td>\n",
       "      <td>2.277170e-01</td>\n",
       "      <td>...</td>\n",
       "      <td>-0.018614</td>\n",
       "      <td>2.360482e-02</td>\n",
       "      <td>0.077726</td>\n",
       "      <td>4.084926e-16</td>\n",
       "      <td>-7.090261e-15</td>\n",
       "      <td>-6.895143e-02</td>\n",
       "      <td>1.000000e+00</td>\n",
       "      <td>-2.553068e-03</td>\n",
       "      <td>-7.511150e-03</td>\n",
       "      <td>-5.497081e-02</td>\n",
       "    </tr>\n",
       "    <tr>\n",
       "      <th>NASDelay</th>\n",
       "      <td>1.949266e-15</td>\n",
       "      <td>-2.092821e-15</td>\n",
       "      <td>-8.375067e-16</td>\n",
       "      <td>-4.205952e-16</td>\n",
       "      <td>-0.026023</td>\n",
       "      <td>0.007359</td>\n",
       "      <td>1.429387e-01</td>\n",
       "      <td>0.036738</td>\n",
       "      <td>5.016042e-02</td>\n",
       "      <td>3.335476e-01</td>\n",
       "      <td>...</td>\n",
       "      <td>0.014151</td>\n",
       "      <td>2.114104e-01</td>\n",
       "      <td>0.399622</td>\n",
       "      <td>6.636026e-16</td>\n",
       "      <td>-3.767952e-15</td>\n",
       "      <td>-1.195344e-01</td>\n",
       "      <td>-2.553068e-03</td>\n",
       "      <td>1.000000e+00</td>\n",
       "      <td>-1.172319e-02</td>\n",
       "      <td>-1.189048e-01</td>\n",
       "    </tr>\n",
       "    <tr>\n",
       "      <th>SecurityDelay</th>\n",
       "      <td>5.203939e-17</td>\n",
       "      <td>5.441756e-16</td>\n",
       "      <td>2.508178e-16</td>\n",
       "      <td>-1.125586e-15</td>\n",
       "      <td>-0.013579</td>\n",
       "      <td>-0.010647</td>\n",
       "      <td>4.615418e-03</td>\n",
       "      <td>0.004775</td>\n",
       "      <td>5.715933e-03</td>\n",
       "      <td>-2.141391e-03</td>\n",
       "      <td>...</td>\n",
       "      <td>0.005493</td>\n",
       "      <td>-4.511760e-03</td>\n",
       "      <td>-0.002503</td>\n",
       "      <td>1.180293e-15</td>\n",
       "      <td>-3.168924e-15</td>\n",
       "      <td>-1.853717e-02</td>\n",
       "      <td>-7.511150e-03</td>\n",
       "      <td>-1.172319e-02</td>\n",
       "      <td>1.000000e+00</td>\n",
       "      <td>-1.922742e-02</td>\n",
       "    </tr>\n",
       "    <tr>\n",
       "      <th>LateAircraftDelay</th>\n",
       "      <td>-2.903811e-16</td>\n",
       "      <td>-3.467257e-16</td>\n",
       "      <td>9.341265e-17</td>\n",
       "      <td>-1.358429e-16</td>\n",
       "      <td>0.133480</td>\n",
       "      <td>0.104853</td>\n",
       "      <td>-2.760090e-02</td>\n",
       "      <td>-0.009062</td>\n",
       "      <td>-1.757160e-02</td>\n",
       "      <td>4.114399e-01</td>\n",
       "      <td>...</td>\n",
       "      <td>-0.008266</td>\n",
       "      <td>-6.423340e-03</td>\n",
       "      <td>-0.052121</td>\n",
       "      <td>1.170138e-16</td>\n",
       "      <td>2.276568e-15</td>\n",
       "      <td>-1.782855e-01</td>\n",
       "      <td>-5.497081e-02</td>\n",
       "      <td>-1.189048e-01</td>\n",
       "      <td>-1.922742e-02</td>\n",
       "      <td>1.000000e+00</td>\n",
       "    </tr>\n",
       "  </tbody>\n",
       "</table>\n",
       "<p>21 rows × 21 columns</p>\n",
       "</div>"
      ],
      "text/plain": [
       "                    CancellationCode_A  CancellationCode_B  \\\n",
       "CancellationCode_A        1.000000e+00       -1.419134e-04   \n",
       "CancellationCode_B       -1.419134e-04        1.000000e+00   \n",
       "CancellationCode_C       -7.243922e-05       -8.092491e-05   \n",
       "CancellationCode_N       -6.233361e-01       -6.963551e-01   \n",
       "CRSDepTime               -2.344105e-03        2.641653e-03   \n",
       "CRSArrTime               -1.728126e-03        2.455603e-03   \n",
       "ActualElapsedTime        -3.995609e-18        5.921485e-17   \n",
       "CRSElapsedTime            9.603212e-05       -4.126748e-03   \n",
       "AirTime                   2.386513e-17        4.341854e-17   \n",
       "ArrDelay                 -2.730221e-18       -4.103585e-17   \n",
       "DepDelay                  1.291936e-02        8.168655e-03   \n",
       "Distance                 -4.295341e-04       -5.168297e-03   \n",
       "TaxiIn                    5.249894e-17       -9.931148e-16   \n",
       "TaxiOut                   7.060159e-04        1.854589e-03   \n",
       "Cancelled                 6.233361e-01        6.963551e-01   \n",
       "Diverted                 -7.145848e-04       -7.982929e-04   \n",
       "CarrierDelay              3.451410e-16        5.838078e-16   \n",
       "WeatherDelay             -1.780198e-16       -1.228114e-15   \n",
       "NASDelay                  1.949266e-15       -2.092821e-15   \n",
       "SecurityDelay             5.203939e-17        5.441756e-16   \n",
       "LateAircraftDelay        -2.903811e-16       -3.467257e-16   \n",
       "\n",
       "                    CancellationCode_C  CancellationCode_N  CRSDepTime  \\\n",
       "CancellationCode_A       -7.243922e-05       -6.233361e-01   -0.002344   \n",
       "CancellationCode_B       -8.092491e-05       -6.963551e-01    0.002642   \n",
       "CancellationCode_C        1.000000e+00       -3.554521e-01   -0.000999   \n",
       "CancellationCode_N       -3.554521e-01        1.000000e+00   -0.000023   \n",
       "CRSDepTime               -9.993628e-04       -2.305380e-05    1.000000   \n",
       "CRSArrTime               -1.215710e-03       -2.005906e-04    0.710303   \n",
       "ActualElapsedTime        -9.920478e-17       -7.573339e-17   -0.034846   \n",
       "CRSElapsedTime           -3.098361e-03        3.915927e-03   -0.026387   \n",
       "AirTime                   8.704166e-17       -3.090744e-16   -0.036499   \n",
       "ArrDelay                 -2.616243e-19       -2.462409e-16    0.044347   \n",
       "DepDelay                  7.869823e-03       -1.654210e-02    0.058875   \n",
       "Distance                 -3.353365e-03        5.059675e-03   -0.029517   \n",
       "TaxiIn                    3.482518e-16        5.988769e-15   -0.032318   \n",
       "TaxiOut                   1.011159e-03       -2.091365e-03    0.011407   \n",
       "Cancelled                 3.554521e-01       -1.000000e+00    0.000023   \n",
       "Diverted                 -4.074859e-04        1.146388e-03   -0.009096   \n",
       "CarrierDelay             -2.670208e-16       -1.221420e-15   -0.085417   \n",
       "WeatherDelay              3.583056e-17       -2.880507e-16   -0.007431   \n",
       "NASDelay                 -8.375067e-16       -4.205952e-16   -0.026023   \n",
       "SecurityDelay             2.508178e-16       -1.125586e-15   -0.013579   \n",
       "LateAircraftDelay         9.341265e-17       -1.358429e-16    0.133480   \n",
       "\n",
       "                    CRSArrTime  ActualElapsedTime  CRSElapsedTime  \\\n",
       "CancellationCode_A   -0.001728      -3.995609e-18        0.000096   \n",
       "CancellationCode_B    0.002456       5.921485e-17       -0.004127   \n",
       "CancellationCode_C   -0.001216      -9.920478e-17       -0.003098   \n",
       "CancellationCode_N   -0.000201      -7.573339e-17        0.003916   \n",
       "CRSDepTime            0.710303      -3.484595e-02       -0.026387   \n",
       "CRSArrTime            1.000000       3.313074e-02        0.040112   \n",
       "ActualElapsedTime     0.033131       1.000000e+00        0.967599   \n",
       "CRSElapsedTime        0.040112       9.675992e-01        1.000000   \n",
       "AirTime               0.025851       9.766600e-01        0.982509   \n",
       "ArrDelay              0.042984       6.812970e-02       -0.015620   \n",
       "DepDelay              0.053706       1.840465e-02        0.007001   \n",
       "Distance              0.024335       9.499313e-01        0.981742   \n",
       "TaxiIn                0.013793       1.661182e-01        0.099376   \n",
       "TaxiOut               0.037938       2.883666e-01        0.123815   \n",
       "Cancelled             0.000201       1.244197e-17       -0.003916   \n",
       "Diverted              0.000907       3.709352e-16        0.024344   \n",
       "CarrierDelay         -0.076691       8.038548e-03        0.020797   \n",
       "WeatherDelay         -0.004014       3.281307e-03       -0.012890   \n",
       "NASDelay              0.007359       1.429387e-01        0.036738   \n",
       "SecurityDelay        -0.010647       4.615418e-03        0.004775   \n",
       "LateAircraftDelay     0.104853      -2.760090e-02       -0.009062   \n",
       "\n",
       "                         AirTime      ArrDelay  ...  Distance        TaxiIn  \\\n",
       "CancellationCode_A  2.386513e-17 -2.730221e-18  ... -0.000430  5.249894e-17   \n",
       "CancellationCode_B  4.341854e-17 -4.103585e-17  ... -0.005168 -9.931148e-16   \n",
       "CancellationCode_C  8.704166e-17 -2.616243e-19  ... -0.003353  3.482518e-16   \n",
       "CancellationCode_N -3.090744e-16 -2.462409e-16  ...  0.005060  5.988769e-15   \n",
       "CRSDepTime         -3.649897e-02  4.434680e-02  ... -0.029517 -3.231827e-02   \n",
       "CRSArrTime          2.585053e-02  4.298414e-02  ...  0.024335  1.379330e-02   \n",
       "ActualElapsedTime   9.766600e-01  6.812970e-02  ...  0.949931  1.661182e-01   \n",
       "CRSElapsedTime      9.825087e-01 -1.561962e-02  ...  0.981742  9.937646e-02   \n",
       "AirTime             1.000000e+00 -1.889261e-04  ...  0.977158  8.380996e-02   \n",
       "ArrDelay           -1.889261e-04  1.000000e+00  ... -0.029757  1.560609e-01   \n",
       "DepDelay           -2.740411e-03  9.484307e-01  ... -0.007718  7.442978e-02   \n",
       "Distance            9.771579e-01 -2.975709e-02  ...  1.000000  7.210779e-02   \n",
       "TaxiIn              8.380996e-02  1.560609e-01  ...  0.072108  1.000000e+00   \n",
       "TaxiOut             9.002292e-02  2.852956e-01  ...  0.070290  6.670260e-02   \n",
       "Cancelled          -5.481650e-17  3.464519e-17  ... -0.005060 -5.765927e-15   \n",
       "Diverted           -4.817395e-16  4.979952e-17  ...  0.021692  4.754467e-03   \n",
       "CarrierDelay        1.561430e-02  4.317916e-01  ...  0.022227 -2.022056e-02   \n",
       "WeatherDelay       -1.463875e-02  2.277170e-01  ... -0.018614  2.360482e-02   \n",
       "NASDelay            5.016042e-02  3.335476e-01  ...  0.014151  2.114104e-01   \n",
       "SecurityDelay       5.715933e-03 -2.141391e-03  ...  0.005493 -4.511760e-03   \n",
       "LateAircraftDelay  -1.757160e-02  4.114399e-01  ... -0.008266 -6.423340e-03   \n",
       "\n",
       "                     TaxiOut     Cancelled      Diverted  CarrierDelay  \\\n",
       "CancellationCode_A  0.000706  6.233361e-01 -7.145848e-04  3.451410e-16   \n",
       "CancellationCode_B  0.001855  6.963551e-01 -7.982929e-04  5.838078e-16   \n",
       "CancellationCode_C  0.001011  3.554521e-01 -4.074859e-04 -2.670208e-16   \n",
       "CancellationCode_N -0.002091 -1.000000e+00  1.146388e-03 -1.221420e-15   \n",
       "CRSDepTime          0.011407  2.305380e-05 -9.096035e-03 -8.541723e-02   \n",
       "CRSArrTime          0.037938  2.005906e-04  9.065719e-04 -7.669054e-02   \n",
       "ActualElapsedTime   0.288367  1.244197e-17  3.709352e-16  8.038548e-03   \n",
       "CRSElapsedTime      0.123815 -3.915927e-03  2.434413e-02  2.079714e-02   \n",
       "AirTime             0.090023 -5.481650e-17 -4.817395e-16  1.561430e-02   \n",
       "ArrDelay            0.285296  3.464519e-17  4.979952e-17  4.317916e-01   \n",
       "DepDelay            0.078635  1.654210e-02  2.286652e-02  4.751020e-01   \n",
       "Distance            0.070290 -5.059675e-03  2.169182e-02  2.222674e-02   \n",
       "TaxiIn              0.066703 -5.765927e-15  4.754467e-03 -2.022056e-02   \n",
       "TaxiOut             1.000000  2.091365e-03  1.576045e-02 -2.685673e-02   \n",
       "Cancelled           0.002091  1.000000e+00 -1.146388e-03  1.405699e-15   \n",
       "Diverted            0.015760 -1.146388e-03  1.000000e+00  2.229762e-15   \n",
       "CarrierDelay       -0.026857  1.405699e-15  2.229762e-15  1.000000e+00   \n",
       "WeatherDelay        0.077726  4.084926e-16 -7.090261e-15 -6.895143e-02   \n",
       "NASDelay            0.399622  6.636026e-16 -3.767952e-15 -1.195344e-01   \n",
       "SecurityDelay      -0.002503  1.180293e-15 -3.168924e-15 -1.853717e-02   \n",
       "LateAircraftDelay  -0.052121  1.170138e-16  2.276568e-15 -1.782855e-01   \n",
       "\n",
       "                    WeatherDelay      NASDelay  SecurityDelay  \\\n",
       "CancellationCode_A -1.780198e-16  1.949266e-15   5.203939e-17   \n",
       "CancellationCode_B -1.228114e-15 -2.092821e-15   5.441756e-16   \n",
       "CancellationCode_C  3.583056e-17 -8.375067e-16   2.508178e-16   \n",
       "CancellationCode_N -2.880507e-16 -4.205952e-16  -1.125586e-15   \n",
       "CRSDepTime         -7.431151e-03 -2.602259e-02  -1.357936e-02   \n",
       "CRSArrTime         -4.013853e-03  7.359174e-03  -1.064682e-02   \n",
       "ActualElapsedTime   3.281307e-03  1.429387e-01   4.615418e-03   \n",
       "CRSElapsedTime     -1.288961e-02  3.673763e-02   4.774917e-03   \n",
       "AirTime            -1.463875e-02  5.016042e-02   5.715933e-03   \n",
       "ArrDelay            2.277170e-01  3.335476e-01  -2.141391e-03   \n",
       "DepDelay            2.199778e-01  2.105199e-01  -2.107933e-03   \n",
       "Distance           -1.861351e-02  1.415099e-02   5.492755e-03   \n",
       "TaxiIn              2.360482e-02  2.114104e-01  -4.511760e-03   \n",
       "TaxiOut             7.772622e-02  3.996220e-01  -2.503351e-03   \n",
       "Cancelled           4.084926e-16  6.636026e-16   1.180293e-15   \n",
       "Diverted           -7.090261e-15 -3.767952e-15  -3.168924e-15   \n",
       "CarrierDelay       -6.895143e-02 -1.195344e-01  -1.853717e-02   \n",
       "WeatherDelay        1.000000e+00 -2.553068e-03  -7.511150e-03   \n",
       "NASDelay           -2.553068e-03  1.000000e+00  -1.172319e-02   \n",
       "SecurityDelay      -7.511150e-03 -1.172319e-02   1.000000e+00   \n",
       "LateAircraftDelay  -5.497081e-02 -1.189048e-01  -1.922742e-02   \n",
       "\n",
       "                    LateAircraftDelay  \n",
       "CancellationCode_A      -2.903811e-16  \n",
       "CancellationCode_B      -3.467257e-16  \n",
       "CancellationCode_C       9.341265e-17  \n",
       "CancellationCode_N      -1.358429e-16  \n",
       "CRSDepTime               1.334802e-01  \n",
       "CRSArrTime               1.048530e-01  \n",
       "ActualElapsedTime       -2.760090e-02  \n",
       "CRSElapsedTime          -9.061788e-03  \n",
       "AirTime                 -1.757160e-02  \n",
       "ArrDelay                 4.114399e-01  \n",
       "DepDelay                 4.616079e-01  \n",
       "Distance                -8.265899e-03  \n",
       "TaxiIn                  -6.423340e-03  \n",
       "TaxiOut                 -5.212120e-02  \n",
       "Cancelled                1.170138e-16  \n",
       "Diverted                 2.276568e-15  \n",
       "CarrierDelay            -1.782855e-01  \n",
       "WeatherDelay            -5.497081e-02  \n",
       "NASDelay                -1.189048e-01  \n",
       "SecurityDelay           -1.922742e-02  \n",
       "LateAircraftDelay        1.000000e+00  \n",
       "\n",
       "[21 rows x 21 columns]"
      ]
     },
     "execution_count": 41,
     "metadata": {},
     "output_type": "execute_result"
    }
   ],
   "source": [
    "cor"
   ]
  },
  {
   "cell_type": "code",
   "execution_count": 42,
   "metadata": {},
   "outputs": [
    {
     "data": {
      "text/plain": [
       "ArrDelay             0.948431\n",
       "DepDelay             1.000000\n",
       "CarrierDelay         0.475102\n",
       "WeatherDelay         0.219978\n",
       "NASDelay             0.210520\n",
       "LateAircraftDelay    0.461608\n",
       "Name: DepDelay, dtype: float64"
      ]
     },
     "execution_count": 42,
     "metadata": {},
     "output_type": "execute_result"
    }
   ],
   "source": [
    "cor_target = cor[\"DepDelay\"]\n",
    "#Selecting highly correlated features\n",
    "relevant_features = cor_target[cor_target>0.1]\n",
    "relevant_features"
   ]
  },
  {
   "cell_type": "code",
   "execution_count": 43,
   "metadata": {},
   "outputs": [
    {
     "data": {
      "text/plain": [
       "CancellationCode_A    0.012919\n",
       "CancellationCode_B    0.008169\n",
       "CancellationCode_C    0.007870\n",
       "CancellationCode_N   -0.016542\n",
       "CRSDepTime            0.058875\n",
       "CRSArrTime            0.053706\n",
       "ActualElapsedTime     0.018405\n",
       "CRSElapsedTime        0.007001\n",
       "AirTime              -0.002740\n",
       "ArrDelay              0.948431\n",
       "DepDelay              1.000000\n",
       "Distance             -0.007718\n",
       "TaxiIn                0.074430\n",
       "TaxiOut               0.078635\n",
       "Cancelled             0.016542\n",
       "Diverted              0.022867\n",
       "CarrierDelay          0.475102\n",
       "WeatherDelay          0.219978\n",
       "NASDelay              0.210520\n",
       "SecurityDelay        -0.002108\n",
       "LateAircraftDelay     0.461608\n",
       "Name: DepDelay, dtype: float64"
      ]
     },
     "execution_count": 43,
     "metadata": {},
     "output_type": "execute_result"
    }
   ],
   "source": [
    "cor[\"DepDelay\"]"
   ]
  },
  {
   "cell_type": "markdown",
   "metadata": {},
   "source": [
    "# Model Building - train"
   ]
  },
  {
   "cell_type": "markdown",
   "metadata": {},
   "source": [
    "# Linear Regression"
   ]
  },
  {
   "cell_type": "code",
   "execution_count": 44,
   "metadata": {},
   "outputs": [],
   "source": [
    "x=dff[['ArrDelay','CarrierDelay','WeatherDelay','NASDelay','LateAircraftDelay']]\n",
    "y=dff[['DepDelay']]"
   ]
  },
  {
   "cell_type": "code",
   "execution_count": 45,
   "metadata": {},
   "outputs": [],
   "source": [
    "X_train,X_test,Y_train,Y_test=train_test_split(x,y,test_size=0.2,random_state=10)"
   ]
  },
  {
   "cell_type": "code",
   "execution_count": 46,
   "metadata": {},
   "outputs": [],
   "source": [
    "from sklearn.metrics import r2_score,mean_squared_error"
   ]
  },
  {
   "cell_type": "code",
   "execution_count": 47,
   "metadata": {},
   "outputs": [],
   "source": [
    "X_train,X_test,Y_train,Y_test=train_test_split(x,y,test_size=0.2,random_state=10)\n",
    "model=LinearRegression().fit(X_train,Y_train)\n",
    "\n"
   ]
  },
  {
   "cell_type": "markdown",
   "metadata": {},
   "source": [
    "# Train set"
   ]
  },
  {
   "cell_type": "code",
   "execution_count": 48,
   "metadata": {},
   "outputs": [
    {
     "name": "stdout",
     "output_type": "stream",
     "text": [
      "0.9231462363422898\n"
     ]
    }
   ],
   "source": [
    "pred_train = model.predict(X_train) # prediction on train data\n",
    "print(r2_score(Y_train,pred_train)) # r2 score of train set"
   ]
  },
  {
   "cell_type": "code",
   "execution_count": 49,
   "metadata": {},
   "outputs": [
    {
     "data": {
      "text/plain": [
       "219.05523313449123"
      ]
     },
     "execution_count": 49,
     "metadata": {},
     "output_type": "execute_result"
    }
   ],
   "source": [
    "mean_squared_error(Y_train,pred_train)"
   ]
  },
  {
   "cell_type": "markdown",
   "metadata": {},
   "source": [
    "# Test set"
   ]
  },
  {
   "cell_type": "code",
   "execution_count": 50,
   "metadata": {},
   "outputs": [
    {
     "name": "stdout",
     "output_type": "stream",
     "text": [
      "0.9226756073145206\n"
     ]
    }
   ],
   "source": [
    "pred_test = model.predict(X_test) # prediction on test data\n",
    "print(r2_score(Y_test,pred_test)) # r2 score of test set"
   ]
  },
  {
   "cell_type": "code",
   "execution_count": 51,
   "metadata": {},
   "outputs": [
    {
     "data": {
      "text/plain": [
       "220.99168363533346"
      ]
     },
     "execution_count": 51,
     "metadata": {},
     "output_type": "execute_result"
    }
   ],
   "source": [
    "mean_squared_error(Y_test,pred_test)"
   ]
  },
  {
   "cell_type": "code",
   "execution_count": 52,
   "metadata": {},
   "outputs": [
    {
     "data": {
      "text/plain": [
       "Text(0.5, 1.0, 'NASDelay')"
      ]
     },
     "execution_count": 52,
     "metadata": {},
     "output_type": "execute_result"
    },
    {
     "data": {
      "image/png": "[encoded data removed]",
      "text/plain": [
       "<Figure size 864x864 with 4 Axes>"
      ]
     },
     "metadata": {
      "needs_background": "light"
     },
     "output_type": "display_data"
    }
   ],
   "source": [
    "plt.figure(figsize=(12, 12))\n",
    "plt.subplot(2,2,1)\n",
    "plt.scatter(df_num_new2['ArrDelay'],df_num_new2['DepDelay'])\n",
    "plt.title('Arrival Delay')\n",
    "plt.subplot(2,2,2)\n",
    "plt.scatter(df_num_new2['CarrierDelay'],df_num_new2['DepDelay'])\n",
    "plt.title('CarrierDelay')\n",
    "plt.subplot(2,2,3)\n",
    "plt.scatter(df_num_new2['WeatherDelay'],df_num_new2['DepDelay'])\n",
    "plt.title('WeatherDelay')\n",
    "plt.subplot(2,2,4)\n",
    "plt.scatter(df_num_new2['NASDelay'],df_num_new2['DepDelay'])\n",
    "plt.title('NASDelay')"
   ]
  },
  {
   "cell_type": "markdown",
   "metadata": {},
   "source": [
    "# Lasso Regularization"
   ]
  },
  {
   "cell_type": "code",
   "execution_count": 53,
   "metadata": {},
   "outputs": [
    {
     "name": "stderr",
     "output_type": "stream",
     "text": [
      "C:\\Users\\DELL\\Anaconda3\\lib\\site-packages\\sklearn\\linear_model\\coordinate_descent.py:1109: DataConversionWarning: A column-vector y was passed when a 1d array was expected. Please change the shape of y to (n_samples, ), for example using ravel().\n",
      "  y = column_or_1d(y, warn=True)\n",
      "C:\\Users\\DELL\\Anaconda3\\lib\\site-packages\\sklearn\\model_selection\\_split.py:2053: FutureWarning: You should specify a value for 'cv' instead of relying on the default value. The default value will change from 3 to 5 in version 0.22.\n",
      "  warnings.warn(CV_WARNING, FutureWarning)\n"
     ]
    },
    {
     "data": {
      "text/plain": [
       "0.001"
      ]
     },
     "execution_count": 53,
     "metadata": {},
     "output_type": "execute_result"
    }
   ],
   "source": [
    "from sklearn.linear_model import LassoCV\n",
    "lasso_cv = LassoCV(alphas = np.arange(0.001,10,0.1))\n",
    "model_cv= lasso_cv.fit(X_train,Y_train)\n",
    "model_cv.alpha_"
   ]
  },
  {
   "cell_type": "code",
   "execution_count": 54,
   "metadata": {},
   "outputs": [
    {
     "data": {
      "text/plain": [
       "Lasso(alpha=0.001, copy_X=True, fit_intercept=True, max_iter=1000,\n",
       "   normalize=False, positive=False, precompute=False, random_state=0,\n",
       "   selection='cyclic', tol=0.0001, warm_start=False)"
      ]
     },
     "execution_count": 54,
     "metadata": {},
     "output_type": "execute_result"
    }
   ],
   "source": [
    "from sklearn.linear_model import Lasso\n",
    "lasso_reg =Lasso(alpha=.001,random_state=0)\n",
    "lasso_reg.fit(X_train,Y_train)\n"
   ]
  },
  {
   "cell_type": "markdown",
   "metadata": {},
   "source": [
    "# Training Set"
   ]
  },
  {
   "cell_type": "code",
   "execution_count": 55,
   "metadata": {},
   "outputs": [],
   "source": [
    "y_pred_lasso = lasso_reg.predict(X_train)"
   ]
  },
  {
   "cell_type": "code",
   "execution_count": 56,
   "metadata": {},
   "outputs": [],
   "source": [
    "rmse = np.sqrt(mean_squared_error(Y_train,y_pred_lasso))\n",
    "r2 = r2_score(Y_train,y_pred_lasso)"
   ]
  },
  {
   "cell_type": "code",
   "execution_count": 57,
   "metadata": {},
   "outputs": [
    {
     "name": "stdout",
     "output_type": "stream",
     "text": [
      "Root mean squared error on training set 14.800514624288924\n",
      "R2 score on training set  0.9231462363390273\n"
     ]
    }
   ],
   "source": [
    "print(\"Root mean squared error on training set\", rmse)\n",
    "print(\"R2 score on training set \", r2)"
   ]
  },
  {
   "cell_type": "markdown",
   "metadata": {},
   "source": [
    "# Testing set"
   ]
  },
  {
   "cell_type": "code",
   "execution_count": 58,
   "metadata": {},
   "outputs": [
    {
     "name": "stdout",
     "output_type": "stream",
     "text": [
      "Root mean squared error on testing set 14.865789103322076\n",
      "R2 score on testing set  0.9226756066045385\n"
     ]
    }
   ],
   "source": [
    "y_pred_lasso= lasso_reg.predict(X_test)\n",
    "\n",
    "rmse = np.sqrt(mean_squared_error(Y_test,y_pred_lasso))\n",
    "r2 = r2_score(Y_test,y_pred_lasso)\n",
    "\n",
    "print(\"Root mean squared error on testing set\", rmse)\n",
    "print(\"R2 score on testing set \", r2)"
   ]
  }
 ],
 "metadata": {
  "kernelspec": {
   "display_name": "Python 3",
   "language": "python",
   "name": "python3"
  },
  "language_info": {
   "codemirror_mode": {
    "name": "ipython",
    "version": 3
   },
   "file_extension": ".py",
   "mimetype": "text/x-python",
   "name": "python",
   "nbconvert_exporter": "python",
   "pygments_lexer": "ipython3",
   "version": "3.7.3"
  }
 },
 "nbformat": 4,
 "nbformat_minor": 2
}

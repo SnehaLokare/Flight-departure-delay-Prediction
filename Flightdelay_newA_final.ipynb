{
 "cells": [
  {
   "cell_type": "code",
   "execution_count": 1,
   "metadata": {},
   "outputs": [],
   "source": [
    "import pandas as pd\n",
    "import numpy as np\n",
    "import matplotlib.pyplot as plt\n",
    "import seaborn as sns\n",
    "import math\n",
    "from sklearn.model_selection import train_test_split\n",
    "from sklearn.metrics import mean_squared_error, r2_score\n",
    "from sklearn.metrics import r2_score , mean_absolute_error, mean_squared_error\n",
    "import statsmodels.formula.api as smf\n",
    "from sklearn.linear_model import LinearRegression"
   ]
  },
  {
   "cell_type": "markdown",
   "metadata": {},
   "source": [
    "# Glossary of Dataset"
   ]
  },
  {
   "cell_type": "code",
   "execution_count": 2,
   "metadata": {},
   "outputs": [],
   "source": [
    "# ArrDelay (how early/late the plane was at its final destination in minutes: our target variable)\n",
    "# ActualElapsedTime: elapsed time of flight, in minutes\n",
    "# AirTime: flight time, in minutes\n",
    "# ArrDelay, DepDelay: arrival and departure delays, in minutes\n",
    "\n",
    "# CRSDepTime (the local time the plane was scheduled to depart)\n",
    "# CRSArrTime (the local time the plane was scheduled to arrive)\n",
    "# CRSElapsedTime (the scheduled difference between departure and arrival\n",
    "# Cancelled: cancelled indicator: 1 = Yes, 0 = No\n",
    "# CancellationCode: reason for cancellation: A = carrier, B = weather, C = national air system, D = security\n",
    "\n",
    "\n",
    "# Distance (how far did the plane travel for the route)\n",
    "# DayOfWeek: day of week of departure, a value of 1-5 means that it is a weekday, a value of 6-7 means that it is a weekend day\n",
    "# DepTime, ArrTime: departure and arrival times (in local time, hhmm)\n",
    "# Distance: distance of flight, in miles\n",
    "# Diverted: diverted indicator: 1 = Yes, 0 = No\n",
    "\n",
    "\n",
    "# FlightNum: flight number\n",
    "\n",
    "\n",
    "\n",
    "# Origin, Dest: origin and destination airport codes\n",
    "\n",
    "# TailNum: airplane tail number\n",
    "# TaxiIn, TaxiOut: taxi in and out times in minutes\n",
    "\n",
    "\n",
    "# UniqueCarrier: unique abbreviation for a carrier\n",
    "\n",
    "# Year, Month, DayofMonth: date of departure"
   ]
  },
  {
   "cell_type": "markdown",
   "metadata": {},
   "source": [
    "# Reading and exploring Dataset"
   ]
  },
  {
   "cell_type": "code",
   "execution_count": 3,
   "metadata": {},
   "outputs": [],
   "source": [
    "# df=pd.read_csv('DelayedFlights.csv')\n",
    "# df2=pd.read_csv('airlines.csv')\n",
    "# df3=pd.read_csv('airports.csv')"
   ]
  },
  {
   "cell_type": "code",
   "execution_count": 3,
   "metadata": {},
   "outputs": [
    {
     "data": {
      "text/html": [
       "<div>\n",
       "<style scoped>\n",
       "    .dataframe tbody tr th:only-of-type {\n",
       "        vertical-align: middle;\n",
       "    }\n",
       "\n",
       "    .dataframe tbody tr th {\n",
       "        vertical-align: top;\n",
       "    }\n",
       "\n",
       "    .dataframe thead th {\n",
       "        text-align: right;\n",
       "    }\n",
       "</style>\n",
       "<table border=\"1\" class=\"dataframe\">\n",
       "  <thead>\n",
       "    <tr style=\"text-align: right;\">\n",
       "      <th></th>\n",
       "      <th>Unnamed: 0</th>\n",
       "      <th>Year</th>\n",
       "      <th>Month</th>\n",
       "      <th>DayofMonth</th>\n",
       "      <th>DayOfWeek</th>\n",
       "      <th>DepTime</th>\n",
       "      <th>CRSDepTime</th>\n",
       "      <th>ArrTime</th>\n",
       "      <th>CRSArrTime</th>\n",
       "      <th>UniqueCarrier</th>\n",
       "      <th>...</th>\n",
       "      <th>TaxiIn</th>\n",
       "      <th>TaxiOut</th>\n",
       "      <th>Cancelled</th>\n",
       "      <th>CancellationCode</th>\n",
       "      <th>Diverted</th>\n",
       "      <th>CarrierDelay</th>\n",
       "      <th>WeatherDelay</th>\n",
       "      <th>NASDelay</th>\n",
       "      <th>SecurityDelay</th>\n",
       "      <th>LateAircraftDelay</th>\n",
       "    </tr>\n",
       "  </thead>\n",
       "  <tbody>\n",
       "    <tr>\n",
       "      <th>0</th>\n",
       "      <td>0</td>\n",
       "      <td>2008</td>\n",
       "      <td>1</td>\n",
       "      <td>3</td>\n",
       "      <td>4</td>\n",
       "      <td>2003.0</td>\n",
       "      <td>1955</td>\n",
       "      <td>2211.0</td>\n",
       "      <td>2225</td>\n",
       "      <td>WN</td>\n",
       "      <td>...</td>\n",
       "      <td>4.0</td>\n",
       "      <td>8.0</td>\n",
       "      <td>0</td>\n",
       "      <td>N</td>\n",
       "      <td>0</td>\n",
       "      <td>NaN</td>\n",
       "      <td>NaN</td>\n",
       "      <td>NaN</td>\n",
       "      <td>NaN</td>\n",
       "      <td>NaN</td>\n",
       "    </tr>\n",
       "    <tr>\n",
       "      <th>1</th>\n",
       "      <td>1</td>\n",
       "      <td>2008</td>\n",
       "      <td>1</td>\n",
       "      <td>3</td>\n",
       "      <td>4</td>\n",
       "      <td>754.0</td>\n",
       "      <td>735</td>\n",
       "      <td>1002.0</td>\n",
       "      <td>1000</td>\n",
       "      <td>WN</td>\n",
       "      <td>...</td>\n",
       "      <td>5.0</td>\n",
       "      <td>10.0</td>\n",
       "      <td>0</td>\n",
       "      <td>N</td>\n",
       "      <td>0</td>\n",
       "      <td>NaN</td>\n",
       "      <td>NaN</td>\n",
       "      <td>NaN</td>\n",
       "      <td>NaN</td>\n",
       "      <td>NaN</td>\n",
       "    </tr>\n",
       "    <tr>\n",
       "      <th>2</th>\n",
       "      <td>2</td>\n",
       "      <td>2008</td>\n",
       "      <td>1</td>\n",
       "      <td>3</td>\n",
       "      <td>4</td>\n",
       "      <td>628.0</td>\n",
       "      <td>620</td>\n",
       "      <td>804.0</td>\n",
       "      <td>750</td>\n",
       "      <td>WN</td>\n",
       "      <td>...</td>\n",
       "      <td>3.0</td>\n",
       "      <td>17.0</td>\n",
       "      <td>0</td>\n",
       "      <td>N</td>\n",
       "      <td>0</td>\n",
       "      <td>NaN</td>\n",
       "      <td>NaN</td>\n",
       "      <td>NaN</td>\n",
       "      <td>NaN</td>\n",
       "      <td>NaN</td>\n",
       "    </tr>\n",
       "    <tr>\n",
       "      <th>3</th>\n",
       "      <td>4</td>\n",
       "      <td>2008</td>\n",
       "      <td>1</td>\n",
       "      <td>3</td>\n",
       "      <td>4</td>\n",
       "      <td>1829.0</td>\n",
       "      <td>1755</td>\n",
       "      <td>1959.0</td>\n",
       "      <td>1925</td>\n",
       "      <td>WN</td>\n",
       "      <td>...</td>\n",
       "      <td>3.0</td>\n",
       "      <td>10.0</td>\n",
       "      <td>0</td>\n",
       "      <td>N</td>\n",
       "      <td>0</td>\n",
       "      <td>2.0</td>\n",
       "      <td>0.0</td>\n",
       "      <td>0.0</td>\n",
       "      <td>0.0</td>\n",
       "      <td>32.0</td>\n",
       "    </tr>\n",
       "  </tbody>\n",
       "</table>\n",
       "<p>4 rows × 30 columns</p>\n",
       "</div>"
      ],
      "text/plain": [
       "   Unnamed: 0  Year  Month  DayofMonth  DayOfWeek  DepTime  CRSDepTime  \\\n",
       "0           0  2008      1           3          4   2003.0        1955   \n",
       "1           1  2008      1           3          4    754.0         735   \n",
       "2           2  2008      1           3          4    628.0         620   \n",
       "3           4  2008      1           3          4   1829.0        1755   \n",
       "\n",
       "   ArrTime  CRSArrTime UniqueCarrier  ...  TaxiIn TaxiOut  Cancelled  \\\n",
       "0   2211.0        2225            WN  ...     4.0     8.0          0   \n",
       "1   1002.0        1000            WN  ...     5.0    10.0          0   \n",
       "2    804.0         750            WN  ...     3.0    17.0          0   \n",
       "3   1959.0        1925            WN  ...     3.0    10.0          0   \n",
       "\n",
       "   CancellationCode  Diverted  CarrierDelay  WeatherDelay NASDelay  \\\n",
       "0                 N         0           NaN           NaN      NaN   \n",
       "1                 N         0           NaN           NaN      NaN   \n",
       "2                 N         0           NaN           NaN      NaN   \n",
       "3                 N         0           2.0           0.0      0.0   \n",
       "\n",
       "  SecurityDelay  LateAircraftDelay  \n",
       "0           NaN                NaN  \n",
       "1           NaN                NaN  \n",
       "2           NaN                NaN  \n",
       "3           0.0               32.0  \n",
       "\n",
       "[4 rows x 30 columns]"
      ]
     },
     "execution_count": 3,
     "metadata": {},
     "output_type": "execute_result"
    }
   ],
   "source": [
    "df=pd.read_csv(\"D:\\\\ML\\\\Project\\\\Final\\\\DelayedFlights.csv\")\n",
    "df.head(4)"
   ]
  },
  {
   "cell_type": "code",
   "execution_count": 4,
   "metadata": {},
   "outputs": [
    {
     "data": {
      "text/html": [
       "<div>\n",
       "<style scoped>\n",
       "    .dataframe tbody tr th:only-of-type {\n",
       "        vertical-align: middle;\n",
       "    }\n",
       "\n",
       "    .dataframe tbody tr th {\n",
       "        vertical-align: top;\n",
       "    }\n",
       "\n",
       "    .dataframe thead th {\n",
       "        text-align: right;\n",
       "    }\n",
       "</style>\n",
       "<table border=\"1\" class=\"dataframe\">\n",
       "  <thead>\n",
       "    <tr style=\"text-align: right;\">\n",
       "      <th></th>\n",
       "      <th>Unnamed: 0</th>\n",
       "      <th>Year</th>\n",
       "      <th>Month</th>\n",
       "      <th>DayofMonth</th>\n",
       "      <th>DayOfWeek</th>\n",
       "      <th>DepTime</th>\n",
       "      <th>CRSDepTime</th>\n",
       "      <th>ArrTime</th>\n",
       "      <th>CRSArrTime</th>\n",
       "      <th>UniqueCarrier</th>\n",
       "      <th>...</th>\n",
       "      <th>TaxiIn</th>\n",
       "      <th>TaxiOut</th>\n",
       "      <th>Cancelled</th>\n",
       "      <th>CancellationCode</th>\n",
       "      <th>Diverted</th>\n",
       "      <th>CarrierDelay</th>\n",
       "      <th>WeatherDelay</th>\n",
       "      <th>NASDelay</th>\n",
       "      <th>SecurityDelay</th>\n",
       "      <th>LateAircraftDelay</th>\n",
       "    </tr>\n",
       "  </thead>\n",
       "  <tbody>\n",
       "    <tr>\n",
       "      <th>0</th>\n",
       "      <td>0</td>\n",
       "      <td>2008</td>\n",
       "      <td>1</td>\n",
       "      <td>3</td>\n",
       "      <td>4</td>\n",
       "      <td>2003.0</td>\n",
       "      <td>1955</td>\n",
       "      <td>2211.0</td>\n",
       "      <td>2225</td>\n",
       "      <td>WN</td>\n",
       "      <td>...</td>\n",
       "      <td>4.0</td>\n",
       "      <td>8.0</td>\n",
       "      <td>0</td>\n",
       "      <td>N</td>\n",
       "      <td>0</td>\n",
       "      <td>NaN</td>\n",
       "      <td>NaN</td>\n",
       "      <td>NaN</td>\n",
       "      <td>NaN</td>\n",
       "      <td>NaN</td>\n",
       "    </tr>\n",
       "    <tr>\n",
       "      <th>1</th>\n",
       "      <td>1</td>\n",
       "      <td>2008</td>\n",
       "      <td>1</td>\n",
       "      <td>3</td>\n",
       "      <td>4</td>\n",
       "      <td>754.0</td>\n",
       "      <td>735</td>\n",
       "      <td>1002.0</td>\n",
       "      <td>1000</td>\n",
       "      <td>WN</td>\n",
       "      <td>...</td>\n",
       "      <td>5.0</td>\n",
       "      <td>10.0</td>\n",
       "      <td>0</td>\n",
       "      <td>N</td>\n",
       "      <td>0</td>\n",
       "      <td>NaN</td>\n",
       "      <td>NaN</td>\n",
       "      <td>NaN</td>\n",
       "      <td>NaN</td>\n",
       "      <td>NaN</td>\n",
       "    </tr>\n",
       "    <tr>\n",
       "      <th>2</th>\n",
       "      <td>2</td>\n",
       "      <td>2008</td>\n",
       "      <td>1</td>\n",
       "      <td>3</td>\n",
       "      <td>4</td>\n",
       "      <td>628.0</td>\n",
       "      <td>620</td>\n",
       "      <td>804.0</td>\n",
       "      <td>750</td>\n",
       "      <td>WN</td>\n",
       "      <td>...</td>\n",
       "      <td>3.0</td>\n",
       "      <td>17.0</td>\n",
       "      <td>0</td>\n",
       "      <td>N</td>\n",
       "      <td>0</td>\n",
       "      <td>NaN</td>\n",
       "      <td>NaN</td>\n",
       "      <td>NaN</td>\n",
       "      <td>NaN</td>\n",
       "      <td>NaN</td>\n",
       "    </tr>\n",
       "    <tr>\n",
       "      <th>3</th>\n",
       "      <td>4</td>\n",
       "      <td>2008</td>\n",
       "      <td>1</td>\n",
       "      <td>3</td>\n",
       "      <td>4</td>\n",
       "      <td>1829.0</td>\n",
       "      <td>1755</td>\n",
       "      <td>1959.0</td>\n",
       "      <td>1925</td>\n",
       "      <td>WN</td>\n",
       "      <td>...</td>\n",
       "      <td>3.0</td>\n",
       "      <td>10.0</td>\n",
       "      <td>0</td>\n",
       "      <td>N</td>\n",
       "      <td>0</td>\n",
       "      <td>2.0</td>\n",
       "      <td>0.0</td>\n",
       "      <td>0.0</td>\n",
       "      <td>0.0</td>\n",
       "      <td>32.0</td>\n",
       "    </tr>\n",
       "    <tr>\n",
       "      <th>4</th>\n",
       "      <td>5</td>\n",
       "      <td>2008</td>\n",
       "      <td>1</td>\n",
       "      <td>3</td>\n",
       "      <td>4</td>\n",
       "      <td>1940.0</td>\n",
       "      <td>1915</td>\n",
       "      <td>2121.0</td>\n",
       "      <td>2110</td>\n",
       "      <td>WN</td>\n",
       "      <td>...</td>\n",
       "      <td>4.0</td>\n",
       "      <td>10.0</td>\n",
       "      <td>0</td>\n",
       "      <td>N</td>\n",
       "      <td>0</td>\n",
       "      <td>NaN</td>\n",
       "      <td>NaN</td>\n",
       "      <td>NaN</td>\n",
       "      <td>NaN</td>\n",
       "      <td>NaN</td>\n",
       "    </tr>\n",
       "  </tbody>\n",
       "</table>\n",
       "<p>5 rows × 30 columns</p>\n",
       "</div>"
      ],
      "text/plain": [
       "   Unnamed: 0  Year  Month  DayofMonth  DayOfWeek  DepTime  CRSDepTime  \\\n",
       "0           0  2008      1           3          4   2003.0        1955   \n",
       "1           1  2008      1           3          4    754.0         735   \n",
       "2           2  2008      1           3          4    628.0         620   \n",
       "3           4  2008      1           3          4   1829.0        1755   \n",
       "4           5  2008      1           3          4   1940.0        1915   \n",
       "\n",
       "   ArrTime  CRSArrTime UniqueCarrier  ...  TaxiIn TaxiOut  Cancelled  \\\n",
       "0   2211.0        2225            WN  ...     4.0     8.0          0   \n",
       "1   1002.0        1000            WN  ...     5.0    10.0          0   \n",
       "2    804.0         750            WN  ...     3.0    17.0          0   \n",
       "3   1959.0        1925            WN  ...     3.0    10.0          0   \n",
       "4   2121.0        2110            WN  ...     4.0    10.0          0   \n",
       "\n",
       "   CancellationCode  Diverted  CarrierDelay  WeatherDelay NASDelay  \\\n",
       "0                 N         0           NaN           NaN      NaN   \n",
       "1                 N         0           NaN           NaN      NaN   \n",
       "2                 N         0           NaN           NaN      NaN   \n",
       "3                 N         0           2.0           0.0      0.0   \n",
       "4                 N         0           NaN           NaN      NaN   \n",
       "\n",
       "  SecurityDelay  LateAircraftDelay  \n",
       "0           NaN                NaN  \n",
       "1           NaN                NaN  \n",
       "2           NaN                NaN  \n",
       "3           0.0               32.0  \n",
       "4           NaN                NaN  \n",
       "\n",
       "[5 rows x 30 columns]"
      ]
     },
     "execution_count": 4,
     "metadata": {},
     "output_type": "execute_result"
    }
   ],
   "source": [
    "df.head()"
   ]
  },
  {
   "cell_type": "markdown",
   "metadata": {},
   "source": [
    "# Check for null values"
   ]
  },
  {
   "cell_type": "code",
   "execution_count": 5,
   "metadata": {},
   "outputs": [
    {
     "data": {
      "text/plain": [
       "Unnamed: 0                0\n",
       "Year                      0\n",
       "Month                     0\n",
       "DayofMonth                0\n",
       "DayOfWeek                 0\n",
       "DepTime                   0\n",
       "CRSDepTime                0\n",
       "ArrTime                7110\n",
       "CRSArrTime                0\n",
       "UniqueCarrier             0\n",
       "FlightNum                 0\n",
       "TailNum                   5\n",
       "ActualElapsedTime      8387\n",
       "CRSElapsedTime          198\n",
       "AirTime                8387\n",
       "ArrDelay               8387\n",
       "DepDelay                  0\n",
       "Origin                    0\n",
       "Dest                      0\n",
       "Distance                  0\n",
       "TaxiIn                 7110\n",
       "TaxiOut                 455\n",
       "Cancelled                 0\n",
       "CancellationCode          0\n",
       "Diverted                  0\n",
       "CarrierDelay         689270\n",
       "WeatherDelay         689270\n",
       "NASDelay             689270\n",
       "SecurityDelay        689270\n",
       "LateAircraftDelay    689270\n",
       "dtype: int64"
      ]
     },
     "execution_count": 5,
     "metadata": {},
     "output_type": "execute_result"
    }
   ],
   "source": [
    "df.isnull().sum()"
   ]
  },
  {
   "cell_type": "markdown",
   "metadata": {},
   "source": [
    "# Dropping columns having more than 70% null values"
   ]
  },
  {
   "cell_type": "code",
   "execution_count": 6,
   "metadata": {},
   "outputs": [
    {
     "data": {
      "text/plain": [
       "(1936758, 30)"
      ]
     },
     "execution_count": 6,
     "metadata": {},
     "output_type": "execute_result"
    }
   ],
   "source": [
    "df_new=df.dropna(thresh=df.shape[0]*0.3,how='all',axis=1)\n",
    "df_new.shape"
   ]
  },
  {
   "cell_type": "code",
   "execution_count": 7,
   "metadata": {},
   "outputs": [
    {
     "data": {
      "text/plain": [
       "Index(['Unnamed: 0', 'Year', 'Month', 'DayofMonth', 'DayOfWeek', 'DepTime',\n",
       "       'CRSDepTime', 'ArrTime', 'CRSArrTime', 'UniqueCarrier', 'FlightNum',\n",
       "       'TailNum', 'ActualElapsedTime', 'CRSElapsedTime', 'AirTime', 'ArrDelay',\n",
       "       'DepDelay', 'Origin', 'Dest', 'Distance', 'TaxiIn', 'TaxiOut',\n",
       "       'Cancelled', 'CancellationCode', 'Diverted', 'CarrierDelay',\n",
       "       'WeatherDelay', 'NASDelay', 'SecurityDelay', 'LateAircraftDelay'],\n",
       "      dtype='object')"
      ]
     },
     "execution_count": 7,
     "metadata": {},
     "output_type": "execute_result"
    }
   ],
   "source": [
    "df_new.columns"
   ]
  },
  {
   "cell_type": "markdown",
   "metadata": {},
   "source": [
    "# Seperating Categorical and Numerical Features"
   ]
  },
  {
   "cell_type": "code",
   "execution_count": 8,
   "metadata": {},
   "outputs": [],
   "source": [
    "df_cat = df_new.select_dtypes(exclude = ['int64','float64'])\n",
    "df_num = df_new.select_dtypes(include = ['int64','float64'])"
   ]
  },
  {
   "cell_type": "code",
   "execution_count": 9,
   "metadata": {},
   "outputs": [
    {
     "data": {
      "text/plain": [
       "((1936758, 5), (1936758, 25))"
      ]
     },
     "execution_count": 9,
     "metadata": {},
     "output_type": "execute_result"
    }
   ],
   "source": [
    "df_cat.shape,df_num.shape"
   ]
  },
  {
   "cell_type": "code",
   "execution_count": 10,
   "metadata": {},
   "outputs": [
    {
     "data": {
      "text/plain": [
       "Unnamed: 0                0\n",
       "Year                      0\n",
       "Month                     0\n",
       "DayofMonth                0\n",
       "DayOfWeek                 0\n",
       "DepTime                   0\n",
       "CRSDepTime                0\n",
       "ArrTime                7110\n",
       "CRSArrTime                0\n",
       "FlightNum                 0\n",
       "ActualElapsedTime      8387\n",
       "CRSElapsedTime          198\n",
       "AirTime                8387\n",
       "ArrDelay               8387\n",
       "DepDelay                  0\n",
       "Distance                  0\n",
       "TaxiIn                 7110\n",
       "TaxiOut                 455\n",
       "Cancelled                 0\n",
       "Diverted                  0\n",
       "CarrierDelay         689270\n",
       "WeatherDelay         689270\n",
       "NASDelay             689270\n",
       "SecurityDelay        689270\n",
       "LateAircraftDelay    689270\n",
       "dtype: int64"
      ]
     },
     "execution_count": 10,
     "metadata": {},
     "output_type": "execute_result"
    }
   ],
   "source": [
    "df_num.isnull().sum()"
   ]
  },
  {
   "cell_type": "markdown",
   "metadata": {},
   "source": [
    "# Imputing Null Values"
   ]
  },
  {
   "cell_type": "code",
   "execution_count": 11,
   "metadata": {},
   "outputs": [],
   "source": [
    "df_num_new=df_num.fillna({'ActualElapsedTime':df_num['ActualElapsedTime'].mean(),'CRSElapsedTime':df_num['CRSElapsedTime'].mean(),\n",
    "                         'AirTime':df_num['AirTime'].mean(),'ArrDelay':df_num['ArrDelay'].mean(),'TaxiIn':df_num['TaxiIn'].mean(),\n",
    "                         'TaxiOut':df_num['TaxiOut'].mean(),'CarrierDelay':df_num['CarrierDelay'].mean(),\n",
    "                          'WeatherDelay':df_num['WeatherDelay'].mean(),'NASDelay':df_num['NASDelay'].mean(),\n",
    "                         'SecurityDelay':df_num['SecurityDelay'].mean(),'LateAircraftDelay':df_num['LateAircraftDelay'].mean()})"
   ]
  },
  {
   "cell_type": "code",
   "execution_count": 12,
   "metadata": {},
   "outputs": [],
   "source": [
    "df_num_new2=df_num_new.drop(['ArrTime'],axis=1)"
   ]
  },
  {
   "cell_type": "code",
   "execution_count": 13,
   "metadata": {},
   "outputs": [
    {
     "data": {
      "text/plain": [
       "Index(['Unnamed: 0', 'Year', 'Month', 'DayofMonth', 'DayOfWeek', 'DepTime',\n",
       "       'CRSDepTime', 'CRSArrTime', 'FlightNum', 'ActualElapsedTime',\n",
       "       'CRSElapsedTime', 'AirTime', 'ArrDelay', 'DepDelay', 'Distance',\n",
       "       'TaxiIn', 'TaxiOut', 'Cancelled', 'Diverted', 'CarrierDelay',\n",
       "       'WeatherDelay', 'NASDelay', 'SecurityDelay', 'LateAircraftDelay'],\n",
       "      dtype='object')"
      ]
     },
     "execution_count": 13,
     "metadata": {},
     "output_type": "execute_result"
    }
   ],
   "source": [
    "df_num_new2.columns"
   ]
  },
  {
   "cell_type": "code",
   "execution_count": 16,
   "metadata": {},
   "outputs": [
    {
     "data": {
      "text/plain": [
       "0"
      ]
     },
     "execution_count": 16,
     "metadata": {},
     "output_type": "execute_result"
    }
   ],
   "source": [
    "df_num_new2.isnull().sum().sum()"
   ]
  },
  {
   "cell_type": "code",
   "execution_count": 15,
   "metadata": {},
   "outputs": [
    {
     "data": {
      "text/plain": [
       "UniqueCarrier       0\n",
       "TailNum             5\n",
       "Origin              0\n",
       "Dest                0\n",
       "CancellationCode    0\n",
       "dtype: int64"
      ]
     },
     "execution_count": 15,
     "metadata": {},
     "output_type": "execute_result"
    }
   ],
   "source": [
    "df_cat.isnull().sum()"
   ]
  },
  {
   "cell_type": "code",
   "execution_count": 17,
   "metadata": {},
   "outputs": [],
   "source": [
    "df_cat1=df_cat.drop(['UniqueCarrier','TailNum','Origin','Dest'],axis=1)\n"
   ]
  },
  {
   "cell_type": "code",
   "execution_count": 18,
   "metadata": {},
   "outputs": [
    {
     "data": {
      "text/plain": [
       "CancellationCode    0\n",
       "dtype: int64"
      ]
     },
     "execution_count": 18,
     "metadata": {},
     "output_type": "execute_result"
    }
   ],
   "source": [
    "df_cat1.isnull().sum()"
   ]
  },
  {
   "cell_type": "markdown",
   "metadata": {},
   "source": [
    "# Encoding categorigal Variables"
   ]
  },
  {
   "cell_type": "code",
   "execution_count": 19,
   "metadata": {},
   "outputs": [],
   "source": [
    "cat_encoded=pd.get_dummies(data=df_cat1,columns=['CancellationCode'])"
   ]
  },
  {
   "cell_type": "markdown",
   "metadata": {},
   "source": [
    "# Combining the dataframe"
   ]
  },
  {
   "cell_type": "code",
   "execution_count": 20,
   "metadata": {},
   "outputs": [
    {
     "data": {
      "text/plain": [
       "(1936758, 28)"
      ]
     },
     "execution_count": 20,
     "metadata": {},
     "output_type": "execute_result"
    }
   ],
   "source": [
    "df_final=pd.concat([cat_encoded,df_num_new2],axis=1)\n",
    "df_final.shape"
   ]
  },
  {
   "cell_type": "code",
   "execution_count": 21,
   "metadata": {},
   "outputs": [
    {
     "data": {
      "text/html": [
       "<div>\n",
       "<style scoped>\n",
       "    .dataframe tbody tr th:only-of-type {\n",
       "        vertical-align: middle;\n",
       "    }\n",
       "\n",
       "    .dataframe tbody tr th {\n",
       "        vertical-align: top;\n",
       "    }\n",
       "\n",
       "    .dataframe thead th {\n",
       "        text-align: right;\n",
       "    }\n",
       "</style>\n",
       "<table border=\"1\" class=\"dataframe\">\n",
       "  <thead>\n",
       "    <tr style=\"text-align: right;\">\n",
       "      <th></th>\n",
       "      <th>CancellationCode_A</th>\n",
       "      <th>CancellationCode_B</th>\n",
       "      <th>CancellationCode_C</th>\n",
       "      <th>CancellationCode_N</th>\n",
       "      <th>Unnamed: 0</th>\n",
       "      <th>Year</th>\n",
       "      <th>Month</th>\n",
       "      <th>DayofMonth</th>\n",
       "      <th>DayOfWeek</th>\n",
       "      <th>DepTime</th>\n",
       "      <th>...</th>\n",
       "      <th>Distance</th>\n",
       "      <th>TaxiIn</th>\n",
       "      <th>TaxiOut</th>\n",
       "      <th>Cancelled</th>\n",
       "      <th>Diverted</th>\n",
       "      <th>CarrierDelay</th>\n",
       "      <th>WeatherDelay</th>\n",
       "      <th>NASDelay</th>\n",
       "      <th>SecurityDelay</th>\n",
       "      <th>LateAircraftDelay</th>\n",
       "    </tr>\n",
       "  </thead>\n",
       "  <tbody>\n",
       "    <tr>\n",
       "      <th>0</th>\n",
       "      <td>0</td>\n",
       "      <td>0</td>\n",
       "      <td>0</td>\n",
       "      <td>1</td>\n",
       "      <td>0</td>\n",
       "      <td>2008</td>\n",
       "      <td>1</td>\n",
       "      <td>3</td>\n",
       "      <td>4</td>\n",
       "      <td>2003.0</td>\n",
       "      <td>...</td>\n",
       "      <td>810</td>\n",
       "      <td>4.0</td>\n",
       "      <td>8.0</td>\n",
       "      <td>0</td>\n",
       "      <td>0</td>\n",
       "      <td>19.179399</td>\n",
       "      <td>3.703571</td>\n",
       "      <td>15.021635</td>\n",
       "      <td>0.090137</td>\n",
       "      <td>25.296466</td>\n",
       "    </tr>\n",
       "    <tr>\n",
       "      <th>1</th>\n",
       "      <td>0</td>\n",
       "      <td>0</td>\n",
       "      <td>0</td>\n",
       "      <td>1</td>\n",
       "      <td>1</td>\n",
       "      <td>2008</td>\n",
       "      <td>1</td>\n",
       "      <td>3</td>\n",
       "      <td>4</td>\n",
       "      <td>754.0</td>\n",
       "      <td>...</td>\n",
       "      <td>810</td>\n",
       "      <td>5.0</td>\n",
       "      <td>10.0</td>\n",
       "      <td>0</td>\n",
       "      <td>0</td>\n",
       "      <td>19.179399</td>\n",
       "      <td>3.703571</td>\n",
       "      <td>15.021635</td>\n",
       "      <td>0.090137</td>\n",
       "      <td>25.296466</td>\n",
       "    </tr>\n",
       "    <tr>\n",
       "      <th>2</th>\n",
       "      <td>0</td>\n",
       "      <td>0</td>\n",
       "      <td>0</td>\n",
       "      <td>1</td>\n",
       "      <td>2</td>\n",
       "      <td>2008</td>\n",
       "      <td>1</td>\n",
       "      <td>3</td>\n",
       "      <td>4</td>\n",
       "      <td>628.0</td>\n",
       "      <td>...</td>\n",
       "      <td>515</td>\n",
       "      <td>3.0</td>\n",
       "      <td>17.0</td>\n",
       "      <td>0</td>\n",
       "      <td>0</td>\n",
       "      <td>19.179399</td>\n",
       "      <td>3.703571</td>\n",
       "      <td>15.021635</td>\n",
       "      <td>0.090137</td>\n",
       "      <td>25.296466</td>\n",
       "    </tr>\n",
       "    <tr>\n",
       "      <th>3</th>\n",
       "      <td>0</td>\n",
       "      <td>0</td>\n",
       "      <td>0</td>\n",
       "      <td>1</td>\n",
       "      <td>4</td>\n",
       "      <td>2008</td>\n",
       "      <td>1</td>\n",
       "      <td>3</td>\n",
       "      <td>4</td>\n",
       "      <td>1829.0</td>\n",
       "      <td>...</td>\n",
       "      <td>515</td>\n",
       "      <td>3.0</td>\n",
       "      <td>10.0</td>\n",
       "      <td>0</td>\n",
       "      <td>0</td>\n",
       "      <td>2.000000</td>\n",
       "      <td>0.000000</td>\n",
       "      <td>0.000000</td>\n",
       "      <td>0.000000</td>\n",
       "      <td>32.000000</td>\n",
       "    </tr>\n",
       "    <tr>\n",
       "      <th>4</th>\n",
       "      <td>0</td>\n",
       "      <td>0</td>\n",
       "      <td>0</td>\n",
       "      <td>1</td>\n",
       "      <td>5</td>\n",
       "      <td>2008</td>\n",
       "      <td>1</td>\n",
       "      <td>3</td>\n",
       "      <td>4</td>\n",
       "      <td>1940.0</td>\n",
       "      <td>...</td>\n",
       "      <td>688</td>\n",
       "      <td>4.0</td>\n",
       "      <td>10.0</td>\n",
       "      <td>0</td>\n",
       "      <td>0</td>\n",
       "      <td>19.179399</td>\n",
       "      <td>3.703571</td>\n",
       "      <td>15.021635</td>\n",
       "      <td>0.090137</td>\n",
       "      <td>25.296466</td>\n",
       "    </tr>\n",
       "  </tbody>\n",
       "</table>\n",
       "<p>5 rows × 28 columns</p>\n",
       "</div>"
      ],
      "text/plain": [
       "   CancellationCode_A  CancellationCode_B  CancellationCode_C  \\\n",
       "0                   0                   0                   0   \n",
       "1                   0                   0                   0   \n",
       "2                   0                   0                   0   \n",
       "3                   0                   0                   0   \n",
       "4                   0                   0                   0   \n",
       "\n",
       "   CancellationCode_N  Unnamed: 0  Year  Month  DayofMonth  DayOfWeek  \\\n",
       "0                   1           0  2008      1           3          4   \n",
       "1                   1           1  2008      1           3          4   \n",
       "2                   1           2  2008      1           3          4   \n",
       "3                   1           4  2008      1           3          4   \n",
       "4                   1           5  2008      1           3          4   \n",
       "\n",
       "   DepTime  ...  Distance  TaxiIn  TaxiOut  Cancelled  Diverted  CarrierDelay  \\\n",
       "0   2003.0  ...       810     4.0      8.0          0         0     19.179399   \n",
       "1    754.0  ...       810     5.0     10.0          0         0     19.179399   \n",
       "2    628.0  ...       515     3.0     17.0          0         0     19.179399   \n",
       "3   1829.0  ...       515     3.0     10.0          0         0      2.000000   \n",
       "4   1940.0  ...       688     4.0     10.0          0         0     19.179399   \n",
       "\n",
       "   WeatherDelay   NASDelay  SecurityDelay  LateAircraftDelay  \n",
       "0      3.703571  15.021635       0.090137          25.296466  \n",
       "1      3.703571  15.021635       0.090137          25.296466  \n",
       "2      3.703571  15.021635       0.090137          25.296466  \n",
       "3      0.000000   0.000000       0.000000          32.000000  \n",
       "4      3.703571  15.021635       0.090137          25.296466  \n",
       "\n",
       "[5 rows x 28 columns]"
      ]
     },
     "execution_count": 21,
     "metadata": {},
     "output_type": "execute_result"
    }
   ],
   "source": [
    "df_final.head()"
   ]
  },
  {
   "cell_type": "code",
   "execution_count": 22,
   "metadata": {},
   "outputs": [
    {
     "data": {
      "text/plain": [
       "0"
      ]
     },
     "execution_count": 22,
     "metadata": {},
     "output_type": "execute_result"
    }
   ],
   "source": [
    "df_final.isnull().sum().sum()"
   ]
  },
  {
   "cell_type": "markdown",
   "metadata": {},
   "source": [
    "# EDA"
   ]
  },
  {
   "cell_type": "markdown",
   "metadata": {},
   "source": [
    "# Proportion of USCarrier in the dataset"
   ]
  },
  {
   "cell_type": "code",
   "execution_count": 23,
   "metadata": {},
   "outputs": [
    {
     "data": {
      "text/plain": [
       "20"
      ]
     },
     "execution_count": 23,
     "metadata": {},
     "output_type": "execute_result"
    }
   ],
   "source": [
    "len(df['UniqueCarrier'].unique())"
   ]
  },
  {
   "cell_type": "code",
   "execution_count": 24,
   "metadata": {},
   "outputs": [
    {
     "data": {
      "image/png": "[encoded data removed]",
      "text/plain": [
       "<Figure size 432x288 with 1 Axes>"
      ]
     },
     "metadata": {},
     "output_type": "display_data"
    }
   ],
   "source": [
    "fig_dim=(20,20)\n",
    "airline=df['UniqueCarrier'].unique()\n",
    "size=df['UniqueCarrier'].value_counts()\n",
    "plt.pie(size,labels=airline,autopct='%1.0f%%')\n",
    "plt.show()"
   ]
  },
  {
   "cell_type": "markdown",
   "metadata": {},
   "source": [
    "# Flights that got cancelled"
   ]
  },
  {
   "cell_type": "code",
   "execution_count": 25,
   "metadata": {},
   "outputs": [
    {
     "data": {
      "text/plain": [
       "<matplotlib.axes._subplots.AxesSubplot at 0x1b4a35b5668>"
      ]
     },
     "execution_count": 25,
     "metadata": {},
     "output_type": "execute_result"
    },
    {
     "data": {
      "image/png": "[encoded data removed]",
      "text/plain": [
       "<Figure size 432x288 with 1 Axes>"
      ]
     },
     "metadata": {
      "needs_background": "light"
     },
     "output_type": "display_data"
    }
   ],
   "source": [
    "sns.countplot(x='UniqueCarrier',hue='CancellationCode',data=df_new)"
   ]
  },
  {
   "cell_type": "code",
   "execution_count": 26,
   "metadata": {},
   "outputs": [
    {
     "data": {
      "text/plain": [
       "<Figure size 1080x360 with 0 Axes>"
      ]
     },
     "metadata": {},
     "output_type": "display_data"
    },
    {
     "data": {
      "image/png": "[encoded data removed]",
      "text/plain": [
       "<Figure size 432x288 with 1 Axes>"
      ]
     },
     "metadata": {
      "needs_background": "light"
     },
     "output_type": "display_data"
    },
    {
     "data": {
      "image/png": "[encoded data removed]",
      "text/plain": [
       "<Figure size 432x288 with 1 Axes>"
      ]
     },
     "metadata": {
      "needs_background": "light"
     },
     "output_type": "display_data"
    },
    {
     "data": {
      "image/png": "[encoded data removed]",
      "text/plain": [
       "<Figure size 432x288 with 1 Axes>"
      ]
     },
     "metadata": {
      "needs_background": "light"
     },
     "output_type": "display_data"
    }
   ],
   "source": [
    "# Proportion of late flights per category based on all other flights\n",
    "# enumerate(attributes) means print(list(attributes))[function takes a collection (e.g. a tuple) and returns it as an enumerate object.]\n",
    "avgLate = np.sum(df_final['DepDelay'])/len(df_final['DepDelay'])\n",
    "attributes = ['Month','DayofMonth','DayOfWeek']\n",
    "for i,pred in enumerate(attributes):\n",
    "    plt.figure(i, figsize=(15, 5))\n",
    "    group = df_new.groupby([pred], as_index=False).aggregate(np.mean)[[pred, 'DepDelay']]\n",
    "    group.sort_values(by=pred, inplace=True)    \n",
    "    group.plot.bar(x=pred, y='DepDelay')\n",
    "    plt.axhline(y=avgLate, label='Average')\n",
    "    plt.ylabel('Percent of Flights that Arrive Late')\n",
    "    plt.title(pred)\n",
    "    plt.legend().remove()"
   ]
  },
  {
   "cell_type": "markdown",
   "metadata": {},
   "source": [
    "# Flights that got cancelled"
   ]
  },
  {
   "cell_type": "code",
   "execution_count": 27,
   "metadata": {},
   "outputs": [],
   "source": [
    "##Here we simply select all the rows with cancelled flights and insert them into their own dataframe\n",
    "cancelled = df_new[df_new['Cancelled']==1]"
   ]
  },
  {
   "cell_type": "code",
   "execution_count": 28,
   "metadata": {},
   "outputs": [
    {
     "data": {
      "image/png": "[encoded data removed]",
      "text/plain": [
       "<Figure size 864x432 with 1 Axes>"
      ]
     },
     "metadata": {
      "needs_background": "light"
     },
     "output_type": "display_data"
    }
   ],
   "source": [
    "font = {'size'   : 16}\n",
    "plt.rc('font', **font)### pass in the font dict as kwargs\n",
    "\n",
    "days_cancelled = cancelled['Cancelled'].groupby(df_final['DayOfWeek']).count()\n",
    "days_total = df_final['Cancelled'].groupby(df_final['DayOfWeek']).count()\n",
    "days_frac = np.divide(days_cancelled, days_total)\n",
    "x=days_frac.index.values\n",
    "week = ['Monday', 'Tuesday', 'Wednesday', 'Thursday', 'Friday', 'Saturday', 'Sunday']\n",
    "\n",
    "fig, ax = plt.subplots(figsize = (12,6))\n",
    "ax.bar(x,days_frac*100, align='center')\n",
    "ax.set_ylabel('Percentage of Flights Cancelled')\n",
    "ax.set_xticks(x)\n",
    "ax.set_xticklabels(week, rotation = 45)\n",
    "\n",
    "plt.show()"
   ]
  },
  {
   "cell_type": "markdown",
   "metadata": {},
   "source": [
    "# Feature Selection"
   ]
  },
  {
   "cell_type": "code",
   "execution_count": 29,
   "metadata": {},
   "outputs": [
    {
     "data": {
      "text/plain": [
       "Index(['CancellationCode_A', 'CancellationCode_B', 'CancellationCode_C',\n",
       "       'CancellationCode_N', 'Unnamed: 0', 'Year', 'Month', 'DayofMonth',\n",
       "       'DayOfWeek', 'DepTime', 'CRSDepTime', 'CRSArrTime', 'FlightNum',\n",
       "       'ActualElapsedTime', 'CRSElapsedTime', 'AirTime', 'ArrDelay',\n",
       "       'DepDelay', 'Distance', 'TaxiIn', 'TaxiOut', 'Cancelled', 'Diverted',\n",
       "       'CarrierDelay', 'WeatherDelay', 'NASDelay', 'SecurityDelay',\n",
       "       'LateAircraftDelay'],\n",
       "      dtype='object')"
      ]
     },
     "execution_count": 29,
     "metadata": {},
     "output_type": "execute_result"
    }
   ],
   "source": [
    "df_final.columns"
   ]
  },
  {
   "cell_type": "code",
   "execution_count": 30,
   "metadata": {},
   "outputs": [],
   "source": [
    "dff=df_final.drop(['Unnamed: 0', 'Year', 'Month', 'DayofMonth',\n",
    "       'DayOfWeek', 'DepTime','FlightNum'],axis=1)\n"
   ]
  },
  {
   "cell_type": "code",
   "execution_count": 31,
   "metadata": {},
   "outputs": [
    {
     "data": {
      "image/png": "[encoded data removed]",
      "text/plain": [
       "<Figure size 864x720 with 2 Axes>"
      ]
     },
     "metadata": {
      "needs_background": "light"
     },
     "output_type": "display_data"
    }
   ],
   "source": [
    "plt.figure(figsize=(12,10))\n",
    "cor=dff.corr()\n",
    "sns.heatmap(cor)\n",
    "plt.show()"
   ]
  },
  {
   "cell_type": "code",
   "execution_count": 32,
   "metadata": {},
   "outputs": [
    {
     "data": {
      "text/html": [
       "<div>\n",
       "<style scoped>\n",
       "    .dataframe tbody tr th:only-of-type {\n",
       "        vertical-align: middle;\n",
       "    }\n",
       "\n",
       "    .dataframe tbody tr th {\n",
       "        vertical-align: top;\n",
       "    }\n",
       "\n",
       "    .dataframe thead th {\n",
       "        text-align: right;\n",
       "    }\n",
       "</style>\n",
       "<table border=\"1\" class=\"dataframe\">\n",
       "  <thead>\n",
       "    <tr style=\"text-align: right;\">\n",
       "      <th></th>\n",
       "      <th>CancellationCode_A</th>\n",
       "      <th>CancellationCode_B</th>\n",
       "      <th>CancellationCode_C</th>\n",
       "      <th>CancellationCode_N</th>\n",
       "      <th>CRSDepTime</th>\n",
       "      <th>CRSArrTime</th>\n",
       "      <th>ActualElapsedTime</th>\n",
       "      <th>CRSElapsedTime</th>\n",
       "      <th>AirTime</th>\n",
       "      <th>ArrDelay</th>\n",
       "      <th>...</th>\n",
       "      <th>Distance</th>\n",
       "      <th>TaxiIn</th>\n",
       "      <th>TaxiOut</th>\n",
       "      <th>Cancelled</th>\n",
       "      <th>Diverted</th>\n",
       "      <th>CarrierDelay</th>\n",
       "      <th>WeatherDelay</th>\n",
       "      <th>NASDelay</th>\n",
       "      <th>SecurityDelay</th>\n",
       "      <th>LateAircraftDelay</th>\n",
       "    </tr>\n",
       "  </thead>\n",
       "  <tbody>\n",
       "    <tr>\n",
       "      <th>CancellationCode_A</th>\n",
       "      <td>1.000000e+00</td>\n",
       "      <td>-1.419134e-04</td>\n",
       "      <td>-7.243922e-05</td>\n",
       "      <td>-6.233361e-01</td>\n",
       "      <td>-0.002344</td>\n",
       "      <td>-0.001728</td>\n",
       "      <td>-3.995609e-18</td>\n",
       "      <td>0.000096</td>\n",
       "      <td>2.386513e-17</td>\n",
       "      <td>-2.730221e-18</td>\n",
       "      <td>...</td>\n",
       "      <td>-0.000430</td>\n",
       "      <td>5.249894e-17</td>\n",
       "      <td>0.000706</td>\n",
       "      <td>6.233361e-01</td>\n",
       "      <td>-7.145848e-04</td>\n",
       "      <td>3.451410e-16</td>\n",
       "      <td>-1.780198e-16</td>\n",
       "      <td>1.949266e-15</td>\n",
       "      <td>5.203939e-17</td>\n",
       "      <td>-2.903811e-16</td>\n",
       "    </tr>\n",
       "    <tr>\n",
       "      <th>CancellationCode_B</th>\n",
       "      <td>-1.419134e-04</td>\n",
       "      <td>1.000000e+00</td>\n",
       "      <td>-8.092491e-05</td>\n",
       "      <td>-6.963551e-01</td>\n",
       "      <td>0.002642</td>\n",
       "      <td>0.002456</td>\n",
       "      <td>5.921485e-17</td>\n",
       "      <td>-0.004127</td>\n",
       "      <td>4.341854e-17</td>\n",
       "      <td>-4.103585e-17</td>\n",
       "      <td>...</td>\n",
       "      <td>-0.005168</td>\n",
       "      <td>-9.931148e-16</td>\n",
       "      <td>0.001855</td>\n",
       "      <td>6.963551e-01</td>\n",
       "      <td>-7.982929e-04</td>\n",
       "      <td>5.838078e-16</td>\n",
       "      <td>-1.228114e-15</td>\n",
       "      <td>-2.092821e-15</td>\n",
       "      <td>5.441756e-16</td>\n",
       "      <td>-3.467257e-16</td>\n",
       "    </tr>\n",
       "    <tr>\n",
       "      <th>CancellationCode_C</th>\n",
       "      <td>-7.243922e-05</td>\n",
       "      <td>-8.092491e-05</td>\n",
       "      <td>1.000000e+00</td>\n",
       "      <td>-3.554521e-01</td>\n",
       "      <td>-0.000999</td>\n",
       "      <td>-0.001216</td>\n",
       "      <td>-9.920478e-17</td>\n",
       "      <td>-0.003098</td>\n",
       "      <td>8.704166e-17</td>\n",
       "      <td>-2.616243e-19</td>\n",
       "      <td>...</td>\n",
       "      <td>-0.003353</td>\n",
       "      <td>3.482518e-16</td>\n",
       "      <td>0.001011</td>\n",
       "      <td>3.554521e-01</td>\n",
       "      <td>-4.074859e-04</td>\n",
       "      <td>-2.670208e-16</td>\n",
       "      <td>3.583056e-17</td>\n",
       "      <td>-8.375067e-16</td>\n",
       "      <td>2.508178e-16</td>\n",
       "      <td>9.341265e-17</td>\n",
       "    </tr>\n",
       "    <tr>\n",
       "      <th>CancellationCode_N</th>\n",
       "      <td>-6.233361e-01</td>\n",
       "      <td>-6.963551e-01</td>\n",
       "      <td>-3.554521e-01</td>\n",
       "      <td>1.000000e+00</td>\n",
       "      <td>-0.000023</td>\n",
       "      <td>-0.000201</td>\n",
       "      <td>-7.573339e-17</td>\n",
       "      <td>0.003916</td>\n",
       "      <td>-3.090744e-16</td>\n",
       "      <td>-2.462409e-16</td>\n",
       "      <td>...</td>\n",
       "      <td>0.005060</td>\n",
       "      <td>5.988769e-15</td>\n",
       "      <td>-0.002091</td>\n",
       "      <td>-1.000000e+00</td>\n",
       "      <td>1.146388e-03</td>\n",
       "      <td>-1.221420e-15</td>\n",
       "      <td>-2.880507e-16</td>\n",
       "      <td>-4.205952e-16</td>\n",
       "      <td>-1.125586e-15</td>\n",
       "      <td>-1.358429e-16</td>\n",
       "    </tr>\n",
       "    <tr>\n",
       "      <th>CRSDepTime</th>\n",
       "      <td>-2.344105e-03</td>\n",
       "      <td>2.641653e-03</td>\n",
       "      <td>-9.993628e-04</td>\n",
       "      <td>-2.305380e-05</td>\n",
       "      <td>1.000000</td>\n",
       "      <td>0.710303</td>\n",
       "      <td>-3.484595e-02</td>\n",
       "      <td>-0.026387</td>\n",
       "      <td>-3.649897e-02</td>\n",
       "      <td>4.434680e-02</td>\n",
       "      <td>...</td>\n",
       "      <td>-0.029517</td>\n",
       "      <td>-3.231827e-02</td>\n",
       "      <td>0.011407</td>\n",
       "      <td>2.305380e-05</td>\n",
       "      <td>-9.096035e-03</td>\n",
       "      <td>-8.541723e-02</td>\n",
       "      <td>-7.431151e-03</td>\n",
       "      <td>-2.602259e-02</td>\n",
       "      <td>-1.357936e-02</td>\n",
       "      <td>1.334802e-01</td>\n",
       "    </tr>\n",
       "    <tr>\n",
       "      <th>CRSArrTime</th>\n",
       "      <td>-1.728126e-03</td>\n",
       "      <td>2.455603e-03</td>\n",
       "      <td>-1.215710e-03</td>\n",
       "      <td>-2.005906e-04</td>\n",
       "      <td>0.710303</td>\n",
       "      <td>1.000000</td>\n",
       "      <td>3.313074e-02</td>\n",
       "      <td>0.040112</td>\n",
       "      <td>2.585053e-02</td>\n",
       "      <td>4.298414e-02</td>\n",
       "      <td>...</td>\n",
       "      <td>0.024335</td>\n",
       "      <td>1.379330e-02</td>\n",
       "      <td>0.037938</td>\n",
       "      <td>2.005906e-04</td>\n",
       "      <td>9.065719e-04</td>\n",
       "      <td>-7.669054e-02</td>\n",
       "      <td>-4.013853e-03</td>\n",
       "      <td>7.359174e-03</td>\n",
       "      <td>-1.064682e-02</td>\n",
       "      <td>1.048530e-01</td>\n",
       "    </tr>\n",
       "    <tr>\n",
       "      <th>ActualElapsedTime</th>\n",
       "      <td>-3.995609e-18</td>\n",
       "      <td>5.921485e-17</td>\n",
       "      <td>-9.920478e-17</td>\n",
       "      <td>-7.573339e-17</td>\n",
       "      <td>-0.034846</td>\n",
       "      <td>0.033131</td>\n",
       "      <td>1.000000e+00</td>\n",
       "      <td>0.967599</td>\n",
       "      <td>9.766600e-01</td>\n",
       "      <td>6.812970e-02</td>\n",
       "      <td>...</td>\n",
       "      <td>0.949931</td>\n",
       "      <td>1.661182e-01</td>\n",
       "      <td>0.288367</td>\n",
       "      <td>1.244197e-17</td>\n",
       "      <td>3.709352e-16</td>\n",
       "      <td>8.038548e-03</td>\n",
       "      <td>3.281307e-03</td>\n",
       "      <td>1.429387e-01</td>\n",
       "      <td>4.615418e-03</td>\n",
       "      <td>-2.760090e-02</td>\n",
       "    </tr>\n",
       "    <tr>\n",
       "      <th>CRSElapsedTime</th>\n",
       "      <td>9.603212e-05</td>\n",
       "      <td>-4.126748e-03</td>\n",
       "      <td>-3.098361e-03</td>\n",
       "      <td>3.915927e-03</td>\n",
       "      <td>-0.026387</td>\n",
       "      <td>0.040112</td>\n",
       "      <td>9.675992e-01</td>\n",
       "      <td>1.000000</td>\n",
       "      <td>9.825087e-01</td>\n",
       "      <td>-1.561962e-02</td>\n",
       "      <td>...</td>\n",
       "      <td>0.981742</td>\n",
       "      <td>9.937646e-02</td>\n",
       "      <td>0.123815</td>\n",
       "      <td>-3.915927e-03</td>\n",
       "      <td>2.434413e-02</td>\n",
       "      <td>2.079714e-02</td>\n",
       "      <td>-1.288961e-02</td>\n",
       "      <td>3.673763e-02</td>\n",
       "      <td>4.774917e-03</td>\n",
       "      <td>-9.061788e-03</td>\n",
       "    </tr>\n",
       "    <tr>\n",
       "      <th>AirTime</th>\n",
       "      <td>2.386513e-17</td>\n",
       "      <td>4.341854e-17</td>\n",
       "      <td>8.704166e-17</td>\n",
       "      <td>-3.090744e-16</td>\n",
       "      <td>-0.036499</td>\n",
       "      <td>0.025851</td>\n",
       "      <td>9.766600e-01</td>\n",
       "      <td>0.982509</td>\n",
       "      <td>1.000000e+00</td>\n",
       "      <td>-1.889261e-04</td>\n",
       "      <td>...</td>\n",
       "      <td>0.977158</td>\n",
       "      <td>8.380996e-02</td>\n",
       "      <td>0.090023</td>\n",
       "      <td>-5.481650e-17</td>\n",
       "      <td>-4.817395e-16</td>\n",
       "      <td>1.561430e-02</td>\n",
       "      <td>-1.463875e-02</td>\n",
       "      <td>5.016042e-02</td>\n",
       "      <td>5.715933e-03</td>\n",
       "      <td>-1.757160e-02</td>\n",
       "    </tr>\n",
       "    <tr>\n",
       "      <th>ArrDelay</th>\n",
       "      <td>-2.730221e-18</td>\n",
       "      <td>-4.103585e-17</td>\n",
       "      <td>-2.616243e-19</td>\n",
       "      <td>-2.462409e-16</td>\n",
       "      <td>0.044347</td>\n",
       "      <td>0.042984</td>\n",
       "      <td>6.812970e-02</td>\n",
       "      <td>-0.015620</td>\n",
       "      <td>-1.889261e-04</td>\n",
       "      <td>1.000000e+00</td>\n",
       "      <td>...</td>\n",
       "      <td>-0.029757</td>\n",
       "      <td>1.560609e-01</td>\n",
       "      <td>0.285296</td>\n",
       "      <td>3.464519e-17</td>\n",
       "      <td>4.979952e-17</td>\n",
       "      <td>4.317916e-01</td>\n",
       "      <td>2.277170e-01</td>\n",
       "      <td>3.335476e-01</td>\n",
       "      <td>-2.141391e-03</td>\n",
       "      <td>4.114399e-01</td>\n",
       "    </tr>\n",
       "    <tr>\n",
       "      <th>DepDelay</th>\n",
       "      <td>1.291936e-02</td>\n",
       "      <td>8.168655e-03</td>\n",
       "      <td>7.869823e-03</td>\n",
       "      <td>-1.654210e-02</td>\n",
       "      <td>0.058875</td>\n",
       "      <td>0.053706</td>\n",
       "      <td>1.840465e-02</td>\n",
       "      <td>0.007001</td>\n",
       "      <td>-2.740411e-03</td>\n",
       "      <td>9.484307e-01</td>\n",
       "      <td>...</td>\n",
       "      <td>-0.007718</td>\n",
       "      <td>7.442978e-02</td>\n",
       "      <td>0.078635</td>\n",
       "      <td>1.654210e-02</td>\n",
       "      <td>2.286652e-02</td>\n",
       "      <td>4.751020e-01</td>\n",
       "      <td>2.199778e-01</td>\n",
       "      <td>2.105199e-01</td>\n",
       "      <td>-2.107933e-03</td>\n",
       "      <td>4.616079e-01</td>\n",
       "    </tr>\n",
       "    <tr>\n",
       "      <th>Distance</th>\n",
       "      <td>-4.295341e-04</td>\n",
       "      <td>-5.168297e-03</td>\n",
       "      <td>-3.353365e-03</td>\n",
       "      <td>5.059675e-03</td>\n",
       "      <td>-0.029517</td>\n",
       "      <td>0.024335</td>\n",
       "      <td>9.499313e-01</td>\n",
       "      <td>0.981742</td>\n",
       "      <td>9.771579e-01</td>\n",
       "      <td>-2.975709e-02</td>\n",
       "      <td>...</td>\n",
       "      <td>1.000000</td>\n",
       "      <td>7.210779e-02</td>\n",
       "      <td>0.070290</td>\n",
       "      <td>-5.059675e-03</td>\n",
       "      <td>2.169182e-02</td>\n",
       "      <td>2.222674e-02</td>\n",
       "      <td>-1.861351e-02</td>\n",
       "      <td>1.415099e-02</td>\n",
       "      <td>5.492755e-03</td>\n",
       "      <td>-8.265899e-03</td>\n",
       "    </tr>\n",
       "    <tr>\n",
       "      <th>TaxiIn</th>\n",
       "      <td>5.249894e-17</td>\n",
       "      <td>-9.931148e-16</td>\n",
       "      <td>3.482518e-16</td>\n",
       "      <td>5.988769e-15</td>\n",
       "      <td>-0.032318</td>\n",
       "      <td>0.013793</td>\n",
       "      <td>1.661182e-01</td>\n",
       "      <td>0.099376</td>\n",
       "      <td>8.380996e-02</td>\n",
       "      <td>1.560609e-01</td>\n",
       "      <td>...</td>\n",
       "      <td>0.072108</td>\n",
       "      <td>1.000000e+00</td>\n",
       "      <td>0.066703</td>\n",
       "      <td>-5.765927e-15</td>\n",
       "      <td>4.754467e-03</td>\n",
       "      <td>-2.022056e-02</td>\n",
       "      <td>2.360482e-02</td>\n",
       "      <td>2.114104e-01</td>\n",
       "      <td>-4.511760e-03</td>\n",
       "      <td>-6.423340e-03</td>\n",
       "    </tr>\n",
       "    <tr>\n",
       "      <th>TaxiOut</th>\n",
       "      <td>7.060159e-04</td>\n",
       "      <td>1.854589e-03</td>\n",
       "      <td>1.011159e-03</td>\n",
       "      <td>-2.091365e-03</td>\n",
       "      <td>0.011407</td>\n",
       "      <td>0.037938</td>\n",
       "      <td>2.883666e-01</td>\n",
       "      <td>0.123815</td>\n",
       "      <td>9.002292e-02</td>\n",
       "      <td>2.852956e-01</td>\n",
       "      <td>...</td>\n",
       "      <td>0.070290</td>\n",
       "      <td>6.670260e-02</td>\n",
       "      <td>1.000000</td>\n",
       "      <td>2.091365e-03</td>\n",
       "      <td>1.576045e-02</td>\n",
       "      <td>-2.685673e-02</td>\n",
       "      <td>7.772622e-02</td>\n",
       "      <td>3.996220e-01</td>\n",
       "      <td>-2.503351e-03</td>\n",
       "      <td>-5.212120e-02</td>\n",
       "    </tr>\n",
       "    <tr>\n",
       "      <th>Cancelled</th>\n",
       "      <td>6.233361e-01</td>\n",
       "      <td>6.963551e-01</td>\n",
       "      <td>3.554521e-01</td>\n",
       "      <td>-1.000000e+00</td>\n",
       "      <td>0.000023</td>\n",
       "      <td>0.000201</td>\n",
       "      <td>1.244197e-17</td>\n",
       "      <td>-0.003916</td>\n",
       "      <td>-5.481650e-17</td>\n",
       "      <td>3.464519e-17</td>\n",
       "      <td>...</td>\n",
       "      <td>-0.005060</td>\n",
       "      <td>-5.765927e-15</td>\n",
       "      <td>0.002091</td>\n",
       "      <td>1.000000e+00</td>\n",
       "      <td>-1.146388e-03</td>\n",
       "      <td>1.405699e-15</td>\n",
       "      <td>4.084926e-16</td>\n",
       "      <td>6.636026e-16</td>\n",
       "      <td>1.180293e-15</td>\n",
       "      <td>1.170138e-16</td>\n",
       "    </tr>\n",
       "    <tr>\n",
       "      <th>Diverted</th>\n",
       "      <td>-7.145848e-04</td>\n",
       "      <td>-7.982929e-04</td>\n",
       "      <td>-4.074859e-04</td>\n",
       "      <td>1.146388e-03</td>\n",
       "      <td>-0.009096</td>\n",
       "      <td>0.000907</td>\n",
       "      <td>3.709352e-16</td>\n",
       "      <td>0.024344</td>\n",
       "      <td>-4.817395e-16</td>\n",
       "      <td>4.979952e-17</td>\n",
       "      <td>...</td>\n",
       "      <td>0.021692</td>\n",
       "      <td>4.754467e-03</td>\n",
       "      <td>0.015760</td>\n",
       "      <td>-1.146388e-03</td>\n",
       "      <td>1.000000e+00</td>\n",
       "      <td>2.229762e-15</td>\n",
       "      <td>-7.090261e-15</td>\n",
       "      <td>-3.767952e-15</td>\n",
       "      <td>-3.168924e-15</td>\n",
       "      <td>2.276568e-15</td>\n",
       "    </tr>\n",
       "    <tr>\n",
       "      <th>CarrierDelay</th>\n",
       "      <td>3.451410e-16</td>\n",
       "      <td>5.838078e-16</td>\n",
       "      <td>-2.670208e-16</td>\n",
       "      <td>-1.221420e-15</td>\n",
       "      <td>-0.085417</td>\n",
       "      <td>-0.076691</td>\n",
       "      <td>8.038548e-03</td>\n",
       "      <td>0.020797</td>\n",
       "      <td>1.561430e-02</td>\n",
       "      <td>4.317916e-01</td>\n",
       "      <td>...</td>\n",
       "      <td>0.022227</td>\n",
       "      <td>-2.022056e-02</td>\n",
       "      <td>-0.026857</td>\n",
       "      <td>1.405699e-15</td>\n",
       "      <td>2.229762e-15</td>\n",
       "      <td>1.000000e+00</td>\n",
       "      <td>-6.895143e-02</td>\n",
       "      <td>-1.195344e-01</td>\n",
       "      <td>-1.853717e-02</td>\n",
       "      <td>-1.782855e-01</td>\n",
       "    </tr>\n",
       "    <tr>\n",
       "      <th>WeatherDelay</th>\n",
       "      <td>-1.780198e-16</td>\n",
       "      <td>-1.228114e-15</td>\n",
       "      <td>3.583056e-17</td>\n",
       "      <td>-2.880507e-16</td>\n",
       "      <td>-0.007431</td>\n",
       "      <td>-0.004014</td>\n",
       "      <td>3.281307e-03</td>\n",
       "      <td>-0.012890</td>\n",
       "      <td>-1.463875e-02</td>\n",
       "      <td>2.277170e-01</td>\n",
       "      <td>...</td>\n",
       "      <td>-0.018614</td>\n",
       "      <td>2.360482e-02</td>\n",
       "      <td>0.077726</td>\n",
       "      <td>4.084926e-16</td>\n",
       "      <td>-7.090261e-15</td>\n",
       "      <td>-6.895143e-02</td>\n",
       "      <td>1.000000e+00</td>\n",
       "      <td>-2.553068e-03</td>\n",
       "      <td>-7.511150e-03</td>\n",
       "      <td>-5.497081e-02</td>\n",
       "    </tr>\n",
       "    <tr>\n",
       "      <th>NASDelay</th>\n",
       "      <td>1.949266e-15</td>\n",
       "      <td>-2.092821e-15</td>\n",
       "      <td>-8.375067e-16</td>\n",
       "      <td>-4.205952e-16</td>\n",
       "      <td>-0.026023</td>\n",
       "      <td>0.007359</td>\n",
       "      <td>1.429387e-01</td>\n",
       "      <td>0.036738</td>\n",
       "      <td>5.016042e-02</td>\n",
       "      <td>3.335476e-01</td>\n",
       "      <td>...</td>\n",
       "      <td>0.014151</td>\n",
       "      <td>2.114104e-01</td>\n",
       "      <td>0.399622</td>\n",
       "      <td>6.636026e-16</td>\n",
       "      <td>-3.767952e-15</td>\n",
       "      <td>-1.195344e-01</td>\n",
       "      <td>-2.553068e-03</td>\n",
       "      <td>1.000000e+00</td>\n",
       "      <td>-1.172319e-02</td>\n",
       "      <td>-1.189048e-01</td>\n",
       "    </tr>\n",
       "    <tr>\n",
       "      <th>SecurityDelay</th>\n",
       "      <td>5.203939e-17</td>\n",
       "      <td>5.441756e-16</td>\n",
       "      <td>2.508178e-16</td>\n",
       "      <td>-1.125586e-15</td>\n",
       "      <td>-0.013579</td>\n",
       "      <td>-0.010647</td>\n",
       "      <td>4.615418e-03</td>\n",
       "      <td>0.004775</td>\n",
       "      <td>5.715933e-03</td>\n",
       "      <td>-2.141391e-03</td>\n",
       "      <td>...</td>\n",
       "      <td>0.005493</td>\n",
       "      <td>-4.511760e-03</td>\n",
       "      <td>-0.002503</td>\n",
       "      <td>1.180293e-15</td>\n",
       "      <td>-3.168924e-15</td>\n",
       "      <td>-1.853717e-02</td>\n",
       "      <td>-7.511150e-03</td>\n",
       "      <td>-1.172319e-02</td>\n",
       "      <td>1.000000e+00</td>\n",
       "      <td>-1.922742e-02</td>\n",
       "    </tr>\n",
       "    <tr>\n",
       "      <th>LateAircraftDelay</th>\n",
       "      <td>-2.903811e-16</td>\n",
       "      <td>-3.467257e-16</td>\n",
       "      <td>9.341265e-17</td>\n",
       "      <td>-1.358429e-16</td>\n",
       "      <td>0.133480</td>\n",
       "      <td>0.104853</td>\n",
       "      <td>-2.760090e-02</td>\n",
       "      <td>-0.009062</td>\n",
       "      <td>-1.757160e-02</td>\n",
       "      <td>4.114399e-01</td>\n",
       "      <td>...</td>\n",
       "      <td>-0.008266</td>\n",
       "      <td>-6.423340e-03</td>\n",
       "      <td>-0.052121</td>\n",
       "      <td>1.170138e-16</td>\n",
       "      <td>2.276568e-15</td>\n",
       "      <td>-1.782855e-01</td>\n",
       "      <td>-5.497081e-02</td>\n",
       "      <td>-1.189048e-01</td>\n",
       "      <td>-1.922742e-02</td>\n",
       "      <td>1.000000e+00</td>\n",
       "    </tr>\n",
       "  </tbody>\n",
       "</table>\n",
       "<p>21 rows × 21 columns</p>\n",
       "</div>"
      ],
      "text/plain": [
       "                    CancellationCode_A  CancellationCode_B  \\\n",
       "CancellationCode_A        1.000000e+00       -1.419134e-04   \n",
       "CancellationCode_B       -1.419134e-04        1.000000e+00   \n",
       "CancellationCode_C       -7.243922e-05       -8.092491e-05   \n",
       "CancellationCode_N       -6.233361e-01       -6.963551e-01   \n",
       "CRSDepTime               -2.344105e-03        2.641653e-03   \n",
       "CRSArrTime               -1.728126e-03        2.455603e-03   \n",
       "ActualElapsedTime        -3.995609e-18        5.921485e-17   \n",
       "CRSElapsedTime            9.603212e-05       -4.126748e-03   \n",
       "AirTime                   2.386513e-17        4.341854e-17   \n",
       "ArrDelay                 -2.730221e-18       -4.103585e-17   \n",
       "DepDelay                  1.291936e-02        8.168655e-03   \n",
       "Distance                 -4.295341e-04       -5.168297e-03   \n",
       "TaxiIn                    5.249894e-17       -9.931148e-16   \n",
       "TaxiOut                   7.060159e-04        1.854589e-03   \n",
       "Cancelled                 6.233361e-01        6.963551e-01   \n",
       "Diverted                 -7.145848e-04       -7.982929e-04   \n",
       "CarrierDelay              3.451410e-16        5.838078e-16   \n",
       "WeatherDelay             -1.780198e-16       -1.228114e-15   \n",
       "NASDelay                  1.949266e-15       -2.092821e-15   \n",
       "SecurityDelay             5.203939e-17        5.441756e-16   \n",
       "LateAircraftDelay        -2.903811e-16       -3.467257e-16   \n",
       "\n",
       "                    CancellationCode_C  CancellationCode_N  CRSDepTime  \\\n",
       "CancellationCode_A       -7.243922e-05       -6.233361e-01   -0.002344   \n",
       "CancellationCode_B       -8.092491e-05       -6.963551e-01    0.002642   \n",
       "CancellationCode_C        1.000000e+00       -3.554521e-01   -0.000999   \n",
       "CancellationCode_N       -3.554521e-01        1.000000e+00   -0.000023   \n",
       "CRSDepTime               -9.993628e-04       -2.305380e-05    1.000000   \n",
       "CRSArrTime               -1.215710e-03       -2.005906e-04    0.710303   \n",
       "ActualElapsedTime        -9.920478e-17       -7.573339e-17   -0.034846   \n",
       "CRSElapsedTime           -3.098361e-03        3.915927e-03   -0.026387   \n",
       "AirTime                   8.704166e-17       -3.090744e-16   -0.036499   \n",
       "ArrDelay                 -2.616243e-19       -2.462409e-16    0.044347   \n",
       "DepDelay                  7.869823e-03       -1.654210e-02    0.058875   \n",
       "Distance                 -3.353365e-03        5.059675e-03   -0.029517   \n",
       "TaxiIn                    3.482518e-16        5.988769e-15   -0.032318   \n",
       "TaxiOut                   1.011159e-03       -2.091365e-03    0.011407   \n",
       "Cancelled                 3.554521e-01       -1.000000e+00    0.000023   \n",
       "Diverted                 -4.074859e-04        1.146388e-03   -0.009096   \n",
       "CarrierDelay             -2.670208e-16       -1.221420e-15   -0.085417   \n",
       "WeatherDelay              3.583056e-17       -2.880507e-16   -0.007431   \n",
       "NASDelay                 -8.375067e-16       -4.205952e-16   -0.026023   \n",
       "SecurityDelay             2.508178e-16       -1.125586e-15   -0.013579   \n",
       "LateAircraftDelay         9.341265e-17       -1.358429e-16    0.133480   \n",
       "\n",
       "                    CRSArrTime  ActualElapsedTime  CRSElapsedTime  \\\n",
       "CancellationCode_A   -0.001728      -3.995609e-18        0.000096   \n",
       "CancellationCode_B    0.002456       5.921485e-17       -0.004127   \n",
       "CancellationCode_C   -0.001216      -9.920478e-17       -0.003098   \n",
       "CancellationCode_N   -0.000201      -7.573339e-17        0.003916   \n",
       "CRSDepTime            0.710303      -3.484595e-02       -0.026387   \n",
       "CRSArrTime            1.000000       3.313074e-02        0.040112   \n",
       "ActualElapsedTime     0.033131       1.000000e+00        0.967599   \n",
       "CRSElapsedTime        0.040112       9.675992e-01        1.000000   \n",
       "AirTime               0.025851       9.766600e-01        0.982509   \n",
       "ArrDelay              0.042984       6.812970e-02       -0.015620   \n",
       "DepDelay              0.053706       1.840465e-02        0.007001   \n",
       "Distance              0.024335       9.499313e-01        0.981742   \n",
       "TaxiIn                0.013793       1.661182e-01        0.099376   \n",
       "TaxiOut               0.037938       2.883666e-01        0.123815   \n",
       "Cancelled             0.000201       1.244197e-17       -0.003916   \n",
       "Diverted              0.000907       3.709352e-16        0.024344   \n",
       "CarrierDelay         -0.076691       8.038548e-03        0.020797   \n",
       "WeatherDelay         -0.004014       3.281307e-03       -0.012890   \n",
       "NASDelay              0.007359       1.429387e-01        0.036738   \n",
       "SecurityDelay        -0.010647       4.615418e-03        0.004775   \n",
       "LateAircraftDelay     0.104853      -2.760090e-02       -0.009062   \n",
       "\n",
       "                         AirTime      ArrDelay  ...  Distance        TaxiIn  \\\n",
       "CancellationCode_A  2.386513e-17 -2.730221e-18  ... -0.000430  5.249894e-17   \n",
       "CancellationCode_B  4.341854e-17 -4.103585e-17  ... -0.005168 -9.931148e-16   \n",
       "CancellationCode_C  8.704166e-17 -2.616243e-19  ... -0.003353  3.482518e-16   \n",
       "CancellationCode_N -3.090744e-16 -2.462409e-16  ...  0.005060  5.988769e-15   \n",
       "CRSDepTime         -3.649897e-02  4.434680e-02  ... -0.029517 -3.231827e-02   \n",
       "CRSArrTime          2.585053e-02  4.298414e-02  ...  0.024335  1.379330e-02   \n",
       "ActualElapsedTime   9.766600e-01  6.812970e-02  ...  0.949931  1.661182e-01   \n",
       "CRSElapsedTime      9.825087e-01 -1.561962e-02  ...  0.981742  9.937646e-02   \n",
       "AirTime             1.000000e+00 -1.889261e-04  ...  0.977158  8.380996e-02   \n",
       "ArrDelay           -1.889261e-04  1.000000e+00  ... -0.029757  1.560609e-01   \n",
       "DepDelay           -2.740411e-03  9.484307e-01  ... -0.007718  7.442978e-02   \n",
       "Distance            9.771579e-01 -2.975709e-02  ...  1.000000  7.210779e-02   \n",
       "TaxiIn              8.380996e-02  1.560609e-01  ...  0.072108  1.000000e+00   \n",
       "TaxiOut             9.002292e-02  2.852956e-01  ...  0.070290  6.670260e-02   \n",
       "Cancelled          -5.481650e-17  3.464519e-17  ... -0.005060 -5.765927e-15   \n",
       "Diverted           -4.817395e-16  4.979952e-17  ...  0.021692  4.754467e-03   \n",
       "CarrierDelay        1.561430e-02  4.317916e-01  ...  0.022227 -2.022056e-02   \n",
       "WeatherDelay       -1.463875e-02  2.277170e-01  ... -0.018614  2.360482e-02   \n",
       "NASDelay            5.016042e-02  3.335476e-01  ...  0.014151  2.114104e-01   \n",
       "SecurityDelay       5.715933e-03 -2.141391e-03  ...  0.005493 -4.511760e-03   \n",
       "LateAircraftDelay  -1.757160e-02  4.114399e-01  ... -0.008266 -6.423340e-03   \n",
       "\n",
       "                     TaxiOut     Cancelled      Diverted  CarrierDelay  \\\n",
       "CancellationCode_A  0.000706  6.233361e-01 -7.145848e-04  3.451410e-16   \n",
       "CancellationCode_B  0.001855  6.963551e-01 -7.982929e-04  5.838078e-16   \n",
       "CancellationCode_C  0.001011  3.554521e-01 -4.074859e-04 -2.670208e-16   \n",
       "CancellationCode_N -0.002091 -1.000000e+00  1.146388e-03 -1.221420e-15   \n",
       "CRSDepTime          0.011407  2.305380e-05 -9.096035e-03 -8.541723e-02   \n",
       "CRSArrTime          0.037938  2.005906e-04  9.065719e-04 -7.669054e-02   \n",
       "ActualElapsedTime   0.288367  1.244197e-17  3.709352e-16  8.038548e-03   \n",
       "CRSElapsedTime      0.123815 -3.915927e-03  2.434413e-02  2.079714e-02   \n",
       "AirTime             0.090023 -5.481650e-17 -4.817395e-16  1.561430e-02   \n",
       "ArrDelay            0.285296  3.464519e-17  4.979952e-17  4.317916e-01   \n",
       "DepDelay            0.078635  1.654210e-02  2.286652e-02  4.751020e-01   \n",
       "Distance            0.070290 -5.059675e-03  2.169182e-02  2.222674e-02   \n",
       "TaxiIn              0.066703 -5.765927e-15  4.754467e-03 -2.022056e-02   \n",
       "TaxiOut             1.000000  2.091365e-03  1.576045e-02 -2.685673e-02   \n",
       "Cancelled           0.002091  1.000000e+00 -1.146388e-03  1.405699e-15   \n",
       "Diverted            0.015760 -1.146388e-03  1.000000e+00  2.229762e-15   \n",
       "CarrierDelay       -0.026857  1.405699e-15  2.229762e-15  1.000000e+00   \n",
       "WeatherDelay        0.077726  4.084926e-16 -7.090261e-15 -6.895143e-02   \n",
       "NASDelay            0.399622  6.636026e-16 -3.767952e-15 -1.195344e-01   \n",
       "SecurityDelay      -0.002503  1.180293e-15 -3.168924e-15 -1.853717e-02   \n",
       "LateAircraftDelay  -0.052121  1.170138e-16  2.276568e-15 -1.782855e-01   \n",
       "\n",
       "                    WeatherDelay      NASDelay  SecurityDelay  \\\n",
       "CancellationCode_A -1.780198e-16  1.949266e-15   5.203939e-17   \n",
       "CancellationCode_B -1.228114e-15 -2.092821e-15   5.441756e-16   \n",
       "CancellationCode_C  3.583056e-17 -8.375067e-16   2.508178e-16   \n",
       "CancellationCode_N -2.880507e-16 -4.205952e-16  -1.125586e-15   \n",
       "CRSDepTime         -7.431151e-03 -2.602259e-02  -1.357936e-02   \n",
       "CRSArrTime         -4.013853e-03  7.359174e-03  -1.064682e-02   \n",
       "ActualElapsedTime   3.281307e-03  1.429387e-01   4.615418e-03   \n",
       "CRSElapsedTime     -1.288961e-02  3.673763e-02   4.774917e-03   \n",
       "AirTime            -1.463875e-02  5.016042e-02   5.715933e-03   \n",
       "ArrDelay            2.277170e-01  3.335476e-01  -2.141391e-03   \n",
       "DepDelay            2.199778e-01  2.105199e-01  -2.107933e-03   \n",
       "Distance           -1.861351e-02  1.415099e-02   5.492755e-03   \n",
       "TaxiIn              2.360482e-02  2.114104e-01  -4.511760e-03   \n",
       "TaxiOut             7.772622e-02  3.996220e-01  -2.503351e-03   \n",
       "Cancelled           4.084926e-16  6.636026e-16   1.180293e-15   \n",
       "Diverted           -7.090261e-15 -3.767952e-15  -3.168924e-15   \n",
       "CarrierDelay       -6.895143e-02 -1.195344e-01  -1.853717e-02   \n",
       "WeatherDelay        1.000000e+00 -2.553068e-03  -7.511150e-03   \n",
       "NASDelay           -2.553068e-03  1.000000e+00  -1.172319e-02   \n",
       "SecurityDelay      -7.511150e-03 -1.172319e-02   1.000000e+00   \n",
       "LateAircraftDelay  -5.497081e-02 -1.189048e-01  -1.922742e-02   \n",
       "\n",
       "                    LateAircraftDelay  \n",
       "CancellationCode_A      -2.903811e-16  \n",
       "CancellationCode_B      -3.467257e-16  \n",
       "CancellationCode_C       9.341265e-17  \n",
       "CancellationCode_N      -1.358429e-16  \n",
       "CRSDepTime               1.334802e-01  \n",
       "CRSArrTime               1.048530e-01  \n",
       "ActualElapsedTime       -2.760090e-02  \n",
       "CRSElapsedTime          -9.061788e-03  \n",
       "AirTime                 -1.757160e-02  \n",
       "ArrDelay                 4.114399e-01  \n",
       "DepDelay                 4.616079e-01  \n",
       "Distance                -8.265899e-03  \n",
       "TaxiIn                  -6.423340e-03  \n",
       "TaxiOut                 -5.212120e-02  \n",
       "Cancelled                1.170138e-16  \n",
       "Diverted                 2.276568e-15  \n",
       "CarrierDelay            -1.782855e-01  \n",
       "WeatherDelay            -5.497081e-02  \n",
       "NASDelay                -1.189048e-01  \n",
       "SecurityDelay           -1.922742e-02  \n",
       "LateAircraftDelay        1.000000e+00  \n",
       "\n",
       "[21 rows x 21 columns]"
      ]
     },
     "execution_count": 32,
     "metadata": {},
     "output_type": "execute_result"
    }
   ],
   "source": [
    "cor"
   ]
  },
  {
   "cell_type": "code",
   "execution_count": 33,
   "metadata": {},
   "outputs": [
    {
     "data": {
      "text/plain": [
       "ArrDelay             0.948431\n",
       "DepDelay             1.000000\n",
       "CarrierDelay         0.475102\n",
       "WeatherDelay         0.219978\n",
       "NASDelay             0.210520\n",
       "LateAircraftDelay    0.461608\n",
       "Name: DepDelay, dtype: float64"
      ]
     },
     "execution_count": 33,
     "metadata": {},
     "output_type": "execute_result"
    }
   ],
   "source": [
    "cor_target = cor[\"DepDelay\"]\n",
    "#Selecting highly correlated features\n",
    "relevant_features = cor_target[cor_target>0.1]\n",
    "relevant_features"
   ]
  },
  {
   "cell_type": "code",
   "execution_count": 35,
   "metadata": {},
   "outputs": [
    {
     "data": {
      "text/plain": [
       "CancellationCode_A    0.012919\n",
       "CancellationCode_B    0.008169\n",
       "CancellationCode_C    0.007870\n",
       "CancellationCode_N   -0.016542\n",
       "CRSDepTime            0.058875\n",
       "CRSArrTime            0.053706\n",
       "ActualElapsedTime     0.018405\n",
       "CRSElapsedTime        0.007001\n",
       "AirTime              -0.002740\n",
       "ArrDelay              0.948431\n",
       "DepDelay              1.000000\n",
       "Distance             -0.007718\n",
       "TaxiIn                0.074430\n",
       "TaxiOut               0.078635\n",
       "Cancelled             0.016542\n",
       "Diverted              0.022867\n",
       "CarrierDelay          0.475102\n",
       "WeatherDelay          0.219978\n",
       "NASDelay              0.210520\n",
       "SecurityDelay        -0.002108\n",
       "LateAircraftDelay     0.461608\n",
       "Name: DepDelay, dtype: float64"
      ]
     },
     "execution_count": 35,
     "metadata": {},
     "output_type": "execute_result"
    }
   ],
   "source": [
    "cor[\"DepDelay\"]"
   ]
  },
  {
   "cell_type": "markdown",
   "metadata": {},
   "source": [
    "# Model Building - train"
   ]
  },
  {
   "cell_type": "code",
   "execution_count": 36,
   "metadata": {},
   "outputs": [],
   "source": [
    "x=dff[['ArrDelay','CarrierDelay','WeatherDelay','NASDelay','LateAircraftDelay']]\n",
    "y=dff[['DepDelay']]"
   ]
  },
  {
   "cell_type": "code",
   "execution_count": 37,
   "metadata": {},
   "outputs": [],
   "source": [
    "X_train,X_test,Y_train,Y_test=train_test_split(x,y,test_size=0.2,random_state=10)"
   ]
  },
  {
   "cell_type": "code",
   "execution_count": 38,
   "metadata": {},
   "outputs": [],
   "source": [
    "from sklearn.metrics import r2_score,mean_squared_error"
   ]
  },
  {
   "cell_type": "code",
   "execution_count": 40,
   "metadata": {},
   "outputs": [
    {
     "data": {
      "text/plain": [
       "LinearRegression(copy_X=True, fit_intercept=True, n_jobs=None, normalize=False)"
      ]
     },
     "execution_count": 40,
     "metadata": {},
     "output_type": "execute_result"
    }
   ],
   "source": [
    "X_train,X_test,Y_train,Y_test=train_test_split(x,y,test_size=0.2,random_state=10)\n",
    "model=LinearRegression().fit(X_train,Y_train)\n",
    "\n",
    "model"
   ]
  },
  {
   "cell_type": "markdown",
   "metadata": {},
   "source": [
    "# Train set"
   ]
  },
  {
   "cell_type": "code",
   "execution_count": 41,
   "metadata": {},
   "outputs": [
    {
     "name": "stdout",
     "output_type": "stream",
     "text": [
      "0.9231462363422898\n"
     ]
    }
   ],
   "source": [
    "pred_train = model.predict(X_train) # prediction on train data\n",
    "print(r2_score(Y_train,pred_train)) # r2 score of train set"
   ]
  },
  {
   "cell_type": "code",
   "execution_count": 42,
   "metadata": {},
   "outputs": [
    {
     "data": {
      "text/plain": [
       "219.05523313449123"
      ]
     },
     "execution_count": 42,
     "metadata": {},
     "output_type": "execute_result"
    }
   ],
   "source": [
    "mean_squared_error(Y_train,pred_train)"
   ]
  },
  {
   "cell_type": "markdown",
   "metadata": {},
   "source": [
    "# Test set"
   ]
  },
  {
   "cell_type": "code",
   "execution_count": 43,
   "metadata": {},
   "outputs": [
    {
     "name": "stdout",
     "output_type": "stream",
     "text": [
      "0.9226756073145206\n"
     ]
    }
   ],
   "source": [
    "pred_test = model.predict(X_test) # prediction on test data\n",
    "print(r2_score(Y_test,pred_test)) # r2 score of test set"
   ]
  },
  {
   "cell_type": "code",
   "execution_count": 44,
   "metadata": {},
   "outputs": [
    {
     "data": {
      "text/plain": [
       "220.99168363533346"
      ]
     },
     "execution_count": 44,
     "metadata": {},
     "output_type": "execute_result"
    }
   ],
   "source": [
    "mean_squared_error(Y_test,pred_test)"
   ]
  },
  {
   "cell_type": "code",
   "execution_count": 43,
   "metadata": {},
   "outputs": [
    {
     "data": {
      "text/plain": [
       "Text(0.5, 1.0, 'NASDelay')"
      ]
     },
     "execution_count": 43,
     "metadata": {},
     "output_type": "execute_result"
    },
    {
     "data": {
      "image/png": "[encoded data removed]",
      "text/plain": [
       "<Figure size 864x864 with 4 Axes>"
      ]
     },
     "metadata": {
      "needs_background": "light"
     },
     "output_type": "display_data"
    }
   ],
   "source": [
    "plt.figure(figsize=(12, 12))\n",
    "plt.subplot(2,2,1)\n",
    "plt.scatter(df_num_new2['ArrDelay'],df_num_new2['DepDelay'])\n",
    "plt.title('Arrival Delay')\n",
    "plt.subplot(2,2,2)\n",
    "plt.scatter(df_num_new2['CarrierDelay'],df_num_new2['DepDelay'])\n",
    "plt.title('CarrierDelay')\n",
    "plt.subplot(2,2,3)\n",
    "plt.scatter(df_num_new2['WeatherDelay'],df_num_new2['DepDelay'])\n",
    "plt.title('WeatherDelay')\n",
    "plt.subplot(2,2,4)\n",
    "plt.scatter(df_num_new2['NASDelay'],df_num_new2['DepDelay'])\n",
    "plt.title('NASDelay')"
   ]
  },
  {
   "cell_type": "code",
   "execution_count": 45,
   "metadata": {},
   "outputs": [],
   "source": [
    "X_train,X_test,Y_train,Y_test=train_test_split(x,y,test_size=0.2,random_state=10)"
   ]
  },
  {
   "cell_type": "code",
   "execution_count": 46,
   "metadata": {},
   "outputs": [
    {
     "name": "stdout",
     "output_type": "stream",
     "text": [
      "o\n"
     ]
    }
   ],
   "source": [
    "lst = [1,2,[3,4],[5,[100,200,['hello']],23,11],1,7]\n",
    "print(lst[3][1][2][0][4])   "
   ]
  },
  {
   "cell_type": "code",
   "execution_count": 22,
   "metadata": {},
   "outputs": [
    {
     "data": {
      "text/plain": [
       "str"
      ]
     },
     "execution_count": 22,
     "metadata": {},
     "output_type": "execute_result"
    }
   ],
   "source": [
    "x=('a')\n",
    "type(x)"
   ]
  },
  {
   "cell_type": "code",
   "execution_count": 23,
   "metadata": {},
   "outputs": [
    {
     "data": {
      "text/plain": [
       "tuple"
      ]
     },
     "execution_count": 23,
     "metadata": {},
     "output_type": "execute_result"
    }
   ],
   "source": [
    "x=('a'),\n",
    "type(x)"
   ]
  },
  {
   "cell_type": "code",
   "execution_count": 21,
   "metadata": {},
   "outputs": [
    {
     "data": {
      "text/plain": [
       "str"
      ]
     },
     "execution_count": 21,
     "metadata": {},
     "output_type": "execute_result"
    }
   ],
   "source": [
    " x='a'\n",
    "type(x)"
   ]
  },
  {
   "cell_type": "code",
   "execution_count": 14,
   "metadata": {},
   "outputs": [
    {
     "data": {
      "text/plain": [
       "'Abc def'"
      ]
     },
     "execution_count": 14,
     "metadata": {},
     "output_type": "execute_result"
    }
   ],
   "source": [
    "s=\"abc DEF\" \n",
    "# l.capitalize()\n",
    "# l.title\n",
    "s[0].upper()+s[1:].lower()"
   ]
  },
  {
   "cell_type": "code",
   "execution_count": 47,
   "metadata": {},
   "outputs": [
    {
     "name": "stderr",
     "output_type": "stream",
     "text": [
      "C:\\Users\\DELL\\Anaconda3\\lib\\site-packages\\sklearn\\ensemble\\_gb.py:1454: DataConversionWarning: A column-vector y was passed when a 1d array was expected. Please change the shape of y to (n_samples, ), for example using ravel().\n",
      "  y = column_or_1d(y, warn=True)\n"
     ]
    },
    {
     "data": {
      "text/plain": [
       "GradientBoostingRegressor(alpha=0.9, ccp_alpha=0.0, criterion='friedman_mse',\n",
       "                          init=None, learning_rate=0.1, loss='ls', max_depth=3,\n",
       "                          max_features=None, max_leaf_nodes=None,\n",
       "                          min_impurity_decrease=0.0, min_impurity_split=None,\n",
       "                          min_samples_leaf=1, min_samples_split=2,\n",
       "                          min_weight_fraction_leaf=0.0, n_estimators=100,\n",
       "                          n_iter_no_change=None, presort='deprecated',\n",
       "                          random_state=None, subsample=1.0, tol=0.0001,\n",
       "                          validation_fraction=0.1, verbose=0, warm_start=True)"
      ]
     },
     "execution_count": 47,
     "metadata": {},
     "output_type": "execute_result"
    }
   ],
   "source": [
    "from sklearn.ensemble import GradientBoostingRegressor\n",
    "pre_gb_model=GradientBoostingRegressor(warm_start=True)#always I'd like to use the warm_start parameter to add training data to my random forest classifier\n",
    "pre_gb_model.fit(X_train,Y_train)"
   ]
  },
  {
   "cell_type": "code",
   "execution_count": 48,
   "metadata": {},
   "outputs": [],
   "source": [
    "y_pred_probs = pre_gb_model.predict(X_test)"
   ]
  },
  {
   "cell_type": "code",
   "execution_count": 49,
   "metadata": {},
   "outputs": [
    {
     "data": {
      "text/plain": [
       "140.09957623753"
      ]
     },
     "execution_count": 49,
     "metadata": {},
     "output_type": "execute_result"
    }
   ],
   "source": [
    "mean_squared_error(Y_test,y_pred_probs)"
   ]
  },
  {
   "cell_type": "code",
   "execution_count": 50,
   "metadata": {},
   "outputs": [
    {
     "data": {
      "text/plain": [
       "0.9509795370130935"
      ]
     },
     "execution_count": 50,
     "metadata": {},
     "output_type": "execute_result"
    }
   ],
   "source": [
    "r2_score(Y_test,y_pred_probs)"
   ]
  },
  {
   "cell_type": "code",
   "execution_count": 51,
   "metadata": {},
   "outputs": [
    {
     "name": "stdout",
     "output_type": "stream",
     "text": [
      "[22:36:01] WARNING: C:/Jenkins/workspace/xgboost-win64_release_0.90/src/objective/regression_obj.cu:152: reg:linear is now deprecated in favor of reg:squarederror.\n"
     ]
    },
    {
     "data": {
      "text/plain": [
       "XGBRegressor(base_score=0.5, booster='gbtree', colsample_bylevel=1,\n",
       "             colsample_bynode=1, colsample_bytree=1, gamma=0,\n",
       "             importance_type='gain', learning_rate=0.1, max_delta_step=0,\n",
       "             max_depth=3, min_child_weight=1, missing=None, n_estimators=100,\n",
       "             n_jobs=1, nthread=None, objective='reg:linear', random_state=0,\n",
       "             reg_alpha=0, reg_lambda=1, scale_pos_weight=1, seed=None,\n",
       "             silent=None, subsample=1, verbosity=1, warm_start=True)"
      ]
     },
     "execution_count": 51,
     "metadata": {},
     "output_type": "execute_result"
    }
   ],
   "source": [
    "from xgboost import XGBRegressor\n",
    "xgb_model=XGBRegressor(warm_start=True)\n",
    "xgb_model.fit(X_train,Y_train)"
   ]
  },
  {
   "cell_type": "code",
   "execution_count": 52,
   "metadata": {},
   "outputs": [],
   "source": [
    "y_pred_probs = xgb_model.predict(X_test)"
   ]
  },
  {
   "cell_type": "code",
   "execution_count": 53,
   "metadata": {},
   "outputs": [
    {
     "data": {
      "text/plain": [
       "141.18363588466968"
      ]
     },
     "execution_count": 53,
     "metadata": {},
     "output_type": "execute_result"
    }
   ],
   "source": [
    "mean_squared_error(Y_test,y_pred_probs)"
   ]
  },
  {
   "cell_type": "code",
   "execution_count": 54,
   "metadata": {},
   "outputs": [
    {
     "data": {
      "text/plain": [
       "0.9506002274731552"
      ]
     },
     "execution_count": 54,
     "metadata": {},
     "output_type": "execute_result"
    }
   ],
   "source": [
    "r2_score(Y_test,y_pred_probs)"
   ]
  },
  {
   "cell_type": "code",
   "execution_count": 55,
   "metadata": {},
   "outputs": [
    {
     "data": {
      "text/plain": [
       "LGBMRegressor(boosting_type='gbdt', class_weight=None, colsample_bytree=1.0,\n",
       "              importance_type='split', learning_rate=0.1, max_depth=-1,\n",
       "              min_child_samples=20, min_child_weight=0.001, min_split_gain=0.0,\n",
       "              n_estimators=100, n_jobs=-1, num_leaves=31, objective=None,\n",
       "              random_state=None, reg_alpha=0.0, reg_lambda=0.0, silent=True,\n",
       "              subsample=1.0, subsample_for_bin=200000, subsample_freq=0,\n",
       "              warm_start=True)"
      ]
     },
     "execution_count": 55,
     "metadata": {},
     "output_type": "execute_result"
    }
   ],
   "source": [
    "from lightgbm import LGBMRegressor\n",
    "lgbm_model=LGBMRegressor(warm_start=True)\n",
    "lgbm_model.fit(X_train,Y_train)"
   ]
  },
  {
   "cell_type": "code",
   "execution_count": 56,
   "metadata": {},
   "outputs": [],
   "source": [
    "y_pred_probs = lgbm_model.predict(X_test)"
   ]
  },
  {
   "cell_type": "code",
   "execution_count": 57,
   "metadata": {},
   "outputs": [
    {
     "data": {
      "text/plain": [
       "135.39414570543954"
      ]
     },
     "execution_count": 57,
     "metadata": {},
     "output_type": "execute_result"
    }
   ],
   "source": [
    "mean_squared_error(Y_test,y_pred_probs)"
   ]
  },
  {
   "cell_type": "code",
   "execution_count": 58,
   "metadata": {},
   "outputs": [
    {
     "data": {
      "text/plain": [
       "0.9526259544358323"
      ]
     },
     "execution_count": 58,
     "metadata": {},
     "output_type": "execute_result"
    }
   ],
   "source": [
    "r2_score(Y_test,y_pred_probs)"
   ]
  }
 ],
 "metadata": {
  "kernelspec": {
   "display_name": "Python 3",
   "language": "python",
   "name": "python3"
  },
  "language_info": {
   "codemirror_mode": {
    "name": "ipython",
    "version": 3
   },
   "file_extension": ".py",
   "mimetype": "text/x-python",
   "name": "python",
   "nbconvert_exporter": "python",
   "pygments_lexer": "ipython3",
   "version": "3.7.3"
  }
 },
 "nbformat": 4,
 "nbformat_minor": 2
}
